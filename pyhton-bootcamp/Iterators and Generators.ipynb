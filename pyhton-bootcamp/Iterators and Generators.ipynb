{
 "cells": [
  {
   "cell_type": "markdown",
   "id": "2763c7c6",
   "metadata": {},
   "source": [
    "# Iterator\n"
   ]
  },
  {
   "cell_type": "markdown",
   "id": "8cf08c7e",
   "metadata": {},
   "source": [
    "## Iterator vs Iterable\n",
    "\n",
    "- <b> Iterator</b> : object that can be iterated upon. Object return data when next() called on object\n",
    "- <b> Iterable</b>:object will return Iterator when iter() is called on it"
   ]
  },
  {
   "cell_type": "code",
   "execution_count": 2,
   "id": "baefc80e",
   "metadata": {},
   "outputs": [
    {
     "ename": "TypeError",
     "evalue": "'str' object is not an iterator",
     "output_type": "error",
     "traceback": [
      "\u001b[1;31m---------------------------------------------------------------------------\u001b[0m",
      "\u001b[1;31mTypeError\u001b[0m                                 Traceback (most recent call last)",
      "\u001b[1;32m<ipython-input-2-49764cdc1d45>\u001b[0m in \u001b[0;36m<module>\u001b[1;34m\u001b[0m\n\u001b[0;32m      2\u001b[0m \u001b[1;31m# \"Hello\" - string is not iterator but its iterable\u001b[0m\u001b[1;33m\u001b[0m\u001b[1;33m\u001b[0m\u001b[1;33m\u001b[0m\u001b[0m\n\u001b[0;32m      3\u001b[0m \u001b[0ms\u001b[0m \u001b[1;33m=\u001b[0m \u001b[1;34m\"Hello\"\u001b[0m\u001b[1;33m\u001b[0m\u001b[1;33m\u001b[0m\u001b[0m\n\u001b[1;32m----> 4\u001b[1;33m \u001b[0mnext\u001b[0m\u001b[1;33m(\u001b[0m\u001b[0ms\u001b[0m\u001b[1;33m)\u001b[0m\u001b[1;33m\u001b[0m\u001b[1;33m\u001b[0m\u001b[0m\n\u001b[0m",
      "\u001b[1;31mTypeError\u001b[0m: 'str' object is not an iterator"
     ]
    }
   ],
   "source": [
    "# Ex:\n",
    "# \"Hello\" - string is not iterator but its iterable\n",
    "s = \"Hello\"\n",
    "next(s)"
   ]
  },
  {
   "cell_type": "code",
   "execution_count": 4,
   "id": "2f55f165",
   "metadata": {},
   "outputs": [
    {
     "data": {
      "text/plain": [
       "'H'"
      ]
     },
     "execution_count": 4,
     "metadata": {},
     "output_type": "execute_result"
    }
   ],
   "source": [
    "s_itr = iter(s)\n",
    "next(s_itr)"
   ]
  },
  {
   "cell_type": "code",
   "execution_count": 7,
   "id": "00e5a773",
   "metadata": {},
   "outputs": [
    {
     "ename": "StopIteration",
     "evalue": "",
     "output_type": "error",
     "traceback": [
      "\u001b[1;31m---------------------------------------------------------------------------\u001b[0m",
      "\u001b[1;31mStopIteration\u001b[0m                             Traceback (most recent call last)",
      "\u001b[1;32m<ipython-input-7-c73f423622c4>\u001b[0m in \u001b[0;36m<module>\u001b[1;34m\u001b[0m\n\u001b[1;32m----> 1\u001b[1;33m \u001b[0mnext\u001b[0m\u001b[1;33m(\u001b[0m\u001b[0ms_itr\u001b[0m\u001b[1;33m)\u001b[0m\u001b[1;33m\u001b[0m\u001b[1;33m\u001b[0m\u001b[0m\n\u001b[0m\u001b[0;32m      2\u001b[0m \u001b[0mnext\u001b[0m\u001b[1;33m(\u001b[0m\u001b[0ms_itr\u001b[0m\u001b[1;33m)\u001b[0m\u001b[1;33m\u001b[0m\u001b[1;33m\u001b[0m\u001b[0m\n\u001b[0;32m      3\u001b[0m \u001b[0mnext\u001b[0m\u001b[1;33m(\u001b[0m\u001b[0ms_itr\u001b[0m\u001b[1;33m)\u001b[0m\u001b[1;33m\u001b[0m\u001b[1;33m\u001b[0m\u001b[0m\n",
      "\u001b[1;31mStopIteration\u001b[0m: "
     ]
    }
   ],
   "source": [
    "next(s_itr)\n",
    "next(s_itr)\n",
    "next(s_itr)\n"
   ]
  },
  {
   "cell_type": "code",
   "execution_count": 9,
   "id": "216a1244",
   "metadata": {},
   "outputs": [],
   "source": [
    "def my_for(iterable, func):\n",
    "    iterator = iter(iterable)\n",
    "    while True:\n",
    "        try:\n",
    "            thing = next(iterator)\n",
    "        except StopIteration:\n",
    "            break\n",
    "        else:\n",
    "            func(thing)\n",
    "    \n",
    "        "
   ]
  },
  {
   "cell_type": "code",
   "execution_count": 10,
   "id": "7e5e9c6a",
   "metadata": {},
   "outputs": [
    {
     "name": "stdout",
     "output_type": "stream",
     "text": [
      "l\n",
      "o\n",
      "l\n"
     ]
    }
   ],
   "source": [
    "my_for(\"lol\", print)"
   ]
  },
  {
   "cell_type": "code",
   "execution_count": 19,
   "id": "87176eb1",
   "metadata": {},
   "outputs": [],
   "source": [
    "def square(num):\n",
    "    print(num*num) "
   ]
  },
  {
   "cell_type": "code",
   "execution_count": 20,
   "id": "57e5629f",
   "metadata": {},
   "outputs": [
    {
     "name": "stdout",
     "output_type": "stream",
     "text": [
      "1\n",
      "4\n",
      "9\n"
     ]
    }
   ],
   "source": [
    "my_for([1,2,3], square)"
   ]
  },
  {
   "cell_type": "markdown",
   "id": "1e8f234f",
   "metadata": {},
   "source": [
    "### Custom Iterator"
   ]
  },
  {
   "cell_type": "code",
   "execution_count": 22,
   "id": "4d74e361",
   "metadata": {},
   "outputs": [],
   "source": [
    "class Counter:\n",
    "    def __init__(self, low, high):\n",
    "        self.current = low\n",
    "        self.high = high\n",
    "    \n",
    "    def __iter__(self):\n",
    "        return self\n",
    "    \n",
    "    def __next__(self):\n",
    "        if self.current < self.high:\n",
    "            num = self.current\n",
    "            self.current += 1\n",
    "            return num\n",
    "        raise StopIteration\n",
    "    "
   ]
  },
  {
   "cell_type": "code",
   "execution_count": 25,
   "id": "142886c9",
   "metadata": {},
   "outputs": [
    {
     "name": "stdout",
     "output_type": "stream",
     "text": [
      "1 2 3 4 5 6 7 8 9 "
     ]
    }
   ],
   "source": [
    "for x in Counter(1,10):\n",
    "    print(x, end=\" \")"
   ]
  },
  {
   "cell_type": "markdown",
   "id": "8eb63e55",
   "metadata": {},
   "source": [
    "## Generator\n",
    "\n",
    "- Function - Generator Function\n",
    "- return - yeild\n",
    "- return once - yeild multiple times\n",
    "- when invoked return return value - returns a generator"
   ]
  },
  {
   "cell_type": "code",
   "execution_count": 38,
   "id": "af7caa7e",
   "metadata": {},
   "outputs": [],
   "source": [
    "def count_up_to(maxx):\n",
    "        count = 1\n",
    "        while count <=maxx:\n",
    "            yield count\n",
    "            count += 1"
   ]
  },
  {
   "cell_type": "code",
   "execution_count": 39,
   "id": "4facbe3c",
   "metadata": {},
   "outputs": [
    {
     "name": "stdout",
     "output_type": "stream",
     "text": [
      "<generator object count_up_to at 0x017EF760>\n"
     ]
    }
   ],
   "source": [
    "counter = count_up_to(5)\n",
    "print(counter)"
   ]
  },
  {
   "cell_type": "code",
   "execution_count": 40,
   "id": "dcdf2fa4",
   "metadata": {},
   "outputs": [],
   "source": [
    "class Counter:\n",
    "    def __init__(self, low, high):\n",
    "        self.current = low\n",
    "        self.high = high\n",
    "    \n",
    "    def __iter__(self):\n",
    "        return self\n",
    "    \n",
    "    def __next__(self):\n",
    "        if self.current < self.high:\n",
    "            num = self.current\n",
    "            self.current += 1\n",
    "            return num\n",
    "        raise StopIteration\n",
    "    \n",
    "    def count_up_to(self, maxx):\n",
    "        count = 1\n",
    "        while count <=maxx:\n",
    "            yield count\n",
    "            count += 1\n",
    "            "
   ]
  },
  {
   "cell_type": "code",
   "execution_count": 42,
   "id": "484ed116",
   "metadata": {},
   "outputs": [
    {
     "data": {
      "text/plain": [
       "1"
      ]
     },
     "execution_count": 42,
     "metadata": {},
     "output_type": "execute_result"
    }
   ],
   "source": [
    "grtr = Counter(2,3).count_up_to(5)\n",
    "type(grtr)\n",
    "next(grtr)"
   ]
  },
  {
   "cell_type": "code",
   "execution_count": 43,
   "id": "ef82f581",
   "metadata": {},
   "outputs": [
    {
     "name": "stdout",
     "output_type": "stream",
     "text": [
      "2\n",
      "3\n",
      "4\n",
      "5\n"
     ]
    }
   ],
   "source": [
    "for i in grtr:\n",
    "    print(i)"
   ]
  },
  {
   "cell_type": "code",
   "execution_count": 44,
   "id": "c2240ef0",
   "metadata": {},
   "outputs": [],
   "source": [
    "def yes_or_no():\n",
    "    answer = \"yes\"\n",
    "    while True:\n",
    "        yield answer\n",
    "        answer = \"no\" if answer == \"yes\" else \"yes\""
   ]
  },
  {
   "cell_type": "code",
   "execution_count": 47,
   "id": "fe62de6d",
   "metadata": {},
   "outputs": [],
   "source": [
    "# beat player\n",
    "\n",
    "def current_beat():\n",
    "    nums = [1,2,3]\n",
    "    i = 0\n",
    "    while True:\n",
    "        if i >= len(nums) : i=0\n",
    "        yield nums[i]\n",
    "        i += 1\n",
    "        "
   ]
  },
  {
   "cell_type": "code",
   "execution_count": 48,
   "id": "d773db0a",
   "metadata": {},
   "outputs": [],
   "source": [
    "beat = current_beat()"
   ]
  },
  {
   "cell_type": "code",
   "execution_count": 51,
   "id": "1d853640",
   "metadata": {},
   "outputs": [
    {
     "name": "stdout",
     "output_type": "stream",
     "text": [
      "1\n",
      "2\n",
      "3\n",
      "1\n",
      "2\n"
     ]
    }
   ],
   "source": [
    "print(next(beat))\n",
    "print(next(beat))\n",
    "print(next(beat))\n",
    "print(next(beat))\n",
    "print(next(beat))"
   ]
  },
  {
   "cell_type": "code",
   "execution_count": 63,
   "id": "d64ca27a",
   "metadata": {},
   "outputs": [
    {
     "ename": "SyntaxError",
     "evalue": "invalid syntax (<ipython-input-63-17fa7ef87669>, line 6)",
     "output_type": "error",
     "traceback": [
      "\u001b[1;36m  File \u001b[1;32m\"<ipython-input-63-17fa7ef87669>\"\u001b[1;36m, line \u001b[1;32m6\u001b[0m\n\u001b[1;33m    while(count=>2):\u001b[0m\n\u001b[1;37m               ^\u001b[0m\n\u001b[1;31mSyntaxError\u001b[0m\u001b[1;31m:\u001b[0m invalid syntax\n"
     ]
    }
   ],
   "source": [
    "def make_song(count=None, bevrage=None):\n",
    "    if not count and not bevrage:\n",
    "        yield \"99 bottles of soda on the wall\"\n",
    "    else:\n",
    "        print(count)\n",
    "        while(count=>2):\n",
    "            yield \"{} bottles of {} on the wall\".format(count, bevrage)\n",
    "            count -= 1\n",
    "        if count == 1:\n",
    "            yield \"Only {} bottles of {} on the wall\".format(count, bevrage)\n",
    "        elif count == 0:\n",
    "            yield \"No more {}\".format(bevrage)\n",
    "        else:\n",
    "            raise StopIteration(\"StopIteration\")"
   ]
  },
  {
   "cell_type": "code",
   "execution_count": 66,
   "id": "4ebce1f3",
   "metadata": {},
   "outputs": [],
   "source": [
    "def make_song(verses=99, beverage=\"soda\"):\n",
    "    for num in range(verses, -1, -1):\n",
    "        if num > 1:\n",
    "            yield \"{} bottles of {} on the wall.\".format(num, beverage)\n",
    "        elif num == 1:\n",
    "            yield \"Only 1 bottle of {} left!\".format(beverage)\n",
    "        else:\n",
    "            yield \"No more {}!\".format(beverage)"
   ]
  },
  {
   "cell_type": "code",
   "execution_count": 67,
   "id": "47e018b4",
   "metadata": {},
   "outputs": [
    {
     "name": "stdout",
     "output_type": "stream",
     "text": [
      "99 bottles of soda on the wall.\n"
     ]
    }
   ],
   "source": [
    "default_song = make_song()\n",
    "print(next(default_song))"
   ]
  },
  {
   "cell_type": "code",
   "execution_count": 68,
   "id": "9bd6ec71",
   "metadata": {},
   "outputs": [
    {
     "name": "stdout",
     "output_type": "stream",
     "text": [
      "5 bottles of kombucha_song on the wall.\n"
     ]
    }
   ],
   "source": [
    "kombucha_song = make_song(5,\"kombucha_song\")\n",
    "print(next(kombucha_song))"
   ]
  },
  {
   "cell_type": "code",
   "execution_count": 69,
   "id": "a9f9105f",
   "metadata": {},
   "outputs": [],
   "source": [
    "def fib_series(max):\n",
    "    x = 0\n",
    "    y = 1\n",
    "    count = 0\n",
    "    while  count<max:\n",
    "        x,y = y, x+y\n",
    "        yield x\n",
    "        count += 1\n",
    "        "
   ]
  },
  {
   "cell_type": "code",
   "execution_count": 70,
   "id": "7955504a",
   "metadata": {},
   "outputs": [
    {
     "name": "stdout",
     "output_type": "stream",
     "text": [
      "1\n",
      "1\n",
      "2\n",
      "3\n",
      "5\n",
      "8\n",
      "13\n",
      "21\n",
      "34\n",
      "55\n"
     ]
    }
   ],
   "source": [
    "for i in fib_series(10):\n",
    "    print(i)\n",
    "    "
   ]
  },
  {
   "cell_type": "code",
   "execution_count": null,
   "id": "3028529b",
   "metadata": {},
   "outputs": [],
   "source": [
    "'''\n",
    "sevens = get_unlimited_multiples(7)\n",
    "[next(sevens) for i in range(15)] \n",
    "# [7, 14, 21, 28, 35, 42, 49, 56, 63, 70, 77, 84, 91, 98, 105]\n",
    "\n",
    "ones = get_unlimited_multiples()\n",
    "[next(ones) for i in range(20)]\n",
    "# [1, 2, 3, 4, 5, 6, 7, 8, 9, 10, 11, 12, 13, 14, 15, 16, 17, 18, 19, 20]\n",
    "'''\n",
    "\n",
    "def get_unlimited_multiples(num=1):\n",
    "    pass"
   ]
  },
  {
   "cell_type": "code",
   "execution_count": null,
   "id": "de08fbd0",
   "metadata": {},
   "outputs": [],
   "source": []
  },
  {
   "cell_type": "code",
   "execution_count": null,
   "id": "95cf2348",
   "metadata": {},
   "outputs": [],
   "source": []
  },
  {
   "cell_type": "code",
   "execution_count": null,
   "id": "8e44bcec",
   "metadata": {},
   "outputs": [],
   "source": []
  }
 ],
 "metadata": {
  "kernelspec": {
   "display_name": "Python 3",
   "language": "python",
   "name": "python3"
  },
  "language_info": {
   "codemirror_mode": {
    "name": "ipython",
    "version": 3
   },
   "file_extension": ".py",
   "mimetype": "text/x-python",
   "name": "python",
   "nbconvert_exporter": "python",
   "pygments_lexer": "ipython3",
   "version": "3.8.3"
  }
 },
 "nbformat": 4,
 "nbformat_minor": 5
}
