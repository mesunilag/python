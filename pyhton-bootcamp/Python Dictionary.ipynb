{
 "cells": [
  {
   "cell_type": "markdown",
   "id": "e78bfc2f",
   "metadata": {},
   "source": [
    "## Dictionary"
   ]
  },
  {
   "cell_type": "code",
   "execution_count": 2,
   "id": "8002e191",
   "metadata": {},
   "outputs": [
    {
     "name": "stdout",
     "output_type": "stream",
     "text": [
      "{'name': 'Tom', 'age': 5}\n"
     ]
    }
   ],
   "source": [
    "# synatx 1\n",
    "\n",
    "dog = {\"name\":\"Tom\", \"age\":5 }\n",
    "print(dog)"
   ]
  },
  {
   "cell_type": "code",
   "execution_count": 4,
   "id": "38d293da",
   "metadata": {},
   "outputs": [
    {
     "name": "stdout",
     "output_type": "stream",
     "text": [
      "{'name': 'Tom', 'age': 6}\n"
     ]
    }
   ],
   "source": [
    "# syntax 2\n",
    "\n",
    "dog = dict(name=\"Tom\", age=6)\n",
    "print(dog)"
   ]
  },
  {
   "cell_type": "code",
   "execution_count": 6,
   "id": "c632f9f9",
   "metadata": {},
   "outputs": [
    {
     "name": "stdout",
     "output_type": "stream",
     "text": [
      "Tom\n"
     ]
    }
   ],
   "source": [
    "print(dog[\"name\"])"
   ]
  },
  {
   "cell_type": "markdown",
   "id": "ad4fe7ac",
   "metadata": {},
   "source": [
    "## Iterating Dict\n",
    "\n",
    "- keys() : returns list of keys in a dict\n",
    "- values() : returns all values in a dict\n",
    "- items() : returns (k,v) pairs"
   ]
  },
  {
   "cell_type": "code",
   "execution_count": 12,
   "id": "45eb8015",
   "metadata": {},
   "outputs": [
    {
     "name": "stdout",
     "output_type": "stream",
     "text": [
      "Tom\n",
      "6\n",
      "Tom\n",
      "6\n"
     ]
    }
   ],
   "source": [
    "# iterating dictionaries\n",
    "\n",
    "for key in dog.keys():\n",
    "    print(dog[key])\n",
    "    \n",
    "for value in dog.values():\n",
    "    print(value)\n",
    "    "
   ]
  },
  {
   "cell_type": "code",
   "execution_count": 15,
   "id": "c0125277",
   "metadata": {},
   "outputs": [
    {
     "name": "stdout",
     "output_type": "stream",
     "text": [
      "dict_items([('name', 'Tom'), ('age', 6)])\n",
      "('name', 'Tom')\n",
      "('age', 6)\n",
      "name-Tom\n",
      "age-6\n"
     ]
    }
   ],
   "source": [
    "# items\n",
    "\n",
    "dogs = dog.items()\n",
    "print(dogs)\n",
    "\n",
    "for d in dogs:\n",
    "    print(d)\n",
    "    \n",
    "for k,v in dogs:\n",
    "    print(f\"{k}-{v}\")"
   ]
  },
  {
   "cell_type": "code",
   "execution_count": 17,
   "id": "3e97e1fe",
   "metadata": {},
   "outputs": [
    {
     "name": "stdout",
     "output_type": "stream",
     "text": [
      "436.74\n"
     ]
    }
   ],
   "source": [
    "# DON'T TOUCH PLEASE!\n",
    "donations = dict(sam=25.0, lena=88.99, chuck=13.0, linus=99.5, stan=150.0, lisa=50.25, harrison=10.0)\n",
    "# DON'T TOUCH PLEASE!\n",
    "\n",
    "\n",
    "# Use a loop to add together all the donations and store the resulting number in a variable called total_donations\n",
    "total_donations = 0\n",
    "for v in donations.values():\n",
    "    total_donations += v\n",
    "    \n",
    "print(total_donations)"
   ]
  },
  {
   "cell_type": "code",
   "execution_count": 45,
   "id": "27d7b145",
   "metadata": {},
   "outputs": [
    {
     "name": "stdout",
     "output_type": "stream",
     "text": [
      "Tom\n",
      "Yo\n"
     ]
    }
   ],
   "source": [
    "dog = {\"name\":\"Tom\", \"age\":5 }\n",
    "\n",
    "# check if key exist\n",
    "if \"name\" in dog:\n",
    "    print(dog[\"name\"])\n",
    "    \n",
    "# check if value exist\n",
    "if \"Tom\" in dog.values():\n",
    "    print(\"Yo\")"
   ]
  },
  {
   "cell_type": "markdown",
   "id": "2f483a0c",
   "metadata": {},
   "source": [
    "## Dictionanry Methods\n",
    "\n",
    "- clear() : clears / empy dict\n",
    "- copy() : copy to another dict\n",
    "- fromkeys(key-collection,value) : creates new dict with key value\n",
    "- get(key) : returns value if present else None\n",
    "- pop(key) : removes k,v from dict\n",
    "- popitem() : removes random item from dict and returns it\n",
    "- update(dict) : merge two dict"
   ]
  },
  {
   "cell_type": "code",
   "execution_count": 48,
   "id": "9a4414e8",
   "metadata": {
    "scrolled": false
   },
   "outputs": [
    {
     "name": "stdout",
     "output_type": "stream",
     "text": [
      "{'name': 'Tom', 'age': 5}\n",
      "d==dog True\n",
      "d is dog False\n",
      "d = {'name': 'Tom', 'age': 5}\n",
      "dog = {'name': 'Tom', 'age': 5}\n",
      "dog = {'name': 'Tom'}\n",
      "dog = {'name': 'Tom', 'age': 8}\n"
     ]
    }
   ],
   "source": [
    "dog = {\"name\":\"Tom\", \"age\":5 }\n",
    "\n",
    "d = dog.copy()\n",
    "print(d)\n",
    "print(f\"d==dog {d==dog}\")\n",
    "print(f\"d is dog {d is dog}\")\n",
    "#d.clear()\n",
    "print(f\"d = {d}\")\n",
    "print(f\"dog = {dog}\")\n",
    "dog.pop(\"age\")\n",
    "print(f\"dog = {dog}\")\n",
    "dog.update({\"age\":8})\n",
    "print(f\"dog = {dog}\")"
   ]
  },
  {
   "cell_type": "code",
   "execution_count": null,
   "id": "34b1ce91",
   "metadata": {},
   "outputs": [],
   "source": []
  },
  {
   "cell_type": "code",
   "execution_count": 28,
   "id": "44ba1564",
   "metadata": {},
   "outputs": [
    {
     "name": "stdout",
     "output_type": "stream",
     "text": [
      "{'name': 'unknown', 'age': 'unknown', 'mobile': 'unknown'}\n"
     ]
    }
   ],
   "source": [
    "# fromkeys()\n",
    "new_user = {}.fromkeys(['name','age','mobile'],\"unknown\")\n",
    "print(new_user)\n"
   ]
  },
  {
   "cell_type": "code",
   "execution_count": 36,
   "id": "97b0d962",
   "metadata": {},
   "outputs": [
    {
     "name": "stdout",
     "output_type": "stream",
     "text": [
      "25 left\n",
      "25 left\n"
     ]
    }
   ],
   "source": [
    "# This code picks a random food item:\n",
    "from random import choice #DON'T CHANGE!\n",
    "food = choice([\"cheese pizza\", \"quiche\",\"morning bun\",\"gummy bear\",\"tea cake\"]) #DON'T CHANGE!\n",
    "\n",
    "#DON'T CHANGE THIS DICTIONARY EITHER!\n",
    "bakery_stock = {\n",
    "    \"almond croissant\" : 12,\n",
    "    \"toffee cookie\": 3,\n",
    "    \"morning bun\": 1,\n",
    "    \"chocolate chunk cookie\": 9,\n",
    "    \"tea cake\": 25\n",
    "}\n",
    "\n",
    "# YOUR CODE GOES BELOW:\n",
    "if food in bakery_stock:\n",
    "    print(f\"{bakery_stock[food]} left\")\n",
    "else:\n",
    "    print(\"We don't make that\")\n",
    "    \n",
    "# or\n",
    "\n",
    "quantity = bakery_stock.get(food)\n",
    "\n",
    "if quantity is not None:\n",
    "        print(\"{} left\".format(quantity))\n",
    "else:\n",
    "    print(\"We don't make that\")"
   ]
  },
  {
   "cell_type": "code",
   "execution_count": 39,
   "id": "156ca8cf",
   "metadata": {},
   "outputs": [
    {
     "name": "stdout",
     "output_type": "stream",
     "text": [
      "{'current_score': 0, 'high_score': 0, 'number_of_lives': 0, 'items_in_inventory': 0, 'power_ups': 0, 'ammo': 0, 'enemies_on_screen': 0, 'enemy_kills': 0, 'enemy_kill_streaks': 0, 'minutes_played': 0, 'notifications': 0, 'achievements': 0}\n"
     ]
    }
   ],
   "source": [
    "#DO NOT TOUCH game_properties!\n",
    "game_properties = [\"current_score\", \"high_score\", \"number_of_lives\", \"items_in_inventory\", \"power_ups\", \"ammo\", \"enemies_on_screen\", \"enemy_kills\", \"enemy_kill_streaks\", \"minutes_played\", \"notifications\", \"achievements\"] \n",
    "\n",
    "# Use the game_properties list and dict.fromkeys() to generate a dictionary with all values set to 0. Save the result to a variable called initial_game_state\n",
    "initial_game_state = {}.fromkeys(game_properties,0)\n",
    "\n",
    "print(initial_game_state)"
   ]
  },
  {
   "cell_type": "code",
   "execution_count": 50,
   "id": "52c5c7ab",
   "metadata": {},
   "outputs": [
    {
     "name": "stdout",
     "output_type": "stream",
     "text": [
      "{'croissant': 19, 'bagel': 4, 'muffin': 8, 'cookie': 18}\n"
     ]
    }
   ],
   "source": [
    "inventory = {'croissant': 19, 'bagel': 4, 'muffin': 8, 'cake': 1} #DON'T CHANGE THIS LINE!\n",
    "\n",
    "# Make a copy of inventory and save it to a variable called stock_list USE A DICTIONARY METHOD\n",
    "\n",
    "stock_list = inventory.copy()\n",
    "\n",
    "# add the value 18 to stock_list under the key \"cookie\"\n",
    "\n",
    "#stock_list[\"cookie\"] = 18\n",
    "stock_list.update({\"cookie\":18})\n",
    "\n",
    "# remove 'cake' from stock_list USE A DICTIONARY METHOD\n",
    "stock_list.pop(\"cake\")\n",
    "\n",
    "print(stock_list)"
   ]
  },
  {
   "cell_type": "markdown",
   "id": "27bedae7",
   "metadata": {},
   "source": [
    "### Spotify playlist exapmle"
   ]
  },
  {
   "cell_type": "code",
   "execution_count": 54,
   "id": "0086ae45",
   "metadata": {},
   "outputs": [
    {
     "name": "stdout",
     "output_type": "stream",
     "text": [
      "{'title': 'YoYoSongs', 'author': 'Sunil', 'songs': [{'title': 'Bulleya', 'artist': ['Arijit', 'Sharma'], 'album': 'ADHM', 'date': '10-10-2020', 'playtime': 5.9}, {'title': 'Bulleya2', 'artist': ['Arijit2', 'Sharma2'], 'album': 'ADHM', 'date': '10-10-2020', 'playtime': 5.9}]}\n",
      "11.8\n"
     ]
    }
   ],
   "source": [
    "# playlist_name = \"\"\n",
    "# created_by = \"\"\n",
    "# song = {\"title\":\"\",\"artist\":[],\"album\":\"\",\"date\":\"\",\"playtime\":}\n",
    "# songs = [s]\n",
    "\n",
    "playlist = {\n",
    "    \"title\":\"YoYoSongs\",\n",
    "    \"author\":\"Sunil\",\n",
    "    \"songs\":[\n",
    "        {\"title\":\"Bulleya\",\"artist\":[\"Arijit\",\"Sharma\"],\"album\":\"ADHM\",\"date\":\"10-10-2020\",\"playtime\":5.9},\n",
    "        {\"title\":\"Bulleya2\",\"artist\":[\"Arijit2\",\"Sharma2\"],\"album\":\"ADHM\",\"date\":\"10-10-2020\",\"playtime\":5.9}\n",
    "    ]\n",
    "}\n",
    "\n",
    "print(playlist)\n",
    "\n",
    "playlist_time = 0\n",
    "for song in playlist['songs']:\n",
    "    playlist_time += song[\"playtime\"]\n",
    "    \n",
    "print(playlist_time)\n",
    "\n"
   ]
  },
  {
   "cell_type": "markdown",
   "id": "2fdba2b7",
   "metadata": {},
   "source": [
    "## Dict Comprehensions\n"
   ]
  },
  {
   "cell_type": "code",
   "execution_count": 57,
   "id": "6187ed63",
   "metadata": {},
   "outputs": [
    {
     "name": "stdout",
     "output_type": "stream",
     "text": [
      "{'first': 1, 'second': 4, 'third': 9}\n"
     ]
    }
   ],
   "source": [
    "\n",
    "numbers = dict(first=1, second=2, third=3)\n",
    "\n",
    "sqr_nums = {k:v*v for k,v in numbers.items()}\n",
    "print(sqr_nums)"
   ]
  },
  {
   "cell_type": "code",
   "execution_count": 60,
   "id": "ef1ecc6f",
   "metadata": {},
   "outputs": [
    {
     "data": {
      "text/plain": [
       "{1: 1, 2: 4, 3: 9}"
      ]
     },
     "execution_count": 60,
     "metadata": {},
     "output_type": "execute_result"
    }
   ],
   "source": [
    "\n",
    "{n:n*n for n in [1,2,3]}"
   ]
  },
  {
   "cell_type": "code",
   "execution_count": 62,
   "id": "d26e82db",
   "metadata": {},
   "outputs": [
    {
     "data": {
      "text/plain": [
       "{'A': '1', 'B': '2', 'C': '3'}"
      ]
     },
     "execution_count": 62,
     "metadata": {},
     "output_type": "execute_result"
    }
   ],
   "source": [
    "s1 = \"ABC\"\n",
    "s2 = \"123\"\n",
    "\n",
    "{s1[i]:s2[i] for i in range(0,len(s1))}"
   ]
  },
  {
   "cell_type": "code",
   "execution_count": 64,
   "id": "06845b35",
   "metadata": {},
   "outputs": [
    {
     "data": {
      "text/plain": [
       "{'NAME': 'John', 'CITY': 'Pune', 'COUNTRY': 'India'}"
      ]
     },
     "execution_count": 64,
     "metadata": {},
     "output_type": "execute_result"
    }
   ],
   "source": [
    "person = {\"name\":\"John\", \"city\":\"pune\", \"country\":\"india\"}\n",
    "\n",
    "{k.upper():v[0].upper()+v[1:] for k,v in person.items()}"
   ]
  },
  {
   "cell_type": "code",
   "execution_count": 65,
   "id": "7dfc3fdd",
   "metadata": {},
   "outputs": [
    {
     "data": {
      "text/plain": [
       "{0: 'even', 1: 'odd', 2: 'even', 3: 'odd', 4: 'even'}"
      ]
     },
     "execution_count": 65,
     "metadata": {},
     "output_type": "execute_result"
    }
   ],
   "source": [
    "nums = list(range(0,5))\n",
    "\n",
    "{n:\"even\" if n%2==0 else \"odd\" for n in nums}"
   ]
  },
  {
   "cell_type": "markdown",
   "id": "380e0c82",
   "metadata": {},
   "source": [
    "### State Abbreviations"
   ]
  },
  {
   "cell_type": "code",
   "execution_count": 67,
   "id": "83c11104",
   "metadata": {},
   "outputs": [
    {
     "name": "stdout",
     "output_type": "stream",
     "text": [
      "{'CA': 'California', 'NJ': 'New Jersey', 'RI': 'Rhode Island'}\n"
     ]
    }
   ],
   "source": [
    "list1 = [\"CA\", \"NJ\", \"RI\"]\n",
    "list2 = [\"California\", \"New Jersey\", \"Rhode Island\"]\n",
    "\n",
    "# make sure your solution is assigned to the answer variable so the tests can work!\n",
    "answer = {list1[i]:list2[i] for i in range(0,len(list1))}\n",
    "print(answer)"
   ]
  },
  {
   "cell_type": "code",
   "execution_count": 70,
   "id": "08214abc",
   "metadata": {},
   "outputs": [
    {
     "name": "stdout",
     "output_type": "stream",
     "text": [
      "{'name': 'Jared', 'job': 'Musician', 'city': 'Bern'}\n"
     ]
    }
   ],
   "source": [
    "# List to dictionary\n",
    "\n",
    "person = [[\"name\", \"Jared\"], [\"job\", \"Musician\"], [\"city\", \"Bern\"]]\n",
    "\n",
    "# use the person variable in your answer\n",
    "answer = {p[0]:p[1] for p in person}\n",
    "print(answer)\n"
   ]
  },
  {
   "cell_type": "code",
   "execution_count": 71,
   "id": "f35e9411",
   "metadata": {},
   "outputs": [
    {
     "data": {
      "text/plain": [
       "{'a': 0, 'e': 0, 'i': 0, 'o': 0, 'u': 0}"
      ]
     },
     "execution_count": 71,
     "metadata": {},
     "output_type": "execute_result"
    }
   ],
   "source": [
    "{char:0 for char in \"aeiou\"}"
   ]
  },
  {
   "cell_type": "code",
   "execution_count": 74,
   "id": "de236f59",
   "metadata": {},
   "outputs": [
    {
     "data": {
      "text/plain": [
       "{65: 'A',\n",
       " 66: 'B',\n",
       " 67: 'C',\n",
       " 68: 'D',\n",
       " 69: 'E',\n",
       " 70: 'F',\n",
       " 71: 'G',\n",
       " 72: 'H',\n",
       " 73: 'I',\n",
       " 74: 'J',\n",
       " 75: 'K',\n",
       " 76: 'L',\n",
       " 77: 'M',\n",
       " 78: 'N',\n",
       " 79: 'O',\n",
       " 80: 'P',\n",
       " 81: 'Q',\n",
       " 82: 'R',\n",
       " 83: 'S',\n",
       " 84: 'T',\n",
       " 85: 'U',\n",
       " 86: 'V',\n",
       " 87: 'W',\n",
       " 88: 'X',\n",
       " 89: 'Y',\n",
       " 90: 'Z'}"
      ]
     },
     "execution_count": 74,
     "metadata": {},
     "output_type": "execute_result"
    }
   ],
   "source": [
    "{c:chr(c) for c in range(65,91)}"
   ]
  },
  {
   "cell_type": "code",
   "execution_count": 1,
   "id": "59216c60",
   "metadata": {},
   "outputs": [
    {
     "ename": "KeyError",
     "evalue": "0",
     "output_type": "error",
     "traceback": [
      "\u001b[1;31m---------------------------------------------------------------------------\u001b[0m",
      "\u001b[1;31mKeyError\u001b[0m                                  Traceback (most recent call last)",
      "\u001b[1;32m<ipython-input-1-a7650b2ae1e7>\u001b[0m in \u001b[0;36m<module>\u001b[1;34m\u001b[0m\n\u001b[0;32m      1\u001b[0m \u001b[0mperson\u001b[0m \u001b[1;33m=\u001b[0m \u001b[1;33m{\u001b[0m\u001b[1;34m\"name\"\u001b[0m\u001b[1;33m:\u001b[0m\u001b[1;34m\"John\"\u001b[0m\u001b[1;33m,\u001b[0m \u001b[1;34m\"city\"\u001b[0m\u001b[1;33m:\u001b[0m\u001b[1;34m\"pune\"\u001b[0m\u001b[1;33m,\u001b[0m \u001b[1;34m\"country\"\u001b[0m\u001b[1;33m:\u001b[0m\u001b[1;34m\"india\"\u001b[0m\u001b[1;33m}\u001b[0m\u001b[1;33m\u001b[0m\u001b[1;33m\u001b[0m\u001b[0m\n\u001b[1;32m----> 2\u001b[1;33m \u001b[0mprint\u001b[0m\u001b[1;33m(\u001b[0m\u001b[0mperson\u001b[0m\u001b[1;33m[\u001b[0m\u001b[1;36m0\u001b[0m\u001b[1;33m]\u001b[0m\u001b[1;33m)\u001b[0m\u001b[1;33m\u001b[0m\u001b[1;33m\u001b[0m\u001b[0m\n\u001b[0m",
      "\u001b[1;31mKeyError\u001b[0m: 0"
     ]
    }
   ],
   "source": [
    "person = {\"name\":\"John\", \"city\":\"pune\", \"country\":\"india\"}\n",
    "print(person)"
   ]
  },
  {
   "cell_type": "code",
   "execution_count": 3,
   "id": "feb4d6bc",
   "metadata": {},
   "outputs": [
    {
     "name": "stdout",
     "output_type": "stream",
     "text": [
      "{'CA': 'California', 'NJ': 'New Jersey', 'RI': 'Rhode Island'}\n"
     ]
    }
   ],
   "source": [
    "list1 = [\"CA\", \"NJ\", \"RI\"]\n",
    "list2 = [\"California\", \"New Jersey\", \"Rhode Island\"]\n",
    "\n",
    "print({list1[k]:list2[k] for k in range(0,len(list1))})"
   ]
  },
  {
   "cell_type": "code",
   "execution_count": null,
   "id": "d7ff5506",
   "metadata": {},
   "outputs": [],
   "source": []
  }
 ],
 "metadata": {
  "kernelspec": {
   "display_name": "Python 3",
   "language": "python",
   "name": "python3"
  },
  "language_info": {
   "codemirror_mode": {
    "name": "ipython",
    "version": 3
   },
   "file_extension": ".py",
   "mimetype": "text/x-python",
   "name": "python",
   "nbconvert_exporter": "python",
   "pygments_lexer": "ipython3",
   "version": "3.8.3"
  }
 },
 "nbformat": 4,
 "nbformat_minor": 5
}
