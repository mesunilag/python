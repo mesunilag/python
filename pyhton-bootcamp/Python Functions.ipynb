{
 "cells": [
  {
   "cell_type": "markdown",
   "id": "b78fb612",
   "metadata": {},
   "source": [
    "# Functions\n",
    "\n",
    "- syntax\n",
    " <br> def fun_name(args):\n",
    "        "
   ]
  },
  {
   "cell_type": "code",
   "execution_count": 4,
   "id": "5f181d1b",
   "metadata": {},
   "outputs": [
    {
     "name": "stdout",
     "output_type": "stream",
     "text": [
      "hi\n"
     ]
    }
   ],
   "source": [
    "def say_hi():\n",
    "    print(\"hi\")\n",
    "say_hi()"
   ]
  },
  {
   "cell_type": "code",
   "execution_count": 5,
   "id": "5b469396",
   "metadata": {},
   "outputs": [
    {
     "name": "stdout",
     "output_type": "stream",
     "text": [
      "4\n"
     ]
    }
   ],
   "source": [
    "# returning vaues\n",
    "\n",
    "def square(n):\n",
    "    return n**2\n",
    "\n",
    "print(square(2))"
   ]
  },
  {
   "cell_type": "code",
   "execution_count": 15,
   "id": "27602fc6",
   "metadata": {},
   "outputs": [
    {
     "name": "stdout",
     "output_type": "stream",
     "text": [
      "Tail\n"
     ]
    }
   ],
   "source": [
    "# flip flop fuction\n",
    "from random import choice\n",
    "\n",
    "def coin_flip():\n",
    "    return choice([\"Head\",\"Tail\"])\n",
    "\n",
    "print(coin_flip())"
   ]
  },
  {
   "cell_type": "code",
   "execution_count": 26,
   "id": "4921b709",
   "metadata": {},
   "outputs": [
    {
     "name": "stdout",
     "output_type": "stream",
     "text": [
      "[2, 4, 6, 8, 10, 12, 14, 16, 18, 20, 22, 24, 26, 28, 30, 32, 34, 36, 38, 40, 42, 44, 46, 48]\n"
     ]
    }
   ],
   "source": [
    "# function that return even numbers between 1 to 50\n",
    "\n",
    "def generate_evens():\n",
    "    return [n for n in range(1,50) if n%2 == 0 ]\n",
    "\n",
    "print(generate_evens())"
   ]
  },
  {
   "cell_type": "code",
   "execution_count": 28,
   "id": "9f2f0139",
   "metadata": {},
   "outputs": [
    {
     "name": "stdout",
     "output_type": "stream",
     "text": [
      "4\n",
      "9\n"
     ]
    }
   ],
   "source": [
    "#parametrized function\n",
    "\n",
    "def square(n):\n",
    "    return n**2\n",
    "\n",
    "print(square(2))\n",
    "print(square(3))"
   ]
  },
  {
   "cell_type": "code",
   "execution_count": 29,
   "id": "65db0d0d",
   "metadata": {},
   "outputs": [
    {
     "name": "stdout",
     "output_type": "stream",
     "text": [
      "Sunil Gaikwad\n"
     ]
    }
   ],
   "source": [
    "# full name\n",
    "\n",
    "def get_fullname(first_name, last_name):\n",
    "    return f\"{first_name} {last_name}\"\n",
    "\n",
    "print(get_fullname(\"Sunil\", \"Gaikwad\"))"
   ]
  },
  {
   "cell_type": "code",
   "execution_count": 32,
   "id": "dad49e91",
   "metadata": {},
   "outputs": [
    {
     "name": "stdout",
     "output_type": "stream",
     "text": [
      "HMMM!\n"
     ]
    }
   ],
   "source": [
    "def yell(string):\n",
    "    return \"{}!\".format(string.upper())\n",
    "\n",
    "print(yell(\"Hmmm\"))"
   ]
  },
  {
   "cell_type": "code",
   "execution_count": 33,
   "id": "7dddc09e",
   "metadata": {},
   "outputs": [
    {
     "name": "stdout",
     "output_type": "stream",
     "text": [
      "8\n",
      "4\n"
     ]
    }
   ],
   "source": [
    "# default arg values\n",
    "\n",
    "def exponent(num, power=2):\n",
    "    return num ** power\n",
    "\n",
    "print(exponent(2,3))\n",
    "print(exponent(2))"
   ]
  },
  {
   "cell_type": "code",
   "execution_count": 38,
   "id": "14917a5d",
   "metadata": {},
   "outputs": [
    {
     "name": "stdout",
     "output_type": "stream",
     "text": [
      "4\n",
      "0\n",
      "-1\n"
     ]
    }
   ],
   "source": [
    "# function as arg\n",
    "\n",
    "def add(a, b):\n",
    "    return a+b\n",
    "\n",
    "def subtract(a, b):\n",
    "    return a-b\n",
    "\n",
    "def math(a, b, fn=add):\n",
    "    return fn(a,b)\n",
    "\n",
    "print(math(2,2))\n",
    "print(math(3,3,subtract))\n",
    "print(math(fn=subtract, b=2, a=1)) # keyword args"
   ]
  },
  {
   "cell_type": "code",
   "execution_count": 39,
   "id": "6bb8d1b8",
   "metadata": {},
   "outputs": [
    {
     "ename": "TypeError",
     "evalue": "'int' object is not callable",
     "output_type": "error",
     "traceback": [
      "\u001b[1;31m---------------------------------------------------------------------------\u001b[0m",
      "\u001b[1;31mTypeError\u001b[0m                                 Traceback (most recent call last)",
      "\u001b[1;32m<ipython-input-39-7d3ad2e7a4df>\u001b[0m in \u001b[0;36m<module>\u001b[1;34m\u001b[0m\n\u001b[1;32m----> 1\u001b[1;33m \u001b[0mprint\u001b[0m\u001b[1;33m(\u001b[0m\u001b[0mmath\u001b[0m\u001b[1;33m(\u001b[0m\u001b[0msubtract\u001b[0m\u001b[1;33m,\u001b[0m\u001b[1;36m3\u001b[0m\u001b[1;33m,\u001b[0m\u001b[1;36m3\u001b[0m\u001b[1;33m)\u001b[0m\u001b[1;33m)\u001b[0m\u001b[1;33m\u001b[0m\u001b[1;33m\u001b[0m\u001b[0m\n\u001b[0m",
      "\u001b[1;32m<ipython-input-38-ab3b8856f5f6>\u001b[0m in \u001b[0;36mmath\u001b[1;34m(a, b, fn)\u001b[0m\n\u001b[0;32m      8\u001b[0m \u001b[1;33m\u001b[0m\u001b[0m\n\u001b[0;32m      9\u001b[0m \u001b[1;32mdef\u001b[0m \u001b[0mmath\u001b[0m\u001b[1;33m(\u001b[0m\u001b[0ma\u001b[0m\u001b[1;33m,\u001b[0m \u001b[0mb\u001b[0m\u001b[1;33m,\u001b[0m \u001b[0mfn\u001b[0m\u001b[1;33m=\u001b[0m\u001b[0madd\u001b[0m\u001b[1;33m)\u001b[0m\u001b[1;33m:\u001b[0m\u001b[1;33m\u001b[0m\u001b[1;33m\u001b[0m\u001b[0m\n\u001b[1;32m---> 10\u001b[1;33m     \u001b[1;32mreturn\u001b[0m \u001b[0mfn\u001b[0m\u001b[1;33m(\u001b[0m\u001b[0ma\u001b[0m\u001b[1;33m,\u001b[0m\u001b[0mb\u001b[0m\u001b[1;33m)\u001b[0m\u001b[1;33m\u001b[0m\u001b[1;33m\u001b[0m\u001b[0m\n\u001b[0m\u001b[0;32m     11\u001b[0m \u001b[1;33m\u001b[0m\u001b[0m\n\u001b[0;32m     12\u001b[0m \u001b[0mprint\u001b[0m\u001b[1;33m(\u001b[0m\u001b[0mmath\u001b[0m\u001b[1;33m(\u001b[0m\u001b[1;36m2\u001b[0m\u001b[1;33m,\u001b[0m\u001b[1;36m2\u001b[0m\u001b[1;33m)\u001b[0m\u001b[1;33m)\u001b[0m\u001b[1;33m\u001b[0m\u001b[1;33m\u001b[0m\u001b[0m\n",
      "\u001b[1;31mTypeError\u001b[0m: 'int' object is not callable"
     ]
    }
   ],
   "source": [
    "print(math(subtract,3,3))"
   ]
  },
  {
   "cell_type": "code",
   "execution_count": null,
   "id": "f781b745",
   "metadata": {},
   "outputs": [],
   "source": [
    "# keyword arguments\n",
    "\n",
    "print(math(fn=subtract, b=2, a=1))\n"
   ]
  },
  {
   "cell_type": "markdown",
   "id": "de4ecfc3",
   "metadata": {},
   "source": [
    "## Function Scope\n",
    "\n",
    "- variables created in function cant be accessed outside function\n",
    "- we can print gloabl vars inside function directly\n",
    "- outside vars cannot be manipulated inside function directly, but can be accessed using <b>global</b> keyword, by redaclring variable with global keyword inside function\n",
    "- <b>nonlocal </b> keyword allows to modify parent fun variable"
   ]
  },
  {
   "cell_type": "code",
   "execution_count": 42,
   "id": "82ecce99",
   "metadata": {},
   "outputs": [
    {
     "name": "stdout",
     "output_type": "stream",
     "text": [
      "Hi Sunil\n"
     ]
    },
    {
     "ename": "NameError",
     "evalue": "name 'name' is not defined",
     "output_type": "error",
     "traceback": [
      "\u001b[1;31m---------------------------------------------------------------------------\u001b[0m",
      "\u001b[1;31mNameError\u001b[0m                                 Traceback (most recent call last)",
      "\u001b[1;32m<ipython-input-42-48198df524cd>\u001b[0m in \u001b[0;36m<module>\u001b[1;34m\u001b[0m\n\u001b[0;32m      4\u001b[0m \u001b[1;33m\u001b[0m\u001b[0m\n\u001b[0;32m      5\u001b[0m \u001b[0mprint\u001b[0m\u001b[1;33m(\u001b[0m\u001b[0msay_hi\u001b[0m\u001b[1;33m(\u001b[0m\u001b[1;33m)\u001b[0m\u001b[1;33m)\u001b[0m\u001b[1;33m\u001b[0m\u001b[1;33m\u001b[0m\u001b[0m\n\u001b[1;32m----> 6\u001b[1;33m \u001b[0mprint\u001b[0m\u001b[1;33m(\u001b[0m\u001b[0mname\u001b[0m\u001b[1;33m)\u001b[0m\u001b[1;33m\u001b[0m\u001b[1;33m\u001b[0m\u001b[0m\n\u001b[0m",
      "\u001b[1;31mNameError\u001b[0m: name 'name' is not defined"
     ]
    }
   ],
   "source": [
    "def say_hi():\n",
    "    name = \"Sunil\"\n",
    "    return f\"Hi {name}\"\n",
    "\n",
    "print(say_hi())\n",
    "print(name)"
   ]
  },
  {
   "cell_type": "code",
   "execution_count": 43,
   "id": "689b9081",
   "metadata": {},
   "outputs": [
    {
     "ename": "UnboundLocalError",
     "evalue": "local variable 'total' referenced before assignment",
     "output_type": "error",
     "traceback": [
      "\u001b[1;31m---------------------------------------------------------------------------\u001b[0m",
      "\u001b[1;31mUnboundLocalError\u001b[0m                         Traceback (most recent call last)",
      "\u001b[1;32m<ipython-input-43-a53d7b622e76>\u001b[0m in \u001b[0;36m<module>\u001b[1;34m\u001b[0m\n\u001b[0;32m      7\u001b[0m     \u001b[1;32mreturn\u001b[0m \u001b[0mtotal\u001b[0m\u001b[1;33m\u001b[0m\u001b[1;33m\u001b[0m\u001b[0m\n\u001b[0;32m      8\u001b[0m \u001b[1;33m\u001b[0m\u001b[0m\n\u001b[1;32m----> 9\u001b[1;33m \u001b[0mincrement\u001b[0m\u001b[1;33m(\u001b[0m\u001b[1;33m)\u001b[0m\u001b[1;33m\u001b[0m\u001b[1;33m\u001b[0m\u001b[0m\n\u001b[0m",
      "\u001b[1;32m<ipython-input-43-a53d7b622e76>\u001b[0m in \u001b[0;36mincrement\u001b[1;34m()\u001b[0m\n\u001b[0;32m      4\u001b[0m \u001b[1;33m\u001b[0m\u001b[0m\n\u001b[0;32m      5\u001b[0m \u001b[1;32mdef\u001b[0m \u001b[0mincrement\u001b[0m\u001b[1;33m(\u001b[0m\u001b[1;33m)\u001b[0m\u001b[1;33m:\u001b[0m\u001b[1;33m\u001b[0m\u001b[1;33m\u001b[0m\u001b[0m\n\u001b[1;32m----> 6\u001b[1;33m     \u001b[0mtotal\u001b[0m \u001b[1;33m+=\u001b[0m \u001b[1;36m1\u001b[0m\u001b[1;33m\u001b[0m\u001b[1;33m\u001b[0m\u001b[0m\n\u001b[0m\u001b[0;32m      7\u001b[0m     \u001b[1;32mreturn\u001b[0m \u001b[0mtotal\u001b[0m\u001b[1;33m\u001b[0m\u001b[1;33m\u001b[0m\u001b[0m\n\u001b[0;32m      8\u001b[0m \u001b[1;33m\u001b[0m\u001b[0m\n",
      "\u001b[1;31mUnboundLocalError\u001b[0m: local variable 'total' referenced before assignment"
     ]
    }
   ],
   "source": [
    "# Global Scope\n",
    "\n",
    "total = 0\n",
    "\n",
    "def increment():\n",
    "    total += 1\n",
    "    return total\n",
    "\n",
    "increment()"
   ]
  },
  {
   "cell_type": "code",
   "execution_count": 45,
   "id": "7165e908",
   "metadata": {},
   "outputs": [
    {
     "data": {
      "text/plain": [
       "1"
      ]
     },
     "execution_count": 45,
     "metadata": {},
     "output_type": "execute_result"
    }
   ],
   "source": [
    "# Global Scope\n",
    "\n",
    "total = 0\n",
    "\n",
    "def increment():\n",
    "    global total\n",
    "    total += 1\n",
    "    return total\n",
    "\n",
    "increment()"
   ]
  },
  {
   "cell_type": "code",
   "execution_count": 51,
   "id": "f783549c",
   "metadata": {},
   "outputs": [
    {
     "name": "stdout",
     "output_type": "stream",
     "text": [
      "Sunil\n",
      "Sunil Gaikwad\n",
      "Sunil Gaikwad\n",
      "Sunil\n"
     ]
    }
   ],
   "source": [
    "name = \"Sunil\"\n",
    "\n",
    "def change_name():\n",
    "    #print(name)\n",
    "    name = \"Sunil Gaikwad\"\n",
    "    print(name)\n",
    "    return name\n",
    "\n",
    "print(name)\n",
    "print(change_name())\n",
    "print(name)"
   ]
  },
  {
   "cell_type": "code",
   "execution_count": 57,
   "id": "f3a48498",
   "metadata": {},
   "outputs": [
    {
     "name": "stdout",
     "output_type": "stream",
     "text": [
      "1\n"
     ]
    }
   ],
   "source": [
    "# nonlocal and nested functio\n",
    "\n",
    "def outer():\n",
    "    count = 0\n",
    "    def inner():\n",
    "        nonlocal count\n",
    "        count= count+1\n",
    "        return count\n",
    "    return inner()\n",
    "\n",
    "\n",
    "print(outer())"
   ]
  },
  {
   "cell_type": "markdown",
   "id": "b68012c5",
   "metadata": {},
   "source": [
    "## Documenting functions\n",
    "\n",
    "- use \"\"\"\" msg \"\"\"\"\n",
    "- doc of funcntion can be accessed using <code> ___doc\\_\\_\\.</code>"
   ]
  },
  {
   "cell_type": "code",
   "execution_count": 60,
   "id": "1e104df6",
   "metadata": {},
   "outputs": [
    {
     "data": {
      "text/plain": [
       "'Simple function to say hii'"
      ]
     },
     "execution_count": 60,
     "metadata": {},
     "output_type": "execute_result"
    }
   ],
   "source": [
    "def say_hello():\n",
    "    \"\"\"Simple function to say hii\"\"\"\n",
    "    return \"Hi!\"\n",
    "\n",
    "say_hello.__doc__"
   ]
  },
  {
   "cell_type": "code",
   "execution_count": 65,
   "id": "0cee45a5",
   "metadata": {},
   "outputs": [],
   "source": [
    "def list_manipulation(input_list, command, location, value=None):\n",
    "    if command == 'remove' and location == 'end':\n",
    "        input_list.pop(-1)\n",
    "        return input_list\n",
    "    elif command == 'remove' and location == 'beginning':\n",
    "        input_list.pop(1)\n",
    "        return input_list\n",
    "    elif command == 'add' and location == 'beginning':\n",
    "        input_list.insert(0, value)\n",
    "        return input_list\n",
    "    elif command == 'add' and location == 'end':\n",
    "        input_list.append(value)\n",
    "        return input_list"
   ]
  },
  {
   "cell_type": "code",
   "execution_count": 64,
   "id": "4abcc000",
   "metadata": {},
   "outputs": [
    {
     "name": "stdout",
     "output_type": "stream",
     "text": [
      "[1, 2, 3, 4]\n"
     ]
    }
   ],
   "source": [
    "print(list_manipulation([1,2,3],'add','end',4))"
   ]
  },
  {
   "cell_type": "markdown",
   "id": "c6c5396b",
   "metadata": {},
   "source": [
    "## * args\n",
    "- gathers all remaining args as tuple"
   ]
  },
  {
   "cell_type": "code",
   "execution_count": 70,
   "id": "33ee0f0f",
   "metadata": {},
   "outputs": [
    {
     "name": "stdout",
     "output_type": "stream",
     "text": [
      "0\n",
      "(1, 3, 4, 5)\n"
     ]
    },
    {
     "data": {
      "text/plain": [
       "13"
      ]
     },
     "execution_count": 70,
     "metadata": {},
     "output_type": "execute_result"
    }
   ],
   "source": [
    "def sum_all_nums(n1, *args):\n",
    "    print(n1)\n",
    "    print(args)\n",
    "    total = 0\n",
    "    for n in args:\n",
    "        total += n\n",
    "    return total\n",
    "    \n",
    "\n",
    "sum_all_nums(0,1,3,4,5)"
   ]
  },
  {
   "cell_type": "markdown",
   "id": "ebf078a4",
   "metadata": {},
   "source": [
    "## **kwargs"
   ]
  },
  {
   "cell_type": "code",
   "execution_count": 79,
   "id": "79a7d87f",
   "metadata": {},
   "outputs": [
    {
     "ename": "SyntaxError",
     "evalue": "invalid syntax (<ipython-input-79-b4d3d2773af4>, line 2)",
     "output_type": "error",
     "traceback": [
      "\u001b[1;36m  File \u001b[1;32m\"<ipython-input-79-b4d3d2773af4>\"\u001b[1;36m, line \u001b[1;32m2\u001b[0m\n\u001b[1;33m    if kwargs is not None:\u001b[0m\n\u001b[1;37m    ^\u001b[0m\n\u001b[1;31mSyntaxError\u001b[0m\u001b[1;31m:\u001b[0m invalid syntax\n"
     ]
    }
   ],
   "source": [
    "def fav_colors(**kwargs):\\\n",
    "zz\n",
    "        for k,v in kwargs.items():\n",
    "            print(f\"{k}'s fav color is {v}\")"
   ]
  },
  {
   "cell_type": "code",
   "execution_count": 77,
   "id": "f55d7d4d",
   "metadata": {},
   "outputs": [
    {
     "name": "stdout",
     "output_type": "stream",
     "text": [
      "sunil's fav color is blue\n",
      "akshay's fav color is red\n",
      "jay's fav color is green\n"
     ]
    }
   ],
   "source": [
    "fav_colors(sunil=\"blue\", akshay=\"red\", jay=\"green\")"
   ]
  },
  {
   "cell_type": "markdown",
   "id": "a796eff1",
   "metadata": {},
   "source": [
    "## Parameter Ordering\n",
    "\n",
    "- parameters\n",
    "- *args\n",
    "- default parameters\n",
    "- **kwargs"
   ]
  },
  {
   "cell_type": "markdown",
   "id": "a4279584",
   "metadata": {},
   "source": [
    "## Tuple unpacking"
   ]
  },
  {
   "cell_type": "code",
   "execution_count": 81,
   "id": "0db8c149",
   "metadata": {},
   "outputs": [
    {
     "name": "stdout",
     "output_type": "stream",
     "text": [
      "150\n"
     ]
    }
   ],
   "source": [
    "list1 = [10, 20, 30, 40, 50]\n",
    "\n",
    "def sum_all_values(*args):\n",
    "    total = 0\n",
    "    for num in args:\n",
    "        total += num\n",
    "    return total\n",
    "\n",
    "print(sum_all_values(*list1))\n"
   ]
  },
  {
   "cell_type": "markdown",
   "id": "f2f8bfa5",
   "metadata": {},
   "source": [
    "## Dict unpacking"
   ]
  },
  {
   "cell_type": "code",
   "execution_count": 84,
   "id": "ee437f68",
   "metadata": {},
   "outputs": [
    {
     "name": "stdout",
     "output_type": "stream",
     "text": [
      "610\n",
      "other stuff...\n",
      "{'name': 'Sunil', 'age': 'mid', 'hasPet': False}\n"
     ]
    }
   ],
   "source": [
    "def add_and_multiply_nums(a, b, c, **kwargs):\n",
    "    print(a+b*c)\n",
    "    print(\"other stuff...\")\n",
    "    print(kwargs)\n",
    "    \n",
    "data = dict(a=10, b=20, c=30, name=\"Sunil\", age = \"mid\")\n",
    "\n",
    "add_and_multiply_nums(**data, hasPet = False)"
   ]
  },
  {
   "cell_type": "code",
   "execution_count": 92,
   "id": "a9ab204a",
   "metadata": {},
   "outputs": [
    {
     "ename": "SyntaxError",
     "evalue": "EOL while scanning string literal (<ipython-input-92-5a9388acd717>, line 23)",
     "output_type": "error",
     "traceback": [
      "\u001b[1;36m  File \u001b[1;32m\"<ipython-input-92-5a9388acd717>\"\u001b[1;36m, line \u001b[1;32m23\u001b[0m\n\u001b[1;33m    return \"The result is {first-second}\u001b[0m\n\u001b[1;37m                                        ^\u001b[0m\n\u001b[1;31mSyntaxError\u001b[0m\u001b[1;31m:\u001b[0m EOL while scanning string literal\n"
     ]
    }
   ],
   "source": [
    "def calculate(**kwargs):\n",
    "    first = kwargs.get('first')\n",
    "    second = kwargs.get('second')\n",
    "    if kwargs.get('operation')=='add' and kwargs.get('make_float') == True:\n",
    "        if  kwargs.get(\"message\"):\n",
    "            return kwargs.get(\"message\")+\"{}\".format(float((first+second)))\n",
    "        else:\n",
    "            return \"The result is \"+\"{}\".format(float((first+second)))\n",
    "    elif kwargs.get('operation')=='add' and kwargs.get('make_float') == False:\n",
    "        if  kwargs.get(\"message\"):\n",
    "            return kwargs.get(\"message\")+\"{}\".format((first+second))\n",
    "        else:\n",
    "            return \"The result is \"+\"{}\".format((first+second))\n",
    "    elif kwargs.get('operation')=='subtract' and kwargs.get('make_float') == True:\n",
    "        if  kwargs.get(\"message\"):\n",
    "            return kwargs.get(\"message\")+\"{}\".format(float((first-second)))\n",
    "        else:\n",
    "            return \"The result is \"+\"{}\".format(float(first-second))\n",
    "    elif kwargs.get('operation')=='subtract' and kwargs.get('make_float') == False:\n",
    "        if  kwargs.get(\"message\"):\n",
    "            return kwargs.get(\"message\")+(first-second)\n",
    "        else:\n",
    "            return \"The result is {first-second}"
   ]
  },
  {
   "cell_type": "code",
   "execution_count": 91,
   "id": "8905eda3",
   "metadata": {},
   "outputs": [
    {
     "ename": "TypeError",
     "evalue": "can only concatenate str (not \"int\") to str",
     "output_type": "error",
     "traceback": [
      "\u001b[1;31m---------------------------------------------------------------------------\u001b[0m",
      "\u001b[1;31mTypeError\u001b[0m                                 Traceback (most recent call last)",
      "\u001b[1;32m<ipython-input-91-3bf0cd2f5421>\u001b[0m in \u001b[0;36m<module>\u001b[1;34m\u001b[0m\n\u001b[1;32m----> 1\u001b[1;33m \u001b[0mcalculate\u001b[0m\u001b[1;33m(\u001b[0m\u001b[0mmake_float\u001b[0m\u001b[1;33m=\u001b[0m\u001b[1;32mFalse\u001b[0m\u001b[1;33m,\u001b[0m \u001b[0moperation\u001b[0m\u001b[1;33m=\u001b[0m\u001b[1;34m'add'\u001b[0m\u001b[1;33m,\u001b[0m \u001b[0mmessage\u001b[0m\u001b[1;33m=\u001b[0m\u001b[1;34m'You just added'\u001b[0m\u001b[1;33m,\u001b[0m \u001b[0mfirst\u001b[0m\u001b[1;33m=\u001b[0m\u001b[1;36m2\u001b[0m\u001b[1;33m,\u001b[0m \u001b[0msecond\u001b[0m\u001b[1;33m=\u001b[0m\u001b[1;36m4\u001b[0m\u001b[1;33m)\u001b[0m \u001b[1;31m# \"You just added 6\"\u001b[0m\u001b[1;33m\u001b[0m\u001b[1;33m\u001b[0m\u001b[0m\n\u001b[0m",
      "\u001b[1;32m<ipython-input-90-da59e79d90a8>\u001b[0m in \u001b[0;36mcalculate\u001b[1;34m(**kwargs)\u001b[0m\n\u001b[0;32m      9\u001b[0m     \u001b[1;32melif\u001b[0m \u001b[0mkwargs\u001b[0m\u001b[1;33m.\u001b[0m\u001b[0mget\u001b[0m\u001b[1;33m(\u001b[0m\u001b[1;34m'operation'\u001b[0m\u001b[1;33m)\u001b[0m\u001b[1;33m==\u001b[0m\u001b[1;34m'add'\u001b[0m \u001b[1;32mand\u001b[0m \u001b[0mkwargs\u001b[0m\u001b[1;33m.\u001b[0m\u001b[0mget\u001b[0m\u001b[1;33m(\u001b[0m\u001b[1;34m'make_float'\u001b[0m\u001b[1;33m)\u001b[0m \u001b[1;33m==\u001b[0m \u001b[1;32mFalse\u001b[0m\u001b[1;33m:\u001b[0m\u001b[1;33m\u001b[0m\u001b[1;33m\u001b[0m\u001b[0m\n\u001b[0;32m     10\u001b[0m         \u001b[1;32mif\u001b[0m  \u001b[0mkwargs\u001b[0m\u001b[1;33m.\u001b[0m\u001b[0mget\u001b[0m\u001b[1;33m(\u001b[0m\u001b[1;34m\"message\"\u001b[0m\u001b[1;33m)\u001b[0m\u001b[1;33m:\u001b[0m\u001b[1;33m\u001b[0m\u001b[1;33m\u001b[0m\u001b[0m\n\u001b[1;32m---> 11\u001b[1;33m             \u001b[1;32mreturn\u001b[0m \u001b[0mkwargs\u001b[0m\u001b[1;33m.\u001b[0m\u001b[0mget\u001b[0m\u001b[1;33m(\u001b[0m\u001b[1;34m\"message\"\u001b[0m\u001b[1;33m)\u001b[0m\u001b[1;33m+\u001b[0m\u001b[1;33m(\u001b[0m\u001b[0mfirst\u001b[0m\u001b[1;33m+\u001b[0m\u001b[0msecond\u001b[0m\u001b[1;33m)\u001b[0m\u001b[1;33m\u001b[0m\u001b[1;33m\u001b[0m\u001b[0m\n\u001b[0m\u001b[0;32m     12\u001b[0m         \u001b[1;32melse\u001b[0m\u001b[1;33m:\u001b[0m\u001b[1;33m\u001b[0m\u001b[1;33m\u001b[0m\u001b[0m\n\u001b[0;32m     13\u001b[0m             \u001b[1;32mreturn\u001b[0m \u001b[1;34m\"The result is \"\u001b[0m\u001b[1;33m+\u001b[0m\u001b[1;33m(\u001b[0m\u001b[0mfirst\u001b[0m\u001b[1;33m+\u001b[0m\u001b[0msecond\u001b[0m\u001b[1;33m)\u001b[0m\u001b[1;33m\u001b[0m\u001b[1;33m\u001b[0m\u001b[0m\n",
      "\u001b[1;31mTypeError\u001b[0m: can only concatenate str (not \"int\") to str"
     ]
    }
   ],
   "source": [
    "calculate(make_float=False, operation='add', message='You just added', first=2, second=4) # \"You just added 6\""
   ]
  },
  {
   "cell_type": "code",
   "execution_count": null,
   "id": "11f0889d",
   "metadata": {},
   "outputs": [],
   "source": []
  }
 ],
 "metadata": {
  "kernelspec": {
   "display_name": "Python 3",
   "language": "python",
   "name": "python3"
  },
  "language_info": {
   "codemirror_mode": {
    "name": "ipython",
    "version": 3
   },
   "file_extension": ".py",
   "mimetype": "text/x-python",
   "name": "python",
   "nbconvert_exporter": "python",
   "pygments_lexer": "ipython3",
   "version": "3.8.3"
  }
 },
 "nbformat": 4,
 "nbformat_minor": 5
}
