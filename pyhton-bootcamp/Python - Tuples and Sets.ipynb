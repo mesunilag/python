{
 "cells": [
  {
   "cell_type": "markdown",
   "id": "abdf2563",
   "metadata": {},
   "source": [
    "# Tuple\n",
    "\n",
    "- list of elemnets just like list\n",
    "- tuples are immutable\n",
    "- tuples are faster than list"
   ]
  },
  {
   "cell_type": "code",
   "execution_count": 41,
   "id": "1f69a5ee",
   "metadata": {},
   "outputs": [
    {
     "name": "stdout",
     "output_type": "stream",
     "text": [
      "feb\n",
      "jun\n"
     ]
    }
   ],
   "source": [
    "months = (\"jan\", \"feb\", \"mar\", \"apr\", \"may\", \"jun\")\n",
    "\n",
    "print(months[1])\n",
    "print(months[-1])"
   ]
  },
  {
   "cell_type": "code",
   "execution_count": 42,
   "id": "0640d862",
   "metadata": {},
   "outputs": [
    {
     "name": "stdout",
     "output_type": "stream",
     "text": [
      "jan\n",
      "feb\n",
      "mar\n",
      "apr\n",
      "may\n",
      "jun\n"
     ]
    }
   ],
   "source": [
    "for i in months:\n",
    "    print(i)"
   ]
  },
  {
   "cell_type": "code",
   "execution_count": 27,
   "id": "e8e6597a",
   "metadata": {},
   "outputs": [
    {
     "name": "stdout",
     "output_type": "stream",
     "text": [
      "True\n",
      "True\n"
     ]
    }
   ],
   "source": [
    "months2 = months\n",
    "print(months==months2)\n",
    "print(months is months2)"
   ]
  },
  {
   "cell_type": "code",
   "execution_count": 6,
   "id": "018a931b",
   "metadata": {},
   "outputs": [
    {
     "name": "stdout",
     "output_type": "stream",
     "text": [
      "{(35.455, 39.987): 'Mumbai', (33.345, 34.676): 'New Delhi'}\n"
     ]
    }
   ],
   "source": [
    "locations = {\n",
    "    (35.455, 39.987):\"Mumbai\",\n",
    "    (33.345, 34.676):\"New Delhi\"\n",
    "}\n",
    "\n",
    "print(locations)"
   ]
  },
  {
   "cell_type": "code",
   "execution_count": 28,
   "id": "3217c9b0",
   "metadata": {},
   "outputs": [
    {
     "name": "stdout",
     "output_type": "stream",
     "text": [
      "['jan', 'feb', 'mar', 'apr', 'may', 'jun']\n"
     ]
    }
   ],
   "source": [
    "tuplelist = list(months)\n",
    "print(tuplelist)"
   ]
  },
  {
   "cell_type": "markdown",
   "id": "98ab6a97",
   "metadata": {},
   "source": [
    "# Sets\n",
    "\n",
    "- Contains unique values\n",
    "- Sets are not ordered\n",
    " "
   ]
  },
  {
   "cell_type": "code",
   "execution_count": 10,
   "id": "89ce80ff",
   "metadata": {},
   "outputs": [
    {
     "name": "stdout",
     "output_type": "stream",
     "text": [
      "{1, 2, 4, 5}\n"
     ]
    }
   ],
   "source": [
    "s = set({1,2,4,5,5})\n",
    "print(s)"
   ]
  },
  {
   "cell_type": "code",
   "execution_count": 20,
   "id": "8d08b724",
   "metadata": {},
   "outputs": [
    {
     "name": "stdout",
     "output_type": "stream",
     "text": [
      "{1, 2, 3, 4, 5}\n"
     ]
    }
   ],
   "source": [
    "s2 = {1,2,3,4,5,5}\n",
    "print(s2)\n"
   ]
  },
  {
   "cell_type": "code",
   "execution_count": 15,
   "id": "37776172",
   "metadata": {},
   "outputs": [
    {
     "data": {
      "text/plain": [
       "True"
      ]
     },
     "execution_count": 15,
     "metadata": {},
     "output_type": "execute_result"
    }
   ],
   "source": [
    "4 in s2"
   ]
  },
  {
   "cell_type": "code",
   "execution_count": 17,
   "id": "e072e8c8",
   "metadata": {},
   "outputs": [
    {
     "data": {
      "text/plain": [
       "False"
      ]
     },
     "execution_count": 17,
     "metadata": {},
     "output_type": "execute_result"
    }
   ],
   "source": [
    "'s' in s2"
   ]
  },
  {
   "cell_type": "code",
   "execution_count": 19,
   "id": "a7b61be0",
   "metadata": {},
   "outputs": [
    {
     "name": "stdout",
     "output_type": "stream",
     "text": [
      "{1, 2, 3, 4, 5}\n"
     ]
    }
   ],
   "source": [
    "print(s2)"
   ]
  },
  {
   "cell_type": "code",
   "execution_count": 21,
   "id": "907b6cdb",
   "metadata": {},
   "outputs": [
    {
     "name": "stdout",
     "output_type": "stream",
     "text": [
      "1\n",
      "2\n",
      "4\n",
      "5\n"
     ]
    }
   ],
   "source": [
    "sets = set({1,2,4,5,5})\n",
    "for s in sets:\n",
    "    print(s)"
   ]
  },
  {
   "cell_type": "markdown",
   "id": "11234763",
   "metadata": {},
   "source": [
    "### Set Methods\n",
    "\n",
    "- add() : adds element to set\n",
    "- remove() : removes element, throws error if element not present\n",
    "- discard() : removes element, but do not throws error if element not present\n",
    "- copy() : makes copy of set\n",
    "- clear() : clears sets"
   ]
  },
  {
   "cell_type": "code",
   "execution_count": 25,
   "id": "5fa3e7e4",
   "metadata": {},
   "outputs": [
    {
     "name": "stdout",
     "output_type": "stream",
     "text": [
      "{'Delhi', 'Mumbai'}\n",
      "{'Pune', 'Delhi', 'Mumbai'}\n",
      "{'Pune', 'Mumbai'}\n"
     ]
    }
   ],
   "source": [
    "new_set = {\"Mumbai\",\"Delhi\"}\n",
    "print(new_set)\n",
    "\n",
    "new_set.add(\"Pune\")\n",
    "print(new_set)\n",
    "\n",
    "new_set.remove(\"Delhi\")\n",
    "print(new_set)"
   ]
  },
  {
   "cell_type": "code",
   "execution_count": 29,
   "id": "12a6fe90",
   "metadata": {},
   "outputs": [
    {
     "ename": "KeyError",
     "evalue": "'Delhi'",
     "output_type": "error",
     "traceback": [
      "\u001b[1;31m---------------------------------------------------------------------------\u001b[0m",
      "\u001b[1;31mKeyError\u001b[0m                                  Traceback (most recent call last)",
      "\u001b[1;32m<ipython-input-29-da0b57b6a3bf>\u001b[0m in \u001b[0;36m<module>\u001b[1;34m\u001b[0m\n\u001b[1;32m----> 1\u001b[1;33m \u001b[0mnew_set\u001b[0m\u001b[1;33m.\u001b[0m\u001b[0mremove\u001b[0m\u001b[1;33m(\u001b[0m\u001b[1;34m\"Delhi\"\u001b[0m\u001b[1;33m)\u001b[0m\u001b[1;33m\u001b[0m\u001b[1;33m\u001b[0m\u001b[0m\n\u001b[0m",
      "\u001b[1;31mKeyError\u001b[0m: 'Delhi'"
     ]
    }
   ],
   "source": [
    "new_set.remove(\"Delhi\")"
   ]
  },
  {
   "cell_type": "code",
   "execution_count": 34,
   "id": "ccfce725",
   "metadata": {},
   "outputs": [],
   "source": [
    "new_set.discard(\"Delhi\")"
   ]
  },
  {
   "cell_type": "code",
   "execution_count": 35,
   "id": "ac7effaa",
   "metadata": {},
   "outputs": [
    {
     "name": "stdout",
     "output_type": "stream",
     "text": [
      "{'Pune', 'Mumbai'}\n",
      "False\n"
     ]
    }
   ],
   "source": [
    "new_set2 = new_set.copy()\n",
    "print(new_set2)\n",
    "print(new_set is new_set2)"
   ]
  },
  {
   "cell_type": "markdown",
   "id": "2798a550",
   "metadata": {},
   "source": [
    "### Sets Math\n",
    "\n",
    "- intersection (&)\n",
    "- symmetric_difference (-)\n",
    "- union (|)"
   ]
  },
  {
   "cell_type": "code",
   "execution_count": 40,
   "id": "794d69d1",
   "metadata": {},
   "outputs": [
    {
     "name": "stdout",
     "output_type": "stream",
     "text": [
      "{'Shailesh', 'Sunil', 'Alex', 'John', 'Akshay', 'Pravin'}\n",
      "{'Sunil', 'Pravin'}\n",
      "{'Akshay', 'Shailesh'}\n"
     ]
    }
   ],
   "source": [
    "math_students = {\"Sunil\",\"Akshay\",\"Shailesh\",\"Pravin\"}\n",
    "biology_students = {\"Sunil\",\"John\",\"Alex\",\"Pravin\"}\n",
    "\n",
    "# find all students for maths and biology\n",
    "\n",
    "both_students = math_students | biology_students\n",
    "print(both_students)\n",
    "\n",
    "\n",
    "# find students who chose both subjects\n",
    "both_students = math_students & biology_students\n",
    "print(both_students)\n",
    "\n",
    "# find students selected maths but not biology\n",
    "\n",
    "both_students = math_students - biology_students\n",
    "print(both_students)\n"
   ]
  },
  {
   "cell_type": "code",
   "execution_count": 45,
   "id": "b9081233",
   "metadata": {},
   "outputs": [
    {
     "name": "stdout",
     "output_type": "stream",
     "text": [
      "(1, 2)\n",
      "(1,)\n",
      "(10, 20, 30)\n",
      "{1, 2, 3, 5}\n"
     ]
    }
   ],
   "source": [
    "# 1 - Create a variable called numbers which is a tuple with the the values 1, 2, 3 and 4 inside.\n",
    "numbers = (1,2)\n",
    "\n",
    "# 2 - Create a variable called value which is a tuple with the the value 1 inside.\n",
    "value = (1,)\n",
    "\n",
    "# 3 - Given the following variable:\n",
    "\n",
    "values = [10,20,30]\n",
    "\n",
    "# Create a variable called static_values which is the result of the values variable converted to a tuple\n",
    "static_values = tuple(values)\n",
    "\n",
    "# 4 - Given the following variable\n",
    "\n",
    "stuff = [1,3,1,5,2,5,1,2,5]\n",
    "\n",
    "# Create a variable called unique_stuff which is a set of only the unique values in the stuff list\n",
    "unique_stuff = set(stuff)\n",
    "\n",
    "\n",
    "print(numbers)\n",
    "print(value)\n",
    "print(static_values)\n",
    "print(unique_stuff)"
   ]
  },
  {
   "cell_type": "markdown",
   "id": "2b83b852",
   "metadata": {},
   "source": [
    "### Set Comprehension"
   ]
  },
  {
   "cell_type": "code",
   "execution_count": 46,
   "id": "343a674e",
   "metadata": {},
   "outputs": [
    {
     "name": "stdout",
     "output_type": "stream",
     "text": [
      "{'pravin', 'shailesh', 'sunil', 'akshay'}\n"
     ]
    }
   ],
   "source": [
    "math_students = {\"Sunil\",\"Akshay\",\"Shailesh\",\"Pravin\"}\n",
    "\n",
    "# student names in lower case\n",
    "print({name.lower() for name in math_students})"
   ]
  },
  {
   "cell_type": "code",
   "execution_count": 47,
   "id": "e9ac7bd5",
   "metadata": {},
   "outputs": [
    {
     "name": "stdout",
     "output_type": "stream",
     "text": [
      "{'Akshay': 'akshay', 'Shailesh': 'shailesh', 'Sunil': 'sunil', 'Pravin': 'pravin'}\n"
     ]
    }
   ],
   "source": [
    "print({name:name.lower() for name in math_students})"
   ]
  },
  {
   "cell_type": "code",
   "execution_count": 51,
   "id": "5289e04f",
   "metadata": {},
   "outputs": [
    {
     "name": "stdout",
     "output_type": "stream",
     "text": [
      "{'u', 'i', 'a', 'o', 'e'}\n",
      "True\n"
     ]
    }
   ],
   "source": [
    "string = \"sequoia\"#\"sunil\"\n",
    "print({char for char in string if char in 'aeiou'})\n",
    "if len({char for char in string if char in 'aeiou'}) == 5:\n",
    "    print(\"True\")\n",
    "else:\n",
    "    print(False)"
   ]
  },
  {
   "cell_type": "code",
   "execution_count": 55,
   "id": "e7ce79e0",
   "metadata": {},
   "outputs": [
    {
     "name": "stdout",
     "output_type": "stream",
     "text": [
      "{1, 2, 3, 4}\n",
      "{16, 1, 4, 9}\n"
     ]
    }
   ],
   "source": [
    "a = {1,2,3,4}\n",
    "print(a)\n",
    "type(a)\n",
    "\n",
    "b = {i*i for i in a}\n",
    "print(b)"
   ]
  },
  {
   "cell_type": "code",
   "execution_count": null,
   "id": "f5fb1dca",
   "metadata": {},
   "outputs": [],
   "source": [
    "\n"
   ]
  },
  {
   "cell_type": "code",
   "execution_count": null,
   "id": "4138edec",
   "metadata": {},
   "outputs": [],
   "source": [
    "\n",
    "{}"
   ]
  }
 ],
 "metadata": {
  "kernelspec": {
   "display_name": "Python 3",
   "language": "python",
   "name": "python3"
  },
  "language_info": {
   "codemirror_mode": {
    "name": "ipython",
    "version": 3
   },
   "file_extension": ".py",
   "mimetype": "text/x-python",
   "name": "python",
   "nbconvert_exporter": "python",
   "pygments_lexer": "ipython3",
   "version": "3.8.3"
  }
 },
 "nbformat": 4,
 "nbformat_minor": 5
}
