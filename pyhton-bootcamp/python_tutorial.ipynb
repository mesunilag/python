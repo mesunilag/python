{
 "cells": [
  {
   "cell_type": "markdown",
   "id": "7a5ebe1b",
   "metadata": {},
   "source": [
    "# Python Tutorial"
   ]
  },
  {
   "cell_type": "markdown",
   "id": "097cb12e",
   "metadata": {},
   "source": [
    "### Data Types\n",
    "\n",
    "- "
   ]
  },
  {
   "cell_type": "code",
   "execution_count": 32,
   "id": "98018115",
   "metadata": {},
   "outputs": [
    {
     "name": "stdout",
     "output_type": "stream",
     "text": [
      "<class 'float'>\n",
      "<class 'int'>\n",
      "<class 'str'>\n",
      "<class 'bool'>\n",
      "<class 'list'>\n",
      "<class 'dict'>\n"
     ]
    }
   ],
   "source": [
    "print(type(10.000))\n",
    "print(type(10))\n",
    "print(type(\"sunil\"))\n",
    "print(type(True))\n",
    "print(type([1,2,3]))\n",
    "print(type({'name':'sunil', 'marks':88.87}))"
   ]
  },
  {
   "cell_type": "markdown",
   "id": "640b1054",
   "metadata": {},
   "source": [
    "##### Operators\n",
    "\n",
    "- '+' : Addition\n",
    "- '-' : Subtraction\n",
    "- '*' : Multiplication\n",
    "- / : Division\n",
    "- ** : Exponentiation\n",
    "- % : Module\n",
    "- // : Integer Division (floor)\n",
    "\n",
    "######  Logical Oerators\n",
    "- ==\n",
    "- !=\n",
    "- >\n",
    "- <\n",
    "- >=\n",
    "- <="
   ]
  },
  {
   "cell_type": "code",
   "execution_count": 19,
   "id": "fd93d695",
   "metadata": {},
   "outputs": [
    {
     "name": "stdout",
     "output_type": "stream",
     "text": [
      "6\n",
      "8\n",
      "3.3333333333333335\n",
      "3\n",
      "3.6666666666666665\n",
      "3\n",
      "Hi sunil\n"
     ]
    }
   ],
   "source": [
    "print(4+2)\n",
    "print(2**3)\n",
    "print(10/3)\n",
    "print(10//3)\n",
    "print(11/3)\n",
    "print(11//3)\n",
    "print(\"Hi\"+\" sunil\")"
   ]
  },
  {
   "cell_type": "markdown",
   "id": "1e809d0a",
   "metadata": {},
   "source": [
    "#### Variables\n",
    "\n",
    "- No need to specify data types\n",
    "- Data type os infered\n",
    "- One variable can be assigned to another variable\n",
    "- Reassignment of variable possible\n",
    "- Multiple variable assignemt at once possible\n",
    "\n",
    "##### Variables Names\n",
    "- Must start with letter or underscore\n",
    "- Rest of name can consist of letters, numbers and underscores\n",
    "- Variables names are case sensetive\n",
    "\n",
    "\n",
    "##### Naming conventions\n",
    "- Vaibales : snake_case and lowercase\n",
    "- private variables = __no_touch__\n",
    "- Constants : snake_case and uppercase\n",
    "- Class : CamelCase"
   ]
  },
  {
   "cell_type": "code",
   "execution_count": 28,
   "id": "ba76576d",
   "metadata": {},
   "outputs": [
    {
     "name": "stdout",
     "output_type": "stream",
     "text": [
      "name: sunil\n",
      "nickname: sunil\n",
      "nickname: sunil\n",
      "name: Solo\n",
      "roll_no: 101\n",
      "name: Sunil\n",
      "marks: 88.88\n"
     ]
    }
   ],
   "source": [
    "#assignment\n",
    "\n",
    "name = \"sunil\"\n",
    "print(\"name: \" + name)\n",
    "nickname = name\n",
    "print(\"nickname: \" + nickname)\n",
    "name = \"Solo\"\n",
    "print(\"nickname: \" + nickname)\n",
    "print(\"name: \" + name)\n",
    "\n",
    "roll_no, name, marks = 101, \"Sunil\", 88.88\n",
    "print(\"roll_no: \"+ str(roll_no))\n",
    "print(\"name: \"+ name)\n",
    "print(\"marks: \"+ str(marks))"
   ]
  },
  {
   "cell_type": "markdown",
   "id": "af3c2da6",
   "metadata": {},
   "source": [
    "##### Variables Dynamic Typing\n",
    "\n",
    "- Variables can be rassigned to differrent types"
   ]
  },
  {
   "cell_type": "code",
   "execution_count": 35,
   "id": "f344a8a9",
   "metadata": {},
   "outputs": [
    {
     "name": "stdout",
     "output_type": "stream",
     "text": [
      "name\n",
      "<class 'str'>\n",
      "10\n",
      "<class 'int'>\n",
      "True\n",
      "<class 'bool'>\n"
     ]
    }
   ],
   "source": [
    "value = \"name\"\n",
    "print(value)\n",
    "print(type(value))\n",
    "\n",
    "value = 10\n",
    "print(value)\n",
    "print(type(value))\n",
    "\n",
    "value = True\n",
    "print(value)\n",
    "print(type(value))"
   ]
  },
  {
   "cell_type": "code",
   "execution_count": 51,
   "id": "c2f583ce",
   "metadata": {},
   "outputs": [
    {
     "name": "stdout",
     "output_type": "stream",
     "text": [
      "10\n",
      "<class 'int'>\n",
      "Hi\n",
      "<class 'str'>\n"
     ]
    }
   ],
   "source": [
    "type_safe_var: float = 10\n",
    "print(type_safe_var)\n",
    "print(type(type_safe_var))\n",
    "\n",
    "type_safe_var = \"Hi\"\n",
    "print(type_safe_var)\n",
    "print(type(type_safe_var))"
   ]
  },
  {
   "cell_type": "markdown",
   "id": "fe6de31e",
   "metadata": {},
   "source": [
    "#### None\n",
    "\n",
    "- Python version of null\n",
    "-  No value \n",
    "- Can be used when value is not known for variable\n"
   ]
  },
  {
   "cell_type": "code",
   "execution_count": 56,
   "id": "a8912b92",
   "metadata": {},
   "outputs": [
    {
     "name": "stdout",
     "output_type": "stream",
     "text": [
      "None\n",
      "<class 'NoneType'>\n"
     ]
    }
   ],
   "source": [
    "child = None\n",
    "print(child)\n",
    "print(type(child))"
   ]
  },
  {
   "cell_type": "markdown",
   "id": "6128e3d1",
   "metadata": {},
   "source": [
    "#### Escape Characters\n",
    "\n",
    "- \\\\  \t: Backslash (\\)\n",
    "- \\' \t: Single quote (')\n",
    "- \\\"\t    : Double quote (\")\n",
    "- \\n\t: ASCII Linefeed (adds newline)\n",
    "- \\b\t: ASCII Backspace\n",
    "- \\t    : ASCII TAB"
   ]
  },
  {
   "cell_type": "code",
   "execution_count": 67,
   "id": "cc0dac38",
   "metadata": {},
   "outputs": [
    {
     "name": "stdout",
     "output_type": "stream",
     "text": [
      "Hi\n",
      "Hello\n",
      "hi hello\\\n",
      "He\bllo\n",
      "/\\/\\/\\\n"
     ]
    }
   ],
   "source": [
    "string = \"Hi\\nHello\"\n",
    "print(string)\n",
    "\n",
    "string = \"hi hello\\\\\"\n",
    "print(string)\n",
    "\n",
    "string = \"He\\bllo\"\n",
    "print(string)\n",
    "\n",
    "print(\"/\\\\/\\\\/\\\\\")"
   ]
  },
  {
   "cell_type": "markdown",
   "id": "e4a92d74",
   "metadata": {},
   "source": [
    "#### String formatting\n",
    "- f Strings\n",
    "- .format meethod"
   ]
  },
  {
   "cell_type": "code",
   "execution_count": 91,
   "id": "284acbc3",
   "metadata": {},
   "outputs": [
    {
     "name": "stdout",
     "output_type": "stream",
     "text": [
      "I have told 11 times!!\n",
      "I have told 11 times!!\n",
      "I have told you 10 times\n"
     ]
    }
   ],
   "source": [
    "x = 10\n",
    "formattedString = f\"I have told {x+1} times!!\"\n",
    "print(formattedString)\n",
    "print(f\"I have told {x+1} times!!\")\n",
    "\n",
    "\n",
    "formatString = \"I have told you {} times\".format(x)\n",
    "print(formatString)"
   ]
  },
  {
   "cell_type": "code",
   "execution_count": 74,
   "id": "722fb5b4",
   "metadata": {},
   "outputs": [
    {
     "name": "stdout",
     "output_type": "stream",
     "text": [
      "S\n",
      "l\n"
     ]
    }
   ],
   "source": [
    "# String are array of chars\n",
    "\n",
    "name = \"Sunil\"\n",
    "print(name[0])\n",
    "print(name[-1])"
   ]
  },
  {
   "cell_type": "markdown",
   "id": "48768e78",
   "metadata": {},
   "source": [
    "### Data Types Conversion\n"
   ]
  },
  {
   "cell_type": "code",
   "execution_count": 82,
   "id": "1d3c0f04",
   "metadata": {},
   "outputs": [
    {
     "name": "stdout",
     "output_type": "stream",
     "text": [
      "10\n",
      "<class 'int'>\n",
      "5.0\n",
      "<class 'float'>\n",
      "10.0\n",
      "<class 'float'>\n"
     ]
    }
   ],
   "source": [
    "# int to float\n",
    "x1 = int(10.30)\n",
    "print(x1)\n",
    "print(type(x1))\n",
    "\n",
    "#float to int\n",
    "x2 = float(5)\n",
    "print(x2)\n",
    "print(type(x2))\n",
    "\n",
    "# String to float\n",
    "\n",
    "x3 = float(\"10.0\")\n",
    "print(x3)\n",
    "print(type(x3))\n",
    "\n"
   ]
  },
  {
   "cell_type": "code",
   "execution_count": 83,
   "id": "71b26fa4",
   "metadata": {},
   "outputs": [
    {
     "ename": "ValueError",
     "evalue": "invalid literal for int() with base 10: '10.0'",
     "output_type": "error",
     "traceback": [
      "\u001b[1;31m---------------------------------------------------------------------------\u001b[0m",
      "\u001b[1;31mValueError\u001b[0m                                Traceback (most recent call last)",
      "\u001b[1;32m<ipython-input-83-626669b5e7c1>\u001b[0m in \u001b[0;36m<module>\u001b[1;34m\u001b[0m\n\u001b[0;32m      1\u001b[0m \u001b[1;31m# String to int\u001b[0m\u001b[1;33m\u001b[0m\u001b[1;33m\u001b[0m\u001b[1;33m\u001b[0m\u001b[0m\n\u001b[0;32m      2\u001b[0m \u001b[1;33m\u001b[0m\u001b[0m\n\u001b[1;32m----> 3\u001b[1;33m \u001b[0mx3\u001b[0m \u001b[1;33m=\u001b[0m \u001b[0mint\u001b[0m\u001b[1;33m(\u001b[0m\u001b[1;34m\"10.0\"\u001b[0m\u001b[1;33m)\u001b[0m\u001b[1;33m\u001b[0m\u001b[1;33m\u001b[0m\u001b[0m\n\u001b[0m\u001b[0;32m      4\u001b[0m \u001b[0mprint\u001b[0m\u001b[1;33m(\u001b[0m\u001b[0mx3\u001b[0m\u001b[1;33m)\u001b[0m\u001b[1;33m\u001b[0m\u001b[1;33m\u001b[0m\u001b[0m\n\u001b[0;32m      5\u001b[0m \u001b[0mprint\u001b[0m\u001b[1;33m(\u001b[0m\u001b[0mtype\u001b[0m\u001b[1;33m(\u001b[0m\u001b[0mx3\u001b[0m\u001b[1;33m)\u001b[0m\u001b[1;33m)\u001b[0m\u001b[1;33m\u001b[0m\u001b[1;33m\u001b[0m\u001b[0m\n",
      "\u001b[1;31mValueError\u001b[0m: invalid literal for int() with base 10: '10.0'"
     ]
    }
   ],
   "source": [
    "# Float String to int\n",
    "\n",
    "x4 = int(\"10.0\") # not allowed\n",
    "print(x4)\n",
    "print(type(x4))"
   ]
  },
  {
   "cell_type": "code",
   "execution_count": 84,
   "id": "c45c1fe2",
   "metadata": {},
   "outputs": [
    {
     "ename": "ValueError",
     "evalue": "invalid literal for int() with base 10: 'Hi'",
     "output_type": "error",
     "traceback": [
      "\u001b[1;31m---------------------------------------------------------------------------\u001b[0m",
      "\u001b[1;31mValueError\u001b[0m                                Traceback (most recent call last)",
      "\u001b[1;32m<ipython-input-84-5317e6d7b923>\u001b[0m in \u001b[0;36m<module>\u001b[1;34m\u001b[0m\n\u001b[0;32m      1\u001b[0m \u001b[1;31m# String to int\u001b[0m\u001b[1;33m\u001b[0m\u001b[1;33m\u001b[0m\u001b[1;33m\u001b[0m\u001b[0m\n\u001b[0;32m      2\u001b[0m \u001b[1;33m\u001b[0m\u001b[0m\n\u001b[1;32m----> 3\u001b[1;33m \u001b[0mx4\u001b[0m \u001b[1;33m=\u001b[0m \u001b[0mint\u001b[0m\u001b[1;33m(\u001b[0m\u001b[1;34m\"Hi\"\u001b[0m\u001b[1;33m)\u001b[0m\u001b[1;33m\u001b[0m\u001b[1;33m\u001b[0m\u001b[0m\n\u001b[0m\u001b[0;32m      4\u001b[0m \u001b[0mprint\u001b[0m\u001b[1;33m(\u001b[0m\u001b[0mx4\u001b[0m\u001b[1;33m)\u001b[0m\u001b[1;33m\u001b[0m\u001b[1;33m\u001b[0m\u001b[0m\n\u001b[0;32m      5\u001b[0m \u001b[0mprint\u001b[0m\u001b[1;33m(\u001b[0m\u001b[0mtype\u001b[0m\u001b[1;33m(\u001b[0m\u001b[0mx4\u001b[0m\u001b[1;33m)\u001b[0m\u001b[1;33m)\u001b[0m\u001b[1;33m\u001b[0m\u001b[1;33m\u001b[0m\u001b[0m\n",
      "\u001b[1;31mValueError\u001b[0m: invalid literal for int() with base 10: 'Hi'"
     ]
    }
   ],
   "source": [
    "# String to int\n",
    "\n",
    "x4 = int(\"Hi\") # not allowed\n",
    "print(x4)\n",
    "print(type(x4))"
   ]
  },
  {
   "cell_type": "code",
   "execution_count": 87,
   "id": "ac0aa5d0",
   "metadata": {
    "scrolled": false
   },
   "outputs": [
    {
     "name": "stdout",
     "output_type": "stream",
     "text": [
      "hi\n"
     ]
    },
    {
     "ename": "TypeError",
     "evalue": "'str' object is not callable",
     "output_type": "error",
     "traceback": [
      "\u001b[1;31m---------------------------------------------------------------------------\u001b[0m",
      "\u001b[1;31mTypeError\u001b[0m                                 Traceback (most recent call last)",
      "\u001b[1;32m<ipython-input-87-8a9ecd7550b8>\u001b[0m in \u001b[0;36m<module>\u001b[1;34m\u001b[0m\n\u001b[0;32m      2\u001b[0m \u001b[0mprint\u001b[0m\u001b[1;33m(\u001b[0m\u001b[0mint\u001b[0m\u001b[1;33m)\u001b[0m\u001b[1;33m\u001b[0m\u001b[1;33m\u001b[0m\u001b[0m\n\u001b[0;32m      3\u001b[0m \u001b[1;33m\u001b[0m\u001b[0m\n\u001b[1;32m----> 4\u001b[1;33m \u001b[0mint\u001b[0m\u001b[1;33m(\u001b[0m\u001b[1;36m9.4\u001b[0m\u001b[1;33m)\u001b[0m\u001b[1;33m\u001b[0m\u001b[1;33m\u001b[0m\u001b[0m\n\u001b[0m",
      "\u001b[1;31mTypeError\u001b[0m: 'str' object is not callable"
     ]
    }
   ],
   "source": [
    "int = \"hi\"\n",
    "print(int)\n",
    "\n",
    "int(9.4)"
   ]
  },
  {
   "cell_type": "markdown",
   "id": "c086f260",
   "metadata": {},
   "source": [
    "## Milage Convertor\n",
    "\n"
   ]
  },
  {
   "cell_type": "code",
   "execution_count": 97,
   "id": "932b102c",
   "metadata": {},
   "outputs": [
    {
     "name": "stdout",
     "output_type": "stream",
     "text": [
      "How many kilometers did you cycle today?\n",
      "34\n",
      "ok, you said 34.0 i.e 21.25 miles\n"
     ]
    }
   ],
   "source": [
    "print(\"How many kilometers did you cycle today?\")\n",
    "\n",
    "kms = float(input())\n",
    "\n",
    "print(f\"ok, you said {kms} i.e {kms/1.6} miles\")"
   ]
  },
  {
   "cell_type": "markdown",
   "id": "70fb8e6d",
   "metadata": {},
   "source": [
    "## Boolean and Conditional Logic\n",
    "\n",
    "### If else\n",
    "- can have multiple elif\n",
    "- else is optional\n"
   ]
  },
  {
   "cell_type": "code",
   "execution_count": 5,
   "id": "fa49be79",
   "metadata": {},
   "outputs": [
    {
     "name": "stdout",
     "output_type": "stream",
     "text": [
      "Your name please: Sunil\n",
      "Hi Sunil\n"
     ]
    }
   ],
   "source": [
    "# IF ELSE\n",
    "\n",
    "name = input(\"Your name please: \")\n",
    "\n",
    "if name == \"Sunil\":\n",
    "    print(\"Hi Sunil\")\n",
    "elif name == \"Solo\":\n",
    "    print(\"Hi Solo\")\n",
    "else:\n",
    "    print(\"Sorry Invalid user\")"
   ]
  },
  {
   "cell_type": "code",
   "execution_count": 6,
   "id": "89168128",
   "metadata": {},
   "outputs": [
    {
     "name": "stdout",
     "output_type": "stream",
     "text": [
      "your fav animal? \n",
      "Please say something\n"
     ]
    }
   ],
   "source": [
    "# Truthiness\n",
    "# if animal\n",
    "# if x is 1\n",
    "\n",
    "animal = input(\"your fav animal? \")\n",
    "\n",
    "if animal:\n",
    "    print(f\"{animal} is my fav too\")\n",
    "else:\n",
    "    print(\"Please say something\")"
   ]
  },
  {
   "cell_type": "code",
   "execution_count": 10,
   "id": "cb49d2be",
   "metadata": {},
   "outputs": [
    {
     "name": "stdout",
     "output_type": "stream",
     "text": [
      "You pay 10$\n"
     ]
    }
   ],
   "source": [
    "age = 21\n",
    "\n",
    "if not ((age>=2 and age<=8) or age>=65):\n",
    "    print(\"You pay 10$\")"
   ]
  },
  {
   "cell_type": "markdown",
   "id": "8be12b91",
   "metadata": {},
   "source": [
    "##### is vs ==\n",
    "\n",
    "- == : checks if valu is same\n",
    "- is : checks if memory location is same"
   ]
  },
  {
   "cell_type": "code",
   "execution_count": 14,
   "id": "2f9f0b01",
   "metadata": {},
   "outputs": [
    {
     "data": {
      "text/plain": [
       "True"
      ]
     },
     "execution_count": 14,
     "metadata": {},
     "output_type": "execute_result"
    }
   ],
   "source": [
    "a = 1\n",
    "b = 1\n",
    "a == 1"
   ]
  },
  {
   "cell_type": "code",
   "execution_count": 16,
   "id": "b124c96f",
   "metadata": {},
   "outputs": [
    {
     "data": {
      "text/plain": [
       "False"
      ]
     },
     "execution_count": 16,
     "metadata": {},
     "output_type": "execute_result"
    }
   ],
   "source": [
    "a is None"
   ]
  },
  {
   "cell_type": "markdown",
   "id": "4fadc712",
   "metadata": {},
   "source": [
    "#### Bouncer Code\n",
    "\n"
   ]
  },
  {
   "cell_type": "code",
   "execution_count": 28,
   "id": "57cdde4f",
   "metadata": {},
   "outputs": [
    {
     "name": "stdout",
     "output_type": "stream",
     "text": [
      "How old are you: 22\n",
      "You are good to enter, You can drink\n"
     ]
    }
   ],
   "source": [
    "# ask for age\n",
    "age = input(\"How old are you: \")\n",
    "\n",
    "# 18-21 wristband\n",
    "# 21+ you can drink normal entry\n",
    "# too young sorry\n",
    "if age:\n",
    "    age = int(age)\n",
    "    if age >= 18 and age <= 21:\n",
    "        print(\"You can enter with Wristband, but you cannot drink\")\n",
    "    elif age > 21:\n",
    "        print(\"You are good to enter, You can drink\")\n",
    "    else:\n",
    "        print(\"Sorry!! You are too young\")\n",
    "else:\n",
    "    print(\"please enter valid age\")\n"
   ]
  },
  {
   "cell_type": "code",
   "execution_count": 32,
   "id": "225a9b25",
   "metadata": {},
   "outputs": [
    {
     "name": "stdout",
     "output_type": "stream",
     "text": [
      "How old are you: 1\n",
      "Sorry!! You are too young\n"
     ]
    }
   ],
   "source": [
    "# ask for age\n",
    "age = input(\"How old are you: \")\n",
    "\n",
    "# 18-21 wristband\n",
    "# 21+ you can drink normal entry\n",
    "# too young sorry\n",
    "if age:\n",
    "    age = int(age)\n",
    "    if age >= 21:\n",
    "        \n",
    "        print(\"You are good to enter, You can drink\")\n",
    "    elif age >= 18:\n",
    "        print(\"You can enter with Wristband, but you cannot drink\") \n",
    "    else:\n",
    "        print(\"Sorry!! You are too young\")\n",
    "else:\n",
    "    print(\"please enter valid age\")"
   ]
  },
  {
   "cell_type": "code",
   "execution_count": 36,
   "id": "0515cf37",
   "metadata": {},
   "outputs": [
    {
     "name": "stdout",
     "output_type": "stream",
     "text": [
      "both negative\n"
     ]
    }
   ],
   "source": [
    "x = -4\n",
    "y = -26\n",
    "\n",
    "# YOUR CODE GOES HERE ^^^^^^^^^^^^^^^^^^^^^^^^^^^^^^^^\n",
    "\n",
    "if x >= 0 and y >= 0:\n",
    "    print(\"both positive\")\n",
    "elif x < 0 and y < 0:\n",
    "    print(\"both negative\")\n",
    "elif x > 0:\n",
    "    print(\"x is positive and y is negative\")\n",
    "else:\n",
    "    print(\"y is positive and x is negative\")"
   ]
  },
  {
   "cell_type": "code",
   "execution_count": 42,
   "id": "bfe4afeb",
   "metadata": {},
   "outputs": [
    {
     "name": "stdout",
     "output_type": "stream",
     "text": [
      "False\n",
      "False\n",
      "True\n",
      "1\n",
      "False\n"
     ]
    }
   ],
   "source": [
    "from random import choice, randint\n",
    "\n",
    "# randomly assigns values to these four variables\n",
    "actually_sick = choice([True, False])\n",
    "kinda_sick = choice([True, False])\n",
    "hate_your_job = choice([True, False])\n",
    "sick_days = randint(0, 10)\n",
    "\n",
    "print(actually_sick)\n",
    "print(kinda_sick)\n",
    "print(hate_your_job)\n",
    "print(sick_days)\n",
    "calling_in_sick = None\n",
    "\n",
    "if actually_sick and sick_days > 0:\n",
    "    calling_in_sick = True\n",
    "elif kinda_sick and hate_your_job and sick_days > 0:\n",
    "    calling_in_sick = True\n",
    "else:\n",
    "    calling_in_sick = False\n",
    "    \n",
    "print(calling_in_sick)"
   ]
  },
  {
   "cell_type": "markdown",
   "id": "4d615694",
   "metadata": {},
   "source": [
    "### Rock..Paper...Scissors Lets Play\n"
   ]
  },
  {
   "cell_type": "code",
   "execution_count": 46,
   "id": "9e9f5662",
   "metadata": {},
   "outputs": [
    {
     "name": "stdout",
     "output_type": "stream",
     "text": [
      "Rock...\n",
      "Paper...\n",
      "Scissor...\n",
      "Player2 enter your move: rock\n",
      "Player2 wins!!\n",
      "player1 move: scissor\n"
     ]
    }
   ],
   "source": [
    "from random import choice, randint\n",
    "print(\"Rock...\")\n",
    "print(\"Paper...\")\n",
    "print(\"Scissor...\")\n",
    "\n",
    "\n",
    "#player1 = input(\"Player1 enter your move: \")\n",
    "player1 = choice([\"rock\", \"paper\", \"scissor\"])\n",
    "# for i in range(0, 10):\n",
    "#     print(\"****No Cheating****\\n\")\n",
    "player2 = input(\"Player2 enter your move: \")\n",
    "\n",
    "if player1 == player2:\n",
    "    print(\"Game Tie!!!\")\n",
    "elif player1 == \"rock\" and player2 == \"scissor\":\n",
    "    print(\"Player1 win!!!\")\n",
    "elif player1 == \"rock\" and player2 == \"paper\":\n",
    "    print(\"Player2 wins!!\")\n",
    "elif player1 == \"paper\" and player2 == \"rock\":\n",
    "    print(\"Player1 win!!!\")\n",
    "elif player1 == \"paper\" and player2 == \"scissor\":\n",
    "    print(\"Player2 wins!!\")\n",
    "elif player1 == \"scissor\" and player2 == \"rock\":\n",
    "    print(\"Player2 wins!!\")\n",
    "elif player1 == \"scissor\" and player2 == \"paper\":\n",
    "    print(\"Player1 wins!!\")\n",
    "else:\n",
    "    print(\"Something went wrong!!!\")\n",
    "    \n",
    "print(\"player1 move: \"+player1)"
   ]
  },
  {
   "cell_type": "markdown",
   "id": "fa49bc26",
   "metadata": {},
   "source": [
    "### Ranges\n",
    "\n",
    "- range(5) - 0 to 4\n",
    "- range(1,8) - 1 to 7\n",
    "- range(1,10,2) - 1,3,5,7,9\n",
    "- range(7,0,-1) - 7,6,5,4,3,2,1"
   ]
  },
  {
   "cell_type": "code",
   "execution_count": 53,
   "id": "bfbdbf22",
   "metadata": {},
   "outputs": [
    {
     "name": "stdout",
     "output_type": "stream",
     "text": [
      "range(0, 3)\n"
     ]
    }
   ],
   "source": [
    "print(range(3))"
   ]
  },
  {
   "cell_type": "markdown",
   "id": "3f955acf",
   "metadata": {},
   "source": [
    "## Loops"
   ]
  },
  {
   "cell_type": "code",
   "execution_count": 48,
   "id": "b5d62d7c",
   "metadata": {},
   "outputs": [
    {
     "name": "stdout",
     "output_type": "stream",
     "text": [
      "1\n",
      "4\n"
     ]
    }
   ],
   "source": [
    "for x in range(1,3):\n",
    "    print(x*x)"
   ]
  },
  {
   "cell_type": "code",
   "execution_count": 50,
   "id": "42be4cd0",
   "metadata": {},
   "outputs": [
    {
     "name": "stdout",
     "output_type": "stream",
     "text": [
      "H\n",
      "i\n"
     ]
    }
   ],
   "source": [
    "for char in \"Hi\":\n",
    "    print(char)"
   ]
  },
  {
   "cell_type": "code",
   "execution_count": 52,
   "id": "85de587a",
   "metadata": {},
   "outputs": [
    {
     "name": "stdout",
     "output_type": "stream",
     "text": [
      "10\n",
      "20\n",
      "30\n"
     ]
    }
   ],
   "source": [
    "for item in [10,20,30]:\n",
    "    print(item)"
   ]
  },
  {
   "cell_type": "markdown",
   "id": "f06a922f",
   "metadata": {},
   "source": [
    "### Unlucky Numbers"
   ]
  },
  {
   "cell_type": "code",
   "execution_count": 56,
   "id": "497e7336",
   "metadata": {},
   "outputs": [
    {
     "name": "stdout",
     "output_type": "stream",
     "text": [
      "1 is odd\n",
      "2 is even\n",
      "3 is odd\n",
      "4 is unlucky\n",
      "5 is odd\n",
      "6 is even\n",
      "7 is odd\n",
      "8 is even\n",
      "9 is odd\n",
      "10 is even\n",
      "11 is odd\n",
      "12 is even\n",
      "13 is unlucky\n",
      "14 is even\n",
      "15 is odd\n",
      "16 is even\n",
      "17 is odd\n",
      "18 is even\n",
      "19 is odd\n",
      "20 is even\n"
     ]
    }
   ],
   "source": [
    "for i in range(1,21):\n",
    "    if i == 4 or i == 13:\n",
    "        print(f\"{i} is unlucky\")\n",
    "    elif i % 2 == 0:\n",
    "        print(f\"{i} is even\")\n",
    "    elif i % 2 != 0:\n",
    "        print(f\"{i} is odd\")"
   ]
  },
  {
   "cell_type": "markdown",
   "id": "bc88326b",
   "metadata": {},
   "source": [
    "### While loop\n",
    "\n",
    "while \\<boolean expression\\>:\n",
    "    <br>code"
   ]
  },
  {
   "cell_type": "code",
   "execution_count": 57,
   "id": "716801c5",
   "metadata": {},
   "outputs": [
    {
     "name": "stdout",
     "output_type": "stream",
     "text": [
      "Hey, please say magic word: ok\n",
      "Hey, please say magic word: no way\n",
      "Hey, please say magic word: please\n"
     ]
    }
   ],
   "source": [
    "user_response = None\n",
    "\n",
    "while user_response != \"please\":\n",
    "    user_response = input(\"Hey, please say magic word: \")"
   ]
  },
  {
   "cell_type": "code",
   "execution_count": 58,
   "id": "f4fa4c5e",
   "metadata": {},
   "outputs": [
    {
     "name": "stdout",
     "output_type": "stream",
     "text": [
      "1\n",
      "2\n",
      "3\n"
     ]
    }
   ],
   "source": [
    "num = 1\n",
    "\n",
    "while num <= 3:\n",
    "    print(num)\n",
    "    num = num+1"
   ]
  },
  {
   "cell_type": "code",
   "execution_count": 81,
   "id": "0a58c98c",
   "metadata": {},
   "outputs": [
    {
     "name": "stdout",
     "output_type": "stream",
     "text": [
      "😀\n",
      "😀😀\n",
      "😀😀😀\n",
      "😀😀😀😀\n",
      "😀😀😀😀😀\n",
      "😀😀😀😀😀😀\n",
      "😀😀😀😀😀😀😀\n",
      "😀😀😀😀😀😀😀😀\n",
      "😀😀😀😀😀😀😀😀😀\n"
     ]
    }
   ],
   "source": [
    "\"\\U0001f600\"\n",
    "\n",
    "\n",
    "for i in range(1,10):\n",
    "    print(\"\\U0001f600\" * i)"
   ]
  },
  {
   "cell_type": "code",
   "execution_count": 77,
   "id": "bad563e4",
   "metadata": {},
   "outputs": [
    {
     "name": "stdout",
     "output_type": "stream",
     "text": [
      "😀\n",
      "😀😀\n",
      "😀😀😀\n",
      "😀😀😀😀\n",
      "😀😀😀😀😀\n",
      "😀😀😀😀😀😀\n",
      "😀😀😀😀😀😀😀\n",
      "😀😀😀😀😀😀😀😀\n",
      "😀😀😀😀😀😀😀😀😀\n",
      "😀😀😀😀😀😀😀😀😀😀\n"
     ]
    }
   ],
   "source": [
    "i = 1;\n",
    "\n",
    "while i <= 10:\n",
    "    j = 0;\n",
    "    while j < i:\n",
    "        print(\"\\U0001f600\", end=\"\")\n",
    "        j = j+1\n",
    "    print()\n",
    "    i = i+1"
   ]
  },
  {
   "cell_type": "code",
   "execution_count": 79,
   "id": "53c120ba",
   "metadata": {},
   "outputs": [
    {
     "name": "stdout",
     "output_type": "stream",
     "text": [
      "😀\n",
      "😀😀\n",
      "😀😀😀\n",
      "😀😀😀😀\n",
      "😀😀😀😀😀\n",
      "😀😀😀😀😀😀\n",
      "😀😀😀😀😀😀😀\n",
      "😀😀😀😀😀😀😀😀\n",
      "😀😀😀😀😀😀😀😀😀\n",
      "😀😀😀😀😀😀😀😀😀😀\n"
     ]
    }
   ],
   "source": [
    "times = 1\n",
    "\n",
    "while times<11:\n",
    "    print(\"\\U0001f600\" * times)\n",
    "    times = times+1"
   ]
  },
  {
   "cell_type": "markdown",
   "id": "7a68f7ca",
   "metadata": {},
   "source": [
    "### Stop Copying Me"
   ]
  },
  {
   "cell_type": "code",
   "execution_count": 83,
   "id": "68105dc0",
   "metadata": {},
   "outputs": [
    {
     "name": "stdout",
     "output_type": "stream",
     "text": [
      "Hey how's it going?all good, you?\n",
      "all good, you?\n",
      "hahah\n",
      "hahah\n",
      "ok very funny\n",
      "ok very funny\n",
      "stop copying me\n",
      "UGH FINE YOU WIN\n"
     ]
    }
   ],
   "source": [
    "user_response = input(\"Hey how's it going?\")\n",
    "\n",
    "while user_response != \"stop copying me\":\n",
    "    print(user_response)\n",
    "    user_response = input()\n",
    "print(\"UGH FINE YOU WIN\")"
   ]
  },
  {
   "cell_type": "markdown",
   "id": "ffb8e148",
   "metadata": {},
   "source": [
    "### Break Statement"
   ]
  },
  {
   "cell_type": "code",
   "execution_count": 85,
   "id": "8fb355ba",
   "metadata": {},
   "outputs": [
    {
     "name": "stdout",
     "output_type": "stream",
     "text": [
      "Say exit to quit ok\n",
      "Say exit to quit exit\n"
     ]
    }
   ],
   "source": [
    "while True:\n",
    "    command = input(\"Say exit to quit \")\n",
    "    if command == \"exit\":\n",
    "        break"
   ]
  },
  {
   "cell_type": "code",
   "execution_count": 94,
   "id": "bea718da",
   "metadata": {},
   "outputs": [
    {
     "name": "stdout",
     "output_type": "stream",
     "text": [
      "3\n",
      "Guess the number between 1 to 10: 1\n",
      "Too low, try again\n",
      "Guess the number between 1 to 10: 4\n",
      "Too high, try again\n",
      "Guess the number between 1 to 10: 3\n",
      "You guessed it! You won!\n",
      "Do you want keep playing?(y/n) y\n",
      "3\n",
      "Guess the number between 1 to 10: 5\n",
      "Too high, try again\n",
      "Guess the number between 1 to 10: 2\n",
      "Too low, try again\n",
      "Guess the number between 1 to 10: 4\n",
      "Too high, try again\n",
      "Guess the number between 1 to 10: 3\n",
      "You guessed it! You won!\n",
      "Do you want keep playing?(y/n) y\n",
      "3\n",
      "Guess the number between 1 to 10: 3\n",
      "You guessed it! You won!\n",
      "Do you want keep playing?(y/n) n\n"
     ]
    }
   ],
   "source": [
    "from random import choice, randint\n",
    "\n",
    "computer_num = randint(1,10)\n",
    "print(computer_num)\n",
    "num = int(input(\"Guess the number between 1 to 10: \"))\n",
    "\n",
    "keep_playing = \"y\" \n",
    "\n",
    "\n",
    "while keep_playing[0] == \"y\":\n",
    "    if num == computer_num:\n",
    "        print(\"You guessed it! You won!\")\n",
    "        keep_playing = input (\"Do you want keep playing?(y/n) \")\n",
    "        if(keep_playing[0] == \"y\"):\n",
    "            computer_num = randint(1,10)\n",
    "            print(computer_num)\n",
    "            num = int(input(\"Guess the number between 1 to 10: \"))\n",
    "    elif num < computer_num:\n",
    "        print(\"Too low, try again\")\n",
    "        num = int(input(\"Guess the number between 1 to 10: \")) \n",
    "    else:\n",
    "        print(\"Too high, try again\")\n",
    "        num = int(input(\"Guess the number between 1 to 10: \"))"
   ]
  },
  {
   "cell_type": "code",
   "execution_count": 98,
   "id": "b4cf6e3d",
   "metadata": {},
   "outputs": [
    {
     "name": "stdout",
     "output_type": "stream",
     "text": [
      "ENter no between 1 to 10:3\n",
      "Too High!!\n",
      "ENter no between 1 to 10:1\n",
      "Too Low!!\n",
      "ENter no between 1 to 10:2\n",
      "You Won!!\n",
      "Wanna play again(y/n)?y\n",
      "ENter no between 1 to 10:2\n",
      "You Won!!\n",
      "Wanna play again(y/n)?n\n",
      "Bye Bye!\n"
     ]
    }
   ],
   "source": [
    "from random import choice, randint\n",
    "\n",
    "random_num = randint(1,10)\n",
    "guess = None\n",
    "\n",
    "while True:\n",
    "    guess = int(input(\"ENter no between 1 to 10:\"))\n",
    "    if guess < random_num:\n",
    "        print(\"Too Low!!\")\n",
    "    elif guess > random_num:\n",
    "        print(\"Too High!!\")\n",
    "    else:\n",
    "        print(\"You Won!!\")\n",
    "        play_again = input(\"Wanna play again(y/n)?\")\n",
    "        if play_again == \"y\":\n",
    "            random_num = randint(1,10)\n",
    "            guess = None\n",
    "        else:\n",
    "            print(\"Bye Bye!\")\n",
    "            break\n",
    "        "
   ]
  },
  {
   "cell_type": "code",
   "execution_count": 106,
   "id": "5cd7c5d5",
   "metadata": {},
   "outputs": [
    {
     "name": "stdout",
     "output_type": "stream",
     "text": [
      "Rock...\n",
      "Paper...\n",
      "Scissor...\n",
      "Player2 enter your move: rock\n",
      "Something went wrong!!!\n",
      "player1 move: rock\n",
      "Player2 enter your move: rock\n",
      "Something went wrong!!!\n",
      "player1 move: rock\n",
      "Player2 enter your move: rock\n",
      "Something went wrong!!!\n",
      "player1 move: rock\n",
      "Match Tiee!!\n"
     ]
    }
   ],
   "source": [
    "from random import choice, randint\n",
    "print(\"Rock...\")\n",
    "print(\"Paper...\")\n",
    "print(\"Scissor...\")\n",
    "\n",
    "\n",
    "#player1 = input(\"Player1 enter your move: \")\n",
    "player1 = choice([\"rock\", \"paper\", \"scissor\"])\n",
    "player2 = None\n",
    "player1_score = 0\n",
    "player2_score = 0\n",
    "play_rounds = 3\n",
    "current_round = 1\n",
    "\n",
    "while current_round <= play_rounds:\n",
    "    player2 = input(\"Player2 enter your move: \")\n",
    "    if player1 == \"rock\" and player2 == \"scissor\":\n",
    "        player1_score = player1_score + 1 #print(\"Player1 win!!!\")\n",
    "    elif player1 == \"rock\" and player2 == \"paper\":\n",
    "        player2_score = player2_score + 1#print(\"Player2 wins!!\")\n",
    "    elif player1 == \"paper\" and player2 == \"rock\":\n",
    "        player1_score = player1_score + 1 #print(\"Player1 win!!!\")\n",
    "    elif player1 == \"paper\" and player2 == \"scissor\":\n",
    "        player2_score = player2_score + 1#print(\"Player2 wins!!\")\n",
    "    elif player1 == \"scissor\" and player2 == \"rock\":\n",
    "        player2_score = player2_score + 1#print(\"Player2 wins!!\")\n",
    "    elif player1 == \"scissor\" and player2 == \"paper\":\n",
    "        player1_score = player1_score + 1 #print(\"Player1 wins!!\")\n",
    "    else:\n",
    "        print(\"Something went wrong!!!\")\n",
    "    current_round = current_round + 1\n",
    "    print(\"player1 move: \"+player1)\n",
    "\n",
    "if player1_score > player2_score:\n",
    "    print(f\"Player1 win!!! with score {player1_score}\")\n",
    "elif player2_score > player1_score:\n",
    "    print(f\"Player2 win!!! with score {player2_score}\")\n",
    "else:\n",
    "    print(\"Match Tiee!!\")\n",
    "    "
   ]
  },
  {
   "cell_type": "raw",
   "id": "c221c59d",
   "metadata": {},
   "source": []
  }
 ],
 "metadata": {
  "kernelspec": {
   "display_name": "Python 3",
   "language": "python",
   "name": "python3"
  },
  "language_info": {
   "codemirror_mode": {
    "name": "ipython",
    "version": 3
   },
   "file_extension": ".py",
   "mimetype": "text/x-python",
   "name": "python",
   "nbconvert_exporter": "python",
   "pygments_lexer": "ipython3",
   "version": "3.8.3"
  }
 },
 "nbformat": 4,
 "nbformat_minor": 5
}
