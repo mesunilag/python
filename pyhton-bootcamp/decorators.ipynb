{
 "cells": [
  {
   "cell_type": "markdown",
   "id": "36315a97",
   "metadata": {},
   "source": [
    "# Decorators"
   ]
  },
  {
   "cell_type": "markdown",
   "id": "cb5d5fcd",
   "metadata": {},
   "source": [
    "## Higher order functions\n",
    "\n",
    "- A function which takes function as argument or rteurn functions"
   ]
  },
  {
   "cell_type": "code",
   "execution_count": 13,
   "id": "c3bf5faa",
   "metadata": {},
   "outputs": [],
   "source": [
    "# function as argument\n",
    "\n",
    "def sums(nums, func):\n",
    "    sum_list = []\n",
    "    for n in nums:\n",
    "        n = n + func(n)\n",
    "        sum_list.append(n)\n",
    "    return n\n",
    "\n",
    "def square(n):\n",
    "    return(n*n)\n",
    "\n",
    "def cube(n):\n",
    "    return n**3"
   ]
  },
  {
   "cell_type": "code",
   "execution_count": 11,
   "id": "30d64bef",
   "metadata": {},
   "outputs": [
    {
     "name": "stdout",
     "output_type": "stream",
     "text": [
      "30\n"
     ]
    }
   ],
   "source": [
    "nums = [2,3,4,5]\n",
    "print(sums(nums, square))"
   ]
  },
  {
   "cell_type": "code",
   "execution_count": 14,
   "id": "11b4afaf",
   "metadata": {},
   "outputs": [
    {
     "name": "stdout",
     "output_type": "stream",
     "text": [
      "130\n"
     ]
    }
   ],
   "source": [
    "print(sums(nums, cube))"
   ]
  },
  {
   "cell_type": "code",
   "execution_count": null,
   "id": "6a1b541f",
   "metadata": {},
   "outputs": [],
   "source": []
  },
  {
   "cell_type": "code",
   "execution_count": 23,
   "id": "a3e59b08",
   "metadata": {},
   "outputs": [],
   "source": [
    "# FUnction returns function\n",
    "from random import choice\n",
    "def make_laugh(name):\n",
    "    def get_laugh():\n",
    "        l = choice(('HAHAH', 'LOL', 'HeHe'))\n",
    "        return f\"{l} {name}\"\n",
    "    return get_laugh\n",
    "    "
   ]
  },
  {
   "cell_type": "code",
   "execution_count": 24,
   "id": "3133a79e",
   "metadata": {},
   "outputs": [
    {
     "name": "stdout",
     "output_type": "stream",
     "text": [
      "HeHe sunil\n"
     ]
    }
   ],
   "source": [
    "laugh = make_laugh(\"sunil\")\n",
    "print(laugh())"
   ]
  },
  {
   "cell_type": "markdown",
   "id": "55994a10",
   "metadata": {},
   "source": [
    "### Decorators\n",
    "\n",
    "- Decorators are functions\n",
    "- Decorators wrap other functions and enhances their behaviour\n",
    "- Higher Order Functions\n",
    "- Syntax @ - (syntactic sugar)"
   ]
  },
  {
   "cell_type": "code",
   "execution_count": 32,
   "id": "1db81ad2",
   "metadata": {},
   "outputs": [],
   "source": [
    "# Normal Way\n",
    "\n",
    "def be_polite(fun):\n",
    "    def wrapper():\n",
    "        print(\"What a pleaser to meet you!!\")\n",
    "        fun()\n",
    "        print(\"Have a great day!\")        \n",
    "    return wrapper\n",
    "\n",
    "def greet():\n",
    "    print(\"My Name is Sunil\")\n",
    "\n",
    "def rage():\n",
    "    print(\"I hate you\")"
   ]
  },
  {
   "cell_type": "code",
   "execution_count": 33,
   "id": "eff10a37",
   "metadata": {},
   "outputs": [
    {
     "name": "stdout",
     "output_type": "stream",
     "text": [
      "What a pleaser to meet you!!\n",
      "My Name is Sunil\n",
      "Have a great day!\n"
     ]
    }
   ],
   "source": [
    "greet = be_polite(greet)\n",
    "greet()\n"
   ]
  },
  {
   "cell_type": "code",
   "execution_count": 34,
   "id": "b0869c15",
   "metadata": {},
   "outputs": [
    {
     "name": "stdout",
     "output_type": "stream",
     "text": [
      "What a pleaser to meet you!!\n",
      "My Name is Sunil\n",
      "Have a great day!\n"
     ]
    }
   ],
   "source": [
    "greet()"
   ]
  },
  {
   "cell_type": "code",
   "execution_count": 35,
   "id": "5dda5c58",
   "metadata": {},
   "outputs": [
    {
     "name": "stdout",
     "output_type": "stream",
     "text": [
      "What a pleaser to meet you!!\n",
      "I hate you\n",
      "Have a great day!\n"
     ]
    }
   ],
   "source": [
    "rage = be_polite(rage)\n",
    "rage()"
   ]
  },
  {
   "cell_type": "code",
   "execution_count": 37,
   "id": "deb855c2",
   "metadata": {},
   "outputs": [
    {
     "name": "stdout",
     "output_type": "stream",
     "text": [
      "What a pleaser to meet you!!\n",
      "I hate you\n",
      "Have a great day!\n",
      "What a pleaser to meet you!!\n",
      "My Name is Sunil\n",
      "Have a great day!\n"
     ]
    }
   ],
   "source": [
    "rage()\n",
    "greet()"
   ]
  },
  {
   "cell_type": "code",
   "execution_count": null,
   "id": "b7f52f01",
   "metadata": {},
   "outputs": [],
   "source": []
  },
  {
   "cell_type": "code",
   "execution_count": 38,
   "id": "ccbb3f33",
   "metadata": {},
   "outputs": [],
   "source": [
    "# Decorators Way\n",
    "\n",
    "def be_polite(fun):\n",
    "    def wrapper():\n",
    "        print(\"What a pleaser to meet you!!\")\n",
    "        fun()\n",
    "        print(\"Have a great day!\")        \n",
    "    return wrapper\n",
    "\n",
    "@be_polite\n",
    "def greet():\n",
    "    print(\"My Name is Sunil\")\n",
    "    \n",
    "@be_polite\n",
    "def rage():\n",
    "    print(\"I hate you\")"
   ]
  },
  {
   "cell_type": "code",
   "execution_count": 39,
   "id": "c4f76540",
   "metadata": {},
   "outputs": [
    {
     "name": "stdout",
     "output_type": "stream",
     "text": [
      "What a pleaser to meet you!!\n",
      "My Name is Sunil\n",
      "Have a great day!\n"
     ]
    }
   ],
   "source": [
    "greet()"
   ]
  },
  {
   "cell_type": "code",
   "execution_count": 40,
   "id": "0f780f59",
   "metadata": {},
   "outputs": [
    {
     "name": "stdout",
     "output_type": "stream",
     "text": [
      "What a pleaser to meet you!!\n",
      "I hate you\n",
      "Have a great day!\n"
     ]
    }
   ],
   "source": [
    "rage()"
   ]
  },
  {
   "cell_type": "markdown",
   "id": "b0f6daa0",
   "metadata": {},
   "source": [
    "#### Decorators with multiple signatures"
   ]
  },
  {
   "cell_type": "code",
   "execution_count": 45,
   "id": "7b88c7b2",
   "metadata": {},
   "outputs": [],
   "source": [
    "def shout(fn):\n",
    "    def wrapper(*args, **kwargs):\n",
    "        return fn(*args, **kwargs).upper()\n",
    "    return wrapper\n",
    "\n",
    "@shout\n",
    "def greet(name):\n",
    "    return f\"Heyy {name}\"\n",
    "\n",
    "@shout\n",
    "def order(name, dish):\n",
    "    return f\"Hey {name} please order {dish}\"\n",
    "\n",
    "@shout\n",
    "def lol():\n",
    "    return \"LOL\""
   ]
  },
  {
   "cell_type": "code",
   "execution_count": 46,
   "id": "0d53fd9d",
   "metadata": {},
   "outputs": [
    {
     "data": {
      "text/plain": [
       "'HEYY SUNIL'"
      ]
     },
     "execution_count": 46,
     "metadata": {},
     "output_type": "execute_result"
    }
   ],
   "source": [
    "greet(\"Sunil\")"
   ]
  },
  {
   "cell_type": "code",
   "execution_count": 47,
   "id": "deccf9f8",
   "metadata": {},
   "outputs": [
    {
     "data": {
      "text/plain": [
       "'LOL'"
      ]
     },
     "execution_count": 47,
     "metadata": {},
     "output_type": "execute_result"
    }
   ],
   "source": [
    "lol()"
   ]
  },
  {
   "cell_type": "markdown",
   "id": "47f02c4a",
   "metadata": {},
   "source": [
    "### Preserving function metadata"
   ]
  },
  {
   "cell_type": "code",
   "execution_count": 49,
   "id": "666c4cd9",
   "metadata": {},
   "outputs": [],
   "source": [
    "def log_fun_data(fn):\n",
    "    def wrapper(*args, **kwargs):\n",
    "        \"\"\"This is a warapper function\"\"\"\n",
    "        print(f\"you are abt to call: {fn.__name__}\")\n",
    "        print(f\"here is documnetation: {fn.__doc__}\")\n",
    "        return fn(*args, **kwargs)\n",
    "    return wrapper\n",
    "\n",
    "@log_fun_data\n",
    "def add(x,y):\n",
    "    \"\"\"Add two numbers\"\"\"\n",
    "    return x+y\n"
   ]
  },
  {
   "cell_type": "code",
   "execution_count": 50,
   "id": "406f351d",
   "metadata": {},
   "outputs": [
    {
     "name": "stdout",
     "output_type": "stream",
     "text": [
      "you are abt to call: add\n",
      "here is documnetation: Add two numbers\n"
     ]
    },
    {
     "data": {
      "text/plain": [
       "3"
      ]
     },
     "execution_count": 50,
     "metadata": {},
     "output_type": "execute_result"
    }
   ],
   "source": [
    "add(1,2)"
   ]
  },
  {
   "cell_type": "code",
   "execution_count": 51,
   "id": "b1e9d287",
   "metadata": {},
   "outputs": [
    {
     "data": {
      "text/plain": [
       "'wrapper'"
      ]
     },
     "execution_count": 51,
     "metadata": {},
     "output_type": "execute_result"
    }
   ],
   "source": [
    "add.__name__"
   ]
  },
  {
   "cell_type": "code",
   "execution_count": 52,
   "id": "ff905d10",
   "metadata": {},
   "outputs": [
    {
     "data": {
      "text/plain": [
       "'This is a warapper function'"
      ]
     },
     "execution_count": 52,
     "metadata": {},
     "output_type": "execute_result"
    }
   ],
   "source": [
    "add.__doc__"
   ]
  },
  {
   "cell_type": "code",
   "execution_count": 54,
   "id": "a15b3e74",
   "metadata": {},
   "outputs": [],
   "source": [
    "from functools import wraps\n",
    "def log_fun_data(fn):\n",
    "    @wraps(fn)\n",
    "    def wrapper(*args, **kwargs):\n",
    "        \"\"\"This is a warapper function\"\"\"\n",
    "        print(f\"you are abt to call: {fn.__name__}\")\n",
    "        print(f\"here is documnetation: {fn.__doc__}\")\n",
    "        return fn(*args, **kwargs)\n",
    "    return wrapper\n",
    "\n",
    "@log_fun_data\n",
    "def add(x,y):\n",
    "    \"\"\"Add two numbers\"\"\"\n",
    "    return x+y\n"
   ]
  },
  {
   "cell_type": "code",
   "execution_count": 55,
   "id": "e36d6e9e",
   "metadata": {},
   "outputs": [
    {
     "name": "stdout",
     "output_type": "stream",
     "text": [
      "you are abt to call: add\n",
      "here is documnetation: Add two numbers\n"
     ]
    },
    {
     "data": {
      "text/plain": [
       "3"
      ]
     },
     "execution_count": 55,
     "metadata": {},
     "output_type": "execute_result"
    }
   ],
   "source": [
    "add(1,2)"
   ]
  },
  {
   "cell_type": "code",
   "execution_count": 56,
   "id": "b2b74271",
   "metadata": {},
   "outputs": [
    {
     "data": {
      "text/plain": [
       "'add'"
      ]
     },
     "execution_count": 56,
     "metadata": {},
     "output_type": "execute_result"
    }
   ],
   "source": [
    "add.__name__"
   ]
  },
  {
   "cell_type": "code",
   "execution_count": 57,
   "id": "297bebfe",
   "metadata": {},
   "outputs": [
    {
     "data": {
      "text/plain": [
       "'Add two numbers'"
      ]
     },
     "execution_count": 57,
     "metadata": {},
     "output_type": "execute_result"
    }
   ],
   "source": [
    "add.__doc__"
   ]
  },
  {
   "cell_type": "code",
   "execution_count": 58,
   "id": "bd907ff1",
   "metadata": {},
   "outputs": [],
   "source": [
    "## Create a speed test decorator"
   ]
  },
  {
   "cell_type": "code",
   "execution_count": 92,
   "id": "263195fc",
   "metadata": {},
   "outputs": [],
   "source": [
    "from functools import wraps\n",
    "from time import time\n",
    "\n",
    "def speed_test(fn):\n",
    "    @wraps(fn)\n",
    "    def wrapper(*args, **kwargs):\n",
    "        start = time()\n",
    "        result = fn(*args, **kwargs)\n",
    "        end = time()\n",
    "        print(f\"Time elapsed {end-start}\")\n",
    "        return result\n",
    "    return wrapper\n",
    "\n",
    "@speed_test\n",
    "def sum_nums():\n",
    "    return sum(n for n in range(1,10))"
   ]
  },
  {
   "cell_type": "code",
   "execution_count": 93,
   "id": "ba6aa1ca",
   "metadata": {},
   "outputs": [
    {
     "ename": "TypeError",
     "evalue": "sum() missing 1 required positional argument: 'func'",
     "output_type": "error",
     "traceback": [
      "\u001b[1;31m---------------------------------------------------------------------------\u001b[0m",
      "\u001b[1;31mTypeError\u001b[0m                                 Traceback (most recent call last)",
      "\u001b[1;32m<ipython-input-93-85ea7083a13f>\u001b[0m in \u001b[0;36m<module>\u001b[1;34m\u001b[0m\n\u001b[1;32m----> 1\u001b[1;33m \u001b[0mprint\u001b[0m\u001b[1;33m(\u001b[0m\u001b[0msum_nums\u001b[0m\u001b[1;33m(\u001b[0m\u001b[1;33m)\u001b[0m\u001b[1;33m)\u001b[0m\u001b[1;33m\u001b[0m\u001b[1;33m\u001b[0m\u001b[0m\n\u001b[0m",
      "\u001b[1;32m<ipython-input-92-25361646e642>\u001b[0m in \u001b[0;36mwrapper\u001b[1;34m(*args, **kwargs)\u001b[0m\n\u001b[0;32m      6\u001b[0m     \u001b[1;32mdef\u001b[0m \u001b[0mwrapper\u001b[0m\u001b[1;33m(\u001b[0m\u001b[1;33m*\u001b[0m\u001b[0margs\u001b[0m\u001b[1;33m,\u001b[0m \u001b[1;33m**\u001b[0m\u001b[0mkwargs\u001b[0m\u001b[1;33m)\u001b[0m\u001b[1;33m:\u001b[0m\u001b[1;33m\u001b[0m\u001b[1;33m\u001b[0m\u001b[0m\n\u001b[0;32m      7\u001b[0m         \u001b[0mstart\u001b[0m \u001b[1;33m=\u001b[0m \u001b[0mtime\u001b[0m\u001b[1;33m(\u001b[0m\u001b[1;33m)\u001b[0m\u001b[1;33m\u001b[0m\u001b[1;33m\u001b[0m\u001b[0m\n\u001b[1;32m----> 8\u001b[1;33m         \u001b[0mresult\u001b[0m \u001b[1;33m=\u001b[0m \u001b[0mfn\u001b[0m\u001b[1;33m(\u001b[0m\u001b[1;33m*\u001b[0m\u001b[0margs\u001b[0m\u001b[1;33m,\u001b[0m \u001b[1;33m**\u001b[0m\u001b[0mkwargs\u001b[0m\u001b[1;33m)\u001b[0m\u001b[1;33m\u001b[0m\u001b[1;33m\u001b[0m\u001b[0m\n\u001b[0m\u001b[0;32m      9\u001b[0m         \u001b[0mend\u001b[0m \u001b[1;33m=\u001b[0m \u001b[0mtime\u001b[0m\u001b[1;33m(\u001b[0m\u001b[1;33m)\u001b[0m\u001b[1;33m\u001b[0m\u001b[1;33m\u001b[0m\u001b[0m\n\u001b[0;32m     10\u001b[0m         \u001b[0mprint\u001b[0m\u001b[1;33m(\u001b[0m\u001b[1;34mf\"Time elapsed {end-start}\"\u001b[0m\u001b[1;33m)\u001b[0m\u001b[1;33m\u001b[0m\u001b[1;33m\u001b[0m\u001b[0m\n",
      "\u001b[1;32m<ipython-input-92-25361646e642>\u001b[0m in \u001b[0;36msum_nums\u001b[1;34m()\u001b[0m\n\u001b[0;32m     14\u001b[0m \u001b[1;33m@\u001b[0m\u001b[0mspeed_test\u001b[0m\u001b[1;33m\u001b[0m\u001b[1;33m\u001b[0m\u001b[0m\n\u001b[0;32m     15\u001b[0m \u001b[1;32mdef\u001b[0m \u001b[0msum_nums\u001b[0m\u001b[1;33m(\u001b[0m\u001b[1;33m)\u001b[0m\u001b[1;33m:\u001b[0m\u001b[1;33m\u001b[0m\u001b[1;33m\u001b[0m\u001b[0m\n\u001b[1;32m---> 16\u001b[1;33m     \u001b[1;32mreturn\u001b[0m \u001b[0msum\u001b[0m\u001b[1;33m(\u001b[0m\u001b[0mn\u001b[0m \u001b[1;32mfor\u001b[0m \u001b[0mn\u001b[0m \u001b[1;32min\u001b[0m \u001b[0mrange\u001b[0m\u001b[1;33m(\u001b[0m\u001b[1;36m1\u001b[0m\u001b[1;33m,\u001b[0m\u001b[1;36m10\u001b[0m\u001b[1;33m)\u001b[0m\u001b[1;33m)\u001b[0m\u001b[1;33m\u001b[0m\u001b[1;33m\u001b[0m\u001b[0m\n\u001b[0m",
      "\u001b[1;31mTypeError\u001b[0m: sum() missing 1 required positional argument: 'func'"
     ]
    }
   ],
   "source": [
    "print(sum_nums())"
   ]
  },
  {
   "cell_type": "code",
   "execution_count": 95,
   "id": "aae6b8b6",
   "metadata": {},
   "outputs": [
    {
     "ename": "TypeError",
     "evalue": "sum() missing 1 required positional argument: 'func'",
     "output_type": "error",
     "traceback": [
      "\u001b[1;31m---------------------------------------------------------------------------\u001b[0m",
      "\u001b[1;31mTypeError\u001b[0m                                 Traceback (most recent call last)",
      "\u001b[1;32m<ipython-input-95-8b1332ff03e0>\u001b[0m in \u001b[0;36m<module>\u001b[1;34m\u001b[0m\n\u001b[1;32m----> 1\u001b[1;33m \u001b[0mprint\u001b[0m\u001b[1;33m(\u001b[0m\u001b[0msum\u001b[0m\u001b[1;33m(\u001b[0m\u001b[0mn\u001b[0m \u001b[1;32mfor\u001b[0m \u001b[0mn\u001b[0m \u001b[1;32min\u001b[0m \u001b[0mrange\u001b[0m\u001b[1;33m(\u001b[0m\u001b[1;36m10000\u001b[0m\u001b[1;33m)\u001b[0m\u001b[1;33m)\u001b[0m\u001b[1;33m)\u001b[0m\u001b[1;33m\u001b[0m\u001b[1;33m\u001b[0m\u001b[0m\n\u001b[0m",
      "\u001b[1;31mTypeError\u001b[0m: sum() missing 1 required positional argument: 'func'"
     ]
    }
   ],
   "source": [
    "print(sum(n for n in range(10000)))"
   ]
  },
  {
   "cell_type": "code",
   "execution_count": null,
   "id": "77048486",
   "metadata": {},
   "outputs": [],
   "source": [
    "'''\n",
    "@show_args\n",
    "def do_nothing(*args, **kwargs):\n",
    "    pass\n",
    "\n",
    "do_nothing(1, 2, 3,a=\"hi\",b=\"bye\")\n",
    "\n",
    "# Should print (on two lines):\n",
    "# Here are the args: (1, 2, 3)\n",
    "# Here are the kwargs: {\"a\": \"hi\", \"b\": \"bye\"}\n",
    "'''\n",
    "\n",
    "from functools import wraps\n",
    "\n",
    "\n",
    "def show_args(fn):\n",
    "    @wraps(fn)\n",
    "    def wrapper(*args, **kwargs):\n",
    "        print(\"Here are the args: {}\".format(args))\n",
    "        print(\"Here are the kwargs: {}\".format(kwargs))\n",
    "        return fn(*args, **kwargs)\n",
    "    return wrapper\n",
    "    \n",
    "\n",
    "@show_args\n",
    "def do_nothing(*args, **kwargs):\n",
    "    pass"
   ]
  },
  {
   "cell_type": "code",
   "execution_count": 98,
   "id": "ed89499e",
   "metadata": {},
   "outputs": [],
   "source": [
    "from functools import wraps\n",
    "\n",
    "def ensure_no_kwargs(fn):\n",
    "    @wraps(fn)\n",
    "    def wrapper(*args, **kwargs):\n",
    "        if kwargs:\n",
    "            raise ValueError(\"kwargs not allowed\")\n",
    "        return fn(*args, **kwargs)\n",
    "    return wrapper\n",
    "\n",
    "@ensure_no_kwargs\n",
    "def greet(name):\n",
    "    print(f\"Hi {name}\")"
   ]
  },
  {
   "cell_type": "code",
   "execution_count": 99,
   "id": "c6cc837b",
   "metadata": {},
   "outputs": [
    {
     "name": "stdout",
     "output_type": "stream",
     "text": [
      "Hi Sunil\n"
     ]
    }
   ],
   "source": [
    "greet(\"Sunil\")"
   ]
  },
  {
   "cell_type": "code",
   "execution_count": 100,
   "id": "ba1e521b",
   "metadata": {},
   "outputs": [
    {
     "ename": "ValueError",
     "evalue": "kwargs not allowed",
     "output_type": "error",
     "traceback": [
      "\u001b[1;31m---------------------------------------------------------------------------\u001b[0m",
      "\u001b[1;31mValueError\u001b[0m                                Traceback (most recent call last)",
      "\u001b[1;32m<ipython-input-100-685990a39789>\u001b[0m in \u001b[0;36m<module>\u001b[1;34m\u001b[0m\n\u001b[1;32m----> 1\u001b[1;33m \u001b[0mgreet\u001b[0m\u001b[1;33m(\u001b[0m\u001b[0mname\u001b[0m\u001b[1;33m=\u001b[0m\u001b[1;34m\"Sunil\"\u001b[0m\u001b[1;33m)\u001b[0m\u001b[1;33m\u001b[0m\u001b[1;33m\u001b[0m\u001b[0m\n\u001b[0m",
      "\u001b[1;32m<ipython-input-98-d6cde5d639db>\u001b[0m in \u001b[0;36mwrapper\u001b[1;34m(*args, **kwargs)\u001b[0m\n\u001b[0;32m      5\u001b[0m     \u001b[1;32mdef\u001b[0m \u001b[0mwrapper\u001b[0m\u001b[1;33m(\u001b[0m\u001b[1;33m*\u001b[0m\u001b[0margs\u001b[0m\u001b[1;33m,\u001b[0m \u001b[1;33m**\u001b[0m\u001b[0mkwargs\u001b[0m\u001b[1;33m)\u001b[0m\u001b[1;33m:\u001b[0m\u001b[1;33m\u001b[0m\u001b[1;33m\u001b[0m\u001b[0m\n\u001b[0;32m      6\u001b[0m         \u001b[1;32mif\u001b[0m \u001b[0mkwargs\u001b[0m\u001b[1;33m:\u001b[0m\u001b[1;33m\u001b[0m\u001b[1;33m\u001b[0m\u001b[0m\n\u001b[1;32m----> 7\u001b[1;33m             \u001b[1;32mraise\u001b[0m \u001b[0mValueError\u001b[0m\u001b[1;33m(\u001b[0m\u001b[1;34m\"kwargs not allowed\"\u001b[0m\u001b[1;33m)\u001b[0m\u001b[1;33m\u001b[0m\u001b[1;33m\u001b[0m\u001b[0m\n\u001b[0m\u001b[0;32m      8\u001b[0m         \u001b[1;32mreturn\u001b[0m \u001b[0mfn\u001b[0m\u001b[1;33m(\u001b[0m\u001b[1;33m*\u001b[0m\u001b[0margs\u001b[0m\u001b[1;33m,\u001b[0m \u001b[1;33m**\u001b[0m\u001b[0mkwargs\u001b[0m\u001b[1;33m)\u001b[0m\u001b[1;33m\u001b[0m\u001b[1;33m\u001b[0m\u001b[0m\n\u001b[0;32m      9\u001b[0m     \u001b[1;32mreturn\u001b[0m \u001b[0mwrapper\u001b[0m\u001b[1;33m\u001b[0m\u001b[1;33m\u001b[0m\u001b[0m\n",
      "\u001b[1;31mValueError\u001b[0m: kwargs not allowed"
     ]
    }
   ],
   "source": [
    "greet(name=\"Sunil\")"
   ]
  },
  {
   "cell_type": "code",
   "execution_count": 101,
   "id": "a7f66c05",
   "metadata": {},
   "outputs": [],
   "source": [
    "'''\n",
    "@double_return \n",
    "def add(x, y):\n",
    "    return x + y\n",
    "    \n",
    "add(1, 2) # [3, 3]\n",
    "\n",
    "@double_return\n",
    "def greet(name):\n",
    "    return \"Hi, I'm \" + name\n",
    "\n",
    "greet(\"Colt\") # [\"Hi, I'm Colt\", \"Hi, I'm Colt\"]\n",
    "'''\n",
    "\n",
    "def double_return(fn):\n",
    "    def wrapper(*args, **kwargs):\n",
    "        return [fn(*args, **kwargs),fn(*args, **kwargs)]\n",
    "    return wrapper\n",
    "    \n",
    "\n",
    "@double_return\n",
    "def greet(name):\n",
    "    return \"Hi, I'm \" + name\n",
    "\n",
    "@double_return \n",
    "def add(x, y):\n",
    "    return x + y"
   ]
  },
  {
   "cell_type": "code",
   "execution_count": 103,
   "id": "5158b03f",
   "metadata": {},
   "outputs": [
    {
     "data": {
      "text/plain": [
       "[\"Hi, I'm Colt\", \"Hi, I'm Colt\"]"
      ]
     },
     "execution_count": 103,
     "metadata": {},
     "output_type": "execute_result"
    }
   ],
   "source": [
    "add(1, 2)\n",
    "greet(\"Colt\")"
   ]
  },
  {
   "cell_type": "code",
   "execution_count": 107,
   "id": "9aed62bd",
   "metadata": {},
   "outputs": [],
   "source": [
    "'''\n",
    "@ensure_fewer_than_three_args\n",
    "def add_all(*nums):\n",
    "    return sum(nums)\n",
    "\n",
    "add_all() # 0\n",
    "add_all(1) # 1\n",
    "add_all(1,2) # 3\n",
    "add_all(1,2,3) # \"Too many arguments!\"\n",
    "add_all(1,2,3,4,5,6) # \"Too many arguments!\"\n",
    "'''\n",
    "\n",
    "from functools import wraps\n",
    "\n",
    "def ensure_fewer_than_three_args(fn):\n",
    "    wraps(fn)\n",
    "    def wrapper(*args):\n",
    "        if len(args)<3:\n",
    "            return fn(*args)\n",
    "        else:\n",
    "            raise ValuError(\"Too many arguments!\")\n",
    "    return wrapper\n",
    "\n",
    "@ensure_fewer_than_three_args\n",
    "def add_all(*nums):\n",
    "    return sum(nums)"
   ]
  },
  {
   "cell_type": "code",
   "execution_count": 109,
   "id": "08afe951",
   "metadata": {},
   "outputs": [
    {
     "ename": "TypeError",
     "evalue": "sum() missing 1 required positional argument: 'func'",
     "output_type": "error",
     "traceback": [
      "\u001b[1;31m---------------------------------------------------------------------------\u001b[0m",
      "\u001b[1;31mTypeError\u001b[0m                                 Traceback (most recent call last)",
      "\u001b[1;32m<ipython-input-109-cc392f39c4bf>\u001b[0m in \u001b[0;36m<module>\u001b[1;34m\u001b[0m\n\u001b[0;32m      1\u001b[0m \u001b[1;32mdef\u001b[0m \u001b[0madd_all\u001b[0m\u001b[1;33m(\u001b[0m\u001b[1;33m*\u001b[0m\u001b[0mnums\u001b[0m\u001b[1;33m)\u001b[0m\u001b[1;33m:\u001b[0m\u001b[1;33m\u001b[0m\u001b[1;33m\u001b[0m\u001b[0m\n\u001b[0;32m      2\u001b[0m     \u001b[1;32mreturn\u001b[0m \u001b[0msum\u001b[0m\u001b[1;33m(\u001b[0m\u001b[0mnums\u001b[0m\u001b[1;33m)\u001b[0m\u001b[1;33m\u001b[0m\u001b[1;33m\u001b[0m\u001b[0m\n\u001b[1;32m----> 3\u001b[1;33m \u001b[0mprint\u001b[0m\u001b[1;33m(\u001b[0m\u001b[0madd_all\u001b[0m\u001b[1;33m(\u001b[0m\u001b[1;33m)\u001b[0m\u001b[1;33m)\u001b[0m\u001b[1;33m\u001b[0m\u001b[1;33m\u001b[0m\u001b[0m\n\u001b[0m",
      "\u001b[1;32m<ipython-input-109-cc392f39c4bf>\u001b[0m in \u001b[0;36madd_all\u001b[1;34m(*nums)\u001b[0m\n\u001b[0;32m      1\u001b[0m \u001b[1;32mdef\u001b[0m \u001b[0madd_all\u001b[0m\u001b[1;33m(\u001b[0m\u001b[1;33m*\u001b[0m\u001b[0mnums\u001b[0m\u001b[1;33m)\u001b[0m\u001b[1;33m:\u001b[0m\u001b[1;33m\u001b[0m\u001b[1;33m\u001b[0m\u001b[0m\n\u001b[1;32m----> 2\u001b[1;33m     \u001b[1;32mreturn\u001b[0m \u001b[0msum\u001b[0m\u001b[1;33m(\u001b[0m\u001b[0mnums\u001b[0m\u001b[1;33m)\u001b[0m\u001b[1;33m\u001b[0m\u001b[1;33m\u001b[0m\u001b[0m\n\u001b[0m\u001b[0;32m      3\u001b[0m \u001b[0mprint\u001b[0m\u001b[1;33m(\u001b[0m\u001b[0madd_all\u001b[0m\u001b[1;33m(\u001b[0m\u001b[1;33m)\u001b[0m\u001b[1;33m)\u001b[0m\u001b[1;33m\u001b[0m\u001b[1;33m\u001b[0m\u001b[0m\n",
      "\u001b[1;31mTypeError\u001b[0m: sum() missing 1 required positional argument: 'func'"
     ]
    }
   ],
   "source": [
    "def add_all(*nums):\n",
    "    return sum(nums)\n",
    "print(add_all())"
   ]
  },
  {
   "cell_type": "code",
   "execution_count": 113,
   "id": "5bd9def3",
   "metadata": {},
   "outputs": [],
   "source": [
    "'''\n",
    "@only_ints \n",
    "def add(x, y):\n",
    "    return x + y\n",
    "    \n",
    "add(1, 2) # 3\n",
    "add(\"1\", \"2\") # \"Please only invoke with integers.\"\n",
    "'''\n",
    "\n",
    "from functools import wraps\n",
    "\n",
    "def only_ints(fn):\n",
    "    wraps(fn)\n",
    "    def wrapper(*args):\n",
    "        if all(isinstance(x,int) for x in args):\n",
    "            return fn(*args)\n",
    "        return \"Please only invoke with integers.\"\n",
    "    return wrapper\n",
    "\n",
    "@only_ints \n",
    "def add(x, y):\n",
    "    return x + y"
   ]
  },
  {
   "cell_type": "code",
   "execution_count": 114,
   "id": "eb46c48f",
   "metadata": {},
   "outputs": [
    {
     "data": {
      "text/plain": [
       "3"
      ]
     },
     "execution_count": 114,
     "metadata": {},
     "output_type": "execute_result"
    }
   ],
   "source": [
    "add(1, 2) # 3"
   ]
  },
  {
   "cell_type": "code",
   "execution_count": 115,
   "id": "5400b44f",
   "metadata": {},
   "outputs": [
    {
     "data": {
      "text/plain": [
       "'Please only invoke with integers.'"
      ]
     },
     "execution_count": 115,
     "metadata": {},
     "output_type": "execute_result"
    }
   ],
   "source": [
    "add(\"1\", \"2\")"
   ]
  },
  {
   "cell_type": "code",
   "execution_count": 116,
   "id": "984694a1",
   "metadata": {},
   "outputs": [],
   "source": [
    "'''\n",
    "@ensure_authorized\n",
    "def show_secrets(*args, **kwargs):\n",
    "    return \"Shh! Don't tell anybody!\"\n",
    "\n",
    "show_secrets(role=\"admin\") # \"Shh! Don't tell anybody!\"\n",
    "show_secrets(role=\"nobody\") # \"Unauthorized\"\n",
    "show_secrets(a=\"b\") # \"Unauthorized\"\n",
    "'''\n",
    "\n",
    "from functools import wraps\n",
    "\n",
    "def ensure_authorized(fn):\n",
    "    wraps(fn)\n",
    "    def wrapper(*args, **kwargs):\n",
    "        if 'role' in kwargs and kwargs['role'] == 'admin':\n",
    "            return fn(*args, **kwargs)\n",
    "        return \"Unauthorized\"\n",
    "    return wrapper\n",
    "\n",
    "@ensure_authorized\n",
    "def show_secrets(*args, **kwargs):\n",
    "    return \"Shh! Don't tell anybody!\"\n",
    "\n"
   ]
  },
  {
   "cell_type": "code",
   "execution_count": 117,
   "id": "526bf077",
   "metadata": {},
   "outputs": [
    {
     "data": {
      "text/plain": [
       "\"Shh! Don't tell anybody!\""
      ]
     },
     "execution_count": 117,
     "metadata": {},
     "output_type": "execute_result"
    }
   ],
   "source": [
    "show_secrets(role=\"admin\") # \"Shh! Don't tell anybody!\"\n"
   ]
  },
  {
   "cell_type": "code",
   "execution_count": 118,
   "id": "94b54c6c",
   "metadata": {},
   "outputs": [
    {
     "data": {
      "text/plain": [
       "'Unauthorized'"
      ]
     },
     "execution_count": 118,
     "metadata": {},
     "output_type": "execute_result"
    }
   ],
   "source": [
    "show_secrets(role=\"nobody\") # \"Unauthorized\"\n"
   ]
  },
  {
   "cell_type": "code",
   "execution_count": 119,
   "id": "66a196c4",
   "metadata": {},
   "outputs": [
    {
     "data": {
      "text/plain": [
       "'Unauthorized'"
      ]
     },
     "execution_count": 119,
     "metadata": {},
     "output_type": "execute_result"
    }
   ],
   "source": [
    "show_secrets(a=\"b\") # \"Unauthorized\""
   ]
  },
  {
   "cell_type": "code",
   "execution_count": 121,
   "id": "d8e895a2",
   "metadata": {},
   "outputs": [],
   "source": [
    "# ensure first arg is\n",
    "from functools import wraps\n",
    "\n",
    "def ensure_first_arg_is(val):\n",
    "    def inner(fn):\n",
    "        @wraps(fn)\n",
    "        def wrapper(*args, **kwargs):\n",
    "            if args and args[0] == val:\n",
    "                return fn(*args, **kwargs)\n",
    "            return f\"First args needs to be {val}\"\n",
    "        return wrapper\n",
    "    return inner\n",
    "        \n",
    "\n",
    "@ensure_first_arg_is(\"paneer\")\n",
    "def fav_food(*foods):\n",
    "    print(foods)\n",
    "    \n",
    "\n",
    "@ensure_first_arg_is(35)\n",
    "def score(*scores):\n",
    "    print(scores)\n",
    "    \n",
    "\n",
    "    "
   ]
  },
  {
   "cell_type": "code",
   "execution_count": 122,
   "id": "1cb3509e",
   "metadata": {},
   "outputs": [
    {
     "data": {
      "text/plain": [
       "'First args needs to be paneer'"
      ]
     },
     "execution_count": 122,
     "metadata": {},
     "output_type": "execute_result"
    }
   ],
   "source": [
    "fav_food(\"paneer\",\"chicken\")"
   ]
  },
  {
   "cell_type": "code",
   "execution_count": 123,
   "id": "546151ff",
   "metadata": {},
   "outputs": [
    {
     "data": {
      "text/plain": [
       "'First args needs to be paneer'"
      ]
     },
     "execution_count": 123,
     "metadata": {},
     "output_type": "execute_result"
    }
   ],
   "source": [
    "fav_food(\"chicken\", \"paneer\")"
   ]
  },
  {
   "cell_type": "code",
   "execution_count": 124,
   "id": "f711435f",
   "metadata": {},
   "outputs": [
    {
     "data": {
      "text/plain": [
       "'First args needs to be 35'"
      ]
     },
     "execution_count": 124,
     "metadata": {},
     "output_type": "execute_result"
    }
   ],
   "source": [
    "score(30)"
   ]
  },
  {
   "cell_type": "code",
   "execution_count": 126,
   "id": "123fc6d5",
   "metadata": {},
   "outputs": [
    {
     "name": "stdout",
     "output_type": "stream",
     "text": [
      "(35,)\n"
     ]
    }
   ],
   "source": [
    "score(35)"
   ]
  },
  {
   "cell_type": "code",
   "execution_count": 155,
   "id": "6a31901c",
   "metadata": {},
   "outputs": [],
   "source": [
    "from functools import wraps\n",
    "\n",
    "def enforce(*types):\n",
    "    def decorator(fn):\n",
    "        @wraps(fn)\n",
    "        def wrapper(*args, **kwargs):\n",
    "            newargs = []\n",
    "            for (v, t) in zip(args, types):\n",
    "                if isinstance(v,t):\n",
    "                    print(f\"{(v,t)} is valid\")\n",
    "                    newargs.append(v)\n",
    "                else:\n",
    "                    print(f\"{(v,t)} is not valid, converting {v} to {t}\")\n",
    "                    try:\n",
    "                        newargs.append(t(v))\n",
    "                    except Exception:\n",
    "                        #print(f\"Type conversion failed {v} to {t}\")\n",
    "                        raise ValueError(f\"please provide valid {t} for {v}\")\n",
    "            return fn(*newargs, **kwargs)\n",
    "        return wrapper\n",
    "    return decorator"
   ]
  },
  {
   "cell_type": "code",
   "execution_count": 156,
   "id": "611ef59f",
   "metadata": {},
   "outputs": [],
   "source": [
    "@enforce(str, int)\n",
    "def repeat_msg(msg, times):\n",
    "    for time in range(times):\n",
    "        print(msg)"
   ]
  },
  {
   "cell_type": "code",
   "execution_count": 157,
   "id": "4b46b513",
   "metadata": {},
   "outputs": [
    {
     "name": "stdout",
     "output_type": "stream",
     "text": [
      "('hii', <class 'str'>) is valid\n",
      "(3, <class 'int'>) is valid\n",
      "hii\n",
      "hii\n",
      "hii\n"
     ]
    }
   ],
   "source": [
    "repeat_msg('hii',3)"
   ]
  },
  {
   "cell_type": "code",
   "execution_count": 158,
   "id": "493a9d83",
   "metadata": {},
   "outputs": [
    {
     "name": "stdout",
     "output_type": "stream",
     "text": [
      "('hii', <class 'str'>) is valid\n",
      "('3', <class 'int'>) is not valid, converting 3 to <class 'int'>\n",
      "hii\n",
      "hii\n",
      "hii\n"
     ]
    }
   ],
   "source": [
    "repeat_msg('hii','3')"
   ]
  },
  {
   "cell_type": "code",
   "execution_count": 159,
   "id": "06b7ebff",
   "metadata": {},
   "outputs": [
    {
     "name": "stdout",
     "output_type": "stream",
     "text": [
      "(1, <class 'str'>) is not valid, converting 1 to <class 'str'>\n",
      "('3', <class 'int'>) is not valid, converting 3 to <class 'int'>\n",
      "1\n",
      "1\n",
      "1\n"
     ]
    }
   ],
   "source": [
    "repeat_msg(1,'3')"
   ]
  },
  {
   "cell_type": "code",
   "execution_count": 160,
   "id": "d834dd77",
   "metadata": {
    "scrolled": false
   },
   "outputs": [
    {
     "name": "stdout",
     "output_type": "stream",
     "text": [
      "('hii', <class 'str'>) is valid\n",
      "('ok', <class 'int'>) is not valid, converting ok to <class 'int'>\n"
     ]
    },
    {
     "ename": "ValueError",
     "evalue": "please provide valid <class 'int'> for ok",
     "output_type": "error",
     "traceback": [
      "\u001b[1;31m---------------------------------------------------------------------------\u001b[0m",
      "\u001b[1;31mValueError\u001b[0m                                Traceback (most recent call last)",
      "\u001b[1;32m<ipython-input-155-439014893cfb>\u001b[0m in \u001b[0;36mwrapper\u001b[1;34m(*args, **kwargs)\u001b[0m\n\u001b[0;32m     14\u001b[0m                     \u001b[1;32mtry\u001b[0m\u001b[1;33m:\u001b[0m\u001b[1;33m\u001b[0m\u001b[1;33m\u001b[0m\u001b[0m\n\u001b[1;32m---> 15\u001b[1;33m                         \u001b[0mnewargs\u001b[0m\u001b[1;33m.\u001b[0m\u001b[0mappend\u001b[0m\u001b[1;33m(\u001b[0m\u001b[0mt\u001b[0m\u001b[1;33m(\u001b[0m\u001b[0mv\u001b[0m\u001b[1;33m)\u001b[0m\u001b[1;33m)\u001b[0m\u001b[1;33m\u001b[0m\u001b[1;33m\u001b[0m\u001b[0m\n\u001b[0m\u001b[0;32m     16\u001b[0m                     \u001b[1;32mexcept\u001b[0m \u001b[0mException\u001b[0m\u001b[1;33m:\u001b[0m\u001b[1;33m\u001b[0m\u001b[1;33m\u001b[0m\u001b[0m\n",
      "\u001b[1;31mValueError\u001b[0m: invalid literal for int() with base 10: 'ok'",
      "\nDuring handling of the above exception, another exception occurred:\n",
      "\u001b[1;31mValueError\u001b[0m                                Traceback (most recent call last)",
      "\u001b[1;32m<ipython-input-160-55ea19bafe04>\u001b[0m in \u001b[0;36m<module>\u001b[1;34m\u001b[0m\n\u001b[1;32m----> 1\u001b[1;33m \u001b[0mrepeat_msg\u001b[0m\u001b[1;33m(\u001b[0m\u001b[1;34m'hii'\u001b[0m\u001b[1;33m,\u001b[0m\u001b[1;34m'ok'\u001b[0m\u001b[1;33m)\u001b[0m\u001b[1;33m\u001b[0m\u001b[1;33m\u001b[0m\u001b[0m\n\u001b[0m",
      "\u001b[1;32m<ipython-input-155-439014893cfb>\u001b[0m in \u001b[0;36mwrapper\u001b[1;34m(*args, **kwargs)\u001b[0m\n\u001b[0;32m     16\u001b[0m                     \u001b[1;32mexcept\u001b[0m \u001b[0mException\u001b[0m\u001b[1;33m:\u001b[0m\u001b[1;33m\u001b[0m\u001b[1;33m\u001b[0m\u001b[0m\n\u001b[0;32m     17\u001b[0m                         \u001b[1;31m#print(f\"Type conversion failed {v} to {t}\")\u001b[0m\u001b[1;33m\u001b[0m\u001b[1;33m\u001b[0m\u001b[1;33m\u001b[0m\u001b[0m\n\u001b[1;32m---> 18\u001b[1;33m                         \u001b[1;32mraise\u001b[0m \u001b[0mValueError\u001b[0m\u001b[1;33m(\u001b[0m\u001b[1;34mf\"please provide valid {t} for {v}\"\u001b[0m\u001b[1;33m)\u001b[0m\u001b[1;33m\u001b[0m\u001b[1;33m\u001b[0m\u001b[0m\n\u001b[0m\u001b[0;32m     19\u001b[0m             \u001b[1;32mreturn\u001b[0m \u001b[0mfn\u001b[0m\u001b[1;33m(\u001b[0m\u001b[1;33m*\u001b[0m\u001b[0mnewargs\u001b[0m\u001b[1;33m,\u001b[0m \u001b[1;33m**\u001b[0m\u001b[0mkwargs\u001b[0m\u001b[1;33m)\u001b[0m\u001b[1;33m\u001b[0m\u001b[1;33m\u001b[0m\u001b[0m\n\u001b[0;32m     20\u001b[0m         \u001b[1;32mreturn\u001b[0m \u001b[0mwrapper\u001b[0m\u001b[1;33m\u001b[0m\u001b[1;33m\u001b[0m\u001b[0m\n",
      "\u001b[1;31mValueError\u001b[0m: please provide valid <class 'int'> for ok"
     ]
    }
   ],
   "source": [
    "repeat_msg('hii','ok')"
   ]
  },
  {
   "cell_type": "code",
   "execution_count": 161,
   "id": "6e6b2413",
   "metadata": {},
   "outputs": [],
   "source": [
    "'''\n",
    "@delay(3)\n",
    "def say_hi():\n",
    "    return \"hi\"\n",
    "\n",
    "say_hi()\n",
    "# should print the message \"Waiting 3s before running say_hi\" to the console\n",
    "# should then wait 3 seconds\n",
    "# finally, should invoke say_hi and return \"hi\"\n",
    "'''\n",
    "\n",
    "from functools import wraps\n",
    "from time import sleep\n",
    "\n",
    "def delay(sleep_interval):\n",
    "    def decorator(fn):\n",
    "        @wraps(fn)\n",
    "        def wrapper(*args, **kwargs):\n",
    "            print(f\"Waiting {sleep_interval}s before running {fn.__name__}\")\n",
    "            sleep(sleep_interval)\n",
    "            return fn(*args, **kwargs)\n",
    "        return wrapper\n",
    "    return decorator"
   ]
  },
  {
   "cell_type": "code",
   "execution_count": 162,
   "id": "247b2bfc",
   "metadata": {},
   "outputs": [
    {
     "name": "stdout",
     "output_type": "stream",
     "text": [
      "Waiting 3s before running say_hi\n"
     ]
    },
    {
     "data": {
      "text/plain": [
       "'hi'"
      ]
     },
     "execution_count": 162,
     "metadata": {},
     "output_type": "execute_result"
    }
   ],
   "source": [
    "@delay(3)\n",
    "def say_hi():\n",
    "    return \"hi\"\n",
    "\n",
    "say_hi()"
   ]
  },
  {
   "cell_type": "code",
   "execution_count": null,
   "id": "00c34b90",
   "metadata": {},
   "outputs": [],
   "source": []
  },
  {
   "cell_type": "code",
   "execution_count": null,
   "id": "a7c0d07a",
   "metadata": {},
   "outputs": [],
   "source": []
  }
 ],
 "metadata": {
  "kernelspec": {
   "display_name": "Python 3",
   "language": "python",
   "name": "python3"
  },
  "language_info": {
   "codemirror_mode": {
    "name": "ipython",
    "version": 3
   },
   "file_extension": ".py",
   "mimetype": "text/x-python",
   "name": "python",
   "nbconvert_exporter": "python",
   "pygments_lexer": "ipython3",
   "version": "3.8.3"
  }
 },
 "nbformat": 4,
 "nbformat_minor": 5
}
