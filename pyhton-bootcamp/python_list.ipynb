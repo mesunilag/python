{
 "cells": [
  {
   "cell_type": "markdown",
   "id": "e25dc33a",
   "metadata": {},
   "source": [
    "## Lists\n",
    "\n",
    "- Iterable collection of items\n",
    "- List can store different data types\n",
    "- list index starts with 0\n",
    "- lists are stored in asc order by default"
   ]
  },
  {
   "cell_type": "code",
   "execution_count": 8,
   "id": "432ed5d8",
   "metadata": {},
   "outputs": [
    {
     "data": {
      "text/plain": [
       "3"
      ]
     },
     "execution_count": 8,
     "metadata": {},
     "output_type": "execute_result"
    }
   ],
   "source": [
    "# Create list\n",
    "shopping_list = [\"macbook\", \"i phone\", \"ipad\"]\n",
    "len(shopping_list)"
   ]
  },
  {
   "cell_type": "code",
   "execution_count": 9,
   "id": "a099bf26",
   "metadata": {},
   "outputs": [
    {
     "name": "stdout",
     "output_type": "stream",
     "text": [
      "3\n",
      "Sunil\n",
      "90.3\n",
      "True\n",
      "['Sunil', 101, 90.3, True]\n"
     ]
    }
   ],
   "source": [
    "# Accessing list data\n",
    "demo_list = [\"Sunil\", 101, 90.30, True]\n",
    "print(len(shopping_list))\n",
    "print(demo_list[0])\n",
    "print(demo_list[-2])\n",
    "\n",
    "# check if \"Sunil\" present in list\n",
    "print(\"Sunil\" in demo_list)\n",
    "print(demo_list)"
   ]
  },
  {
   "cell_type": "code",
   "execution_count": 10,
   "id": "135498e0",
   "metadata": {},
   "outputs": [
    {
     "name": "stdout",
     "output_type": "stream",
     "text": [
      "Sunil\n",
      "101\n",
      "90.3\n",
      "True\n"
     ]
    }
   ],
   "source": [
    "# Iterating lists: for\n",
    "\n",
    "demo_list = [\"Sunil\", 101, 90.30, True]\n",
    "\n",
    "for item in demo_list:\n",
    "    print(item)\n",
    "\n"
   ]
  },
  {
   "cell_type": "code",
   "execution_count": 11,
   "id": "4aca7281",
   "metadata": {},
   "outputs": [
    {
     "name": "stdout",
     "output_type": "stream",
     "text": [
      "Sunil\n",
      "101\n",
      "90.3\n",
      "True\n"
     ]
    }
   ],
   "source": [
    "# Iterating lists: while\n",
    "\n",
    "demo_list = [\"Sunil\", 101, 90.30, True]\n",
    "\n",
    "count = 0\n",
    "\n",
    "while count < len(demo_list):\n",
    "    print(demo_list[count])\n",
    "    count += 1\n"
   ]
  },
  {
   "cell_type": "markdown",
   "id": "d79a91f8",
   "metadata": {},
   "source": [
    "# List methods\n",
    "\n",
    "Used using . operator\n",
    "\n",
    "- append(element) : adds element at end\n",
    "- extend(list) : adds list at end of list\n",
    "- insert(index, element) : insert at index in list<br> <br>\n",
    "\n",
    "- clear() : clears list\n",
    "- pop() : removes last item and return same as value\n",
    "- pop(index) : removes element at given index and return same as value\n",
    "- remove(\"value\") : removes first occurance of value from list, if not found throws error\n",
    "\n",
    "- index(value, start_point) : returns index of value from list,skipping start_index\n",
    "\n",
    "- count(value) : how many times value occured in list\n",
    "\n",
    "- reverse() : reverse existing list\n",
    "\n",
    "- sort(): sort list in asc\n",
    "\n",
    "- join(\"-\") : every element in list will join with - can ony be called on list of strings"
   ]
  },
  {
   "cell_type": "code",
   "execution_count": 12,
   "id": "42e1d507",
   "metadata": {},
   "outputs": [
    {
     "name": "stdout",
     "output_type": "stream",
     "text": [
      "[1, 2, 3]\n",
      "[1, 2, 3, [4, 5]]\n",
      "[1, 2, 3, [4, 5], 6, 7]\n",
      "[1, 0, 2, 3, [4, 5], 6, 7]\n",
      "[1, 0, 2, 3, [4, 5], 6]\n",
      "7\n",
      "[1, 0, 2, 3, 6]\n",
      "[4, 5]\n",
      "[0, 2, 3, 6]\n",
      "None\n",
      "inex of 6 is 3\n",
      "count of 6 is 1\n",
      "[6, 3, 2, 0]\n",
      "[]\n",
      "ok-ok\n"
     ]
    }
   ],
   "source": [
    "num = [1,2]\n",
    "\n",
    "num.append(3)\n",
    "print(num)\n",
    "\n",
    "num.append([4,5])\n",
    "print(num)\n",
    "\n",
    "\n",
    "# extend\n",
    "num.extend([6,7])\n",
    "print(num)\n",
    "\n",
    "\n",
    "# insert\n",
    "num.insert(1, 0)\n",
    "print(num)\n",
    "\n",
    "# pop\n",
    "p = num.pop()\n",
    "print(num)\n",
    "print(p)\n",
    "\n",
    "pi = num.pop(4)\n",
    "print(num)\n",
    "print(pi)\n",
    "\n",
    "# remove\n",
    "r = num.remove(1)\n",
    "print(num)\n",
    "print(r)\n",
    "\n",
    "# index\n",
    "print(f\"inex of 6 is {num.index(6)}\")\n",
    "\n",
    "# count\n",
    "print(f\"count of 6 is {num.count(6)}\")\n",
    "\n",
    "# reverse\n",
    "num.reverse()\n",
    "print(num)\n",
    "\n",
    "# clear\n",
    "num.clear()\n",
    "print(num)\n",
    "\n",
    "\n",
    "# join\n",
    "print(\"-\".join([\"ok\",\"ok\"]))"
   ]
  },
  {
   "cell_type": "markdown",
   "id": "a5d96bc3",
   "metadata": {},
   "source": [
    "## List Slicing\n",
    "\n",
    "- some_list[start:end:step]\n",
    " -  - start index, end index, step count\n",
    " - - end is exclusive"
   ]
  },
  {
   "cell_type": "code",
   "execution_count": 13,
   "id": "f910721a",
   "metadata": {},
   "outputs": [
    {
     "name": "stdout",
     "output_type": "stream",
     "text": [
      "[10, 20, 30, 40, 50]\n",
      "[20, 30, 40, 50]\n",
      "[40, 50]\n",
      "[40, 50]\n",
      "[50]\n",
      "[20, 30]\n"
     ]
    }
   ],
   "source": [
    "num = [10, 20, 30, 40, 50]\n",
    "\n",
    "slice0 = num[:]\n",
    "\n",
    "slice1 = num[1:]\n",
    "slice2 = num[3:]\n",
    "\n",
    "slice3 = num[-2:]\n",
    "slice4 = num[-1:]\n",
    "\n",
    "slice5 = num[1:3]\n",
    "\n",
    "print(slice0)\n",
    "print(slice1)\n",
    "print(slice2)\n",
    "print(slice3)\n",
    "print(slice4)\n",
    "print(slice5)"
   ]
  },
  {
   "cell_type": "code",
   "execution_count": 52,
   "id": "e504dcae",
   "metadata": {},
   "outputs": [
    {
     "name": "stdout",
     "output_type": "stream",
     "text": [
      "['gaikwad', 'sunil']\n"
     ]
    }
   ],
   "source": [
    "name = [\"sunil\", \"gaikwad\"]\n",
    "\n",
    "name[1],name[0] = name[0],name[1]\n",
    "\n",
    "print(name)"
   ]
  },
  {
   "cell_type": "markdown",
   "id": "863d6f18",
   "metadata": {},
   "source": [
    "## List Comprehensions\n",
    "- Syntax:<br>\n",
    "\n",
    "[expr for var in list]"
   ]
  },
  {
   "cell_type": "code",
   "execution_count": 53,
   "id": "1badd6f9",
   "metadata": {},
   "outputs": [
    {
     "name": "stdout",
     "output_type": "stream",
     "text": [
      "[10, 20, 30]\n"
     ]
    }
   ],
   "source": [
    "num = [1,2,3]\n",
    "\n",
    "num10 = [x*10 for x in num]\n",
    "print(num10)"
   ]
  },
  {
   "cell_type": "code",
   "execution_count": 57,
   "id": "55e75f8a",
   "metadata": {},
   "outputs": [
    {
     "name": "stdout",
     "output_type": "stream",
     "text": [
      "['C', 'O', 'L', 'T']\n",
      "['SOLO', 'TUSHAR']\n",
      "['Solo', 'Tushar']\n"
     ]
    }
   ],
   "source": [
    "name = 'colt'\n",
    "friends = [\"solo\",\"tushar\"]\n",
    "\n",
    "print([char.upper() for char in name])\n",
    "print([x.upper() for x in friends])\n",
    "print([x[0].upper()+x[1:] for x in friends])"
   ]
  },
  {
   "cell_type": "code",
   "execution_count": 58,
   "id": "344db08e",
   "metadata": {},
   "outputs": [
    {
     "name": "stdout",
     "output_type": "stream",
     "text": [
      "[10, 20]\n"
     ]
    }
   ],
   "source": [
    "print([num*10 for num in range(1,3)])"
   ]
  },
  {
   "cell_type": "code",
   "execution_count": 59,
   "id": "b9540f2b",
   "metadata": {},
   "outputs": [
    {
     "name": "stdout",
     "output_type": "stream",
     "text": [
      "[False, True, False, False]\n"
     ]
    }
   ],
   "source": [
    "print([bool(val) for val in [0,1,[],\"\"]])"
   ]
  },
  {
   "cell_type": "code",
   "execution_count": 60,
   "id": "5efbcdc5",
   "metadata": {},
   "outputs": [
    {
     "name": "stdout",
     "output_type": "stream",
     "text": [
      "[2, 4]\n",
      "[1, 3]\n"
     ]
    }
   ],
   "source": [
    "num = list(range(1,5))\n",
    "\n",
    "even_list = [n for n in num if n%2 == 0 ]\n",
    "odd_list = [n for n in num if n%2 != 0]\n",
    "\n",
    "print(even_list)\n",
    "print(odd_list)"
   ]
  },
  {
   "cell_type": "code",
   "execution_count": 62,
   "id": "982a2d1b",
   "metadata": {},
   "outputs": [
    {
     "name": "stdout",
     "output_type": "stream",
     "text": [
      "[0.5, 4, 1.5, 8]\n"
     ]
    }
   ],
   "source": [
    "num = list(range(1,5))\n",
    "\n",
    "even_list = [n*2 if n%2==0 else n/2 for n in num]\n",
    "print(even_list)"
   ]
  },
  {
   "cell_type": "code",
   "execution_count": 63,
   "id": "4be51e0c",
   "metadata": {},
   "outputs": [
    {
     "name": "stdout",
     "output_type": "stream",
     "text": [
      "even_list: [2, 4]\n",
      "odd_list: [1, 3]\n"
     ]
    }
   ],
   "source": [
    "num = list(range(1,5))\n",
    "\n",
    "e1 = []\n",
    "o1 = []\n",
    "\n",
    "even_list = [e1.append(n) if n%2==0 else o1.append(n) for n in num]\n",
    "print(f\"even_list: {e1}\")\n",
    "print(f\"odd_list: {o1}\")"
   ]
  },
  {
   "cell_type": "code",
   "execution_count": 69,
   "id": "7c7e44b7",
   "metadata": {},
   "outputs": [
    {
     "name": "stdout",
     "output_type": "stream",
     "text": [
      "Ths s s mch fn!\n"
     ]
    }
   ],
   "source": [
    "str_with_vowels = \"This is so much fun!\"\n",
    "\n",
    "str_without_vowel = \"\".join(char for char in str_with_vowels if char not in \"aeiou\")\n",
    "\n",
    "print(str_without_vowel)"
   ]
  },
  {
   "cell_type": "code",
   "execution_count": 70,
   "id": "72293626",
   "metadata": {},
   "outputs": [
    {
     "name": "stdout",
     "output_type": "stream",
     "text": [
      "[3, 4]\n"
     ]
    }
   ],
   "source": [
    "list1 = [1,2,3,4]\n",
    "list2 = [3,4,5,6]\n",
    "\n",
    "answer = [n for n in list1 if n in list2]\n",
    "print(answer)"
   ]
  },
  {
   "cell_type": "code",
   "execution_count": 89,
   "id": "0f68d71e",
   "metadata": {},
   "outputs": [
    {
     "name": "stdout",
     "output_type": "stream",
     "text": [
      "['eile', 'mit', 'ttam']\n"
     ]
    }
   ],
   "source": [
    "words = [\"Elie\", \"Tim\", \"Matt\"]\n",
    "answer2 = [word[::-1].lower() for word in words]\n",
    "print(answer2)"
   ]
  },
  {
   "cell_type": "code",
   "execution_count": 91,
   "id": "7b6a9b5e",
   "metadata": {},
   "outputs": [
    {
     "name": "stdout",
     "output_type": "stream",
     "text": [
      "[12, 24, 36, 48, 60, 72, 84, 96]\n",
      "['m', 'z', 'n', 'g']\n"
     ]
    }
   ],
   "source": [
    "answer =  [num for num in range(1,101) if num%12==0]\n",
    "print(answer)\n",
    "answer = [char for char in \"amazing\" if char not in \"aeiou\"]\n",
    "print(answer)"
   ]
  },
  {
   "cell_type": "markdown",
   "id": "4d9416a4",
   "metadata": {},
   "source": [
    "## Nested List"
   ]
  },
  {
   "cell_type": "code",
   "execution_count": 94,
   "id": "8f39e860",
   "metadata": {},
   "outputs": [
    {
     "name": "stdout",
     "output_type": "stream",
     "text": [
      "2\n",
      "6\n",
      "1 2 3 4 5 6 7 8 9 "
     ]
    }
   ],
   "source": [
    "nested_list = [[1,2,3],[4,5,6],[7,8,9]]\n",
    "\n",
    "# print 2\n",
    "print(nested_list[0][1])\n",
    "\n",
    "# print 6\n",
    "print(nested_list[1][-1])\n",
    "\n",
    "# print all\n",
    "for l in nested_list:\n",
    "    for n in l:\n",
    "        print(n,end=\" \")"
   ]
  },
  {
   "cell_type": "code",
   "execution_count": 101,
   "id": "f1c8b0df",
   "metadata": {},
   "outputs": [
    {
     "name": "stdout",
     "output_type": "stream",
     "text": [
      "1 2 3 4 5 6 7 8 9 "
     ]
    },
    {
     "data": {
      "text/plain": [
       "[[None, None, None], [None, None, None], [None, None, None]]"
      ]
     },
     "execution_count": 101,
     "metadata": {},
     "output_type": "execute_result"
    }
   ],
   "source": [
    "[[print(n, end=\" \") for n in l] for l in nested_list]"
   ]
  },
  {
   "cell_type": "code",
   "execution_count": 102,
   "id": "312a2183",
   "metadata": {},
   "outputs": [
    {
     "name": "stdout",
     "output_type": "stream",
     "text": [
      "[[1, 2, 3], [1, 2, 3], [1, 2, 3]]\n"
     ]
    }
   ],
   "source": [
    "print([[num for num in range(1,4)]for n in range(1,4)])"
   ]
  },
  {
   "cell_type": "code",
   "execution_count": 106,
   "id": "fa7cf1ad",
   "metadata": {},
   "outputs": [
    {
     "data": {
      "text/plain": [
       "[[2, 4, 6, 8], [2, 4, 6, 8]]"
      ]
     },
     "execution_count": 106,
     "metadata": {},
     "output_type": "execute_result"
    }
   ],
   "source": [
    "[[v for v in range(1,10) if v%2==0 ] for n in range(1,3)]"
   ]
  },
  {
   "cell_type": "code",
   "execution_count": 112,
   "id": "d542c9c1",
   "metadata": {},
   "outputs": [
    {
     "data": {
      "text/plain": [
       "[['O1', 'E2', 'O3', 'E4'], ['O1', 'E2', 'O3', 'E4']]"
      ]
     },
     "execution_count": 112,
     "metadata": {},
     "output_type": "execute_result"
    }
   ],
   "source": [
    "[[f\"E{v}\" if v%2==0 else f\"O{v}\" for v in range(1,5)] for n in range(1,3)]"
   ]
  },
  {
   "cell_type": "code",
   "execution_count": 114,
   "id": "5626112a",
   "metadata": {},
   "outputs": [
    {
     "name": "stdout",
     "output_type": "stream",
     "text": [
      "[[0, 1, 2], [0, 1, 2], [0, 1, 2]]\n"
     ]
    }
   ],
   "source": [
    "print([[v for v in range(0,3)] for n in range(0,3)])"
   ]
  },
  {
   "cell_type": "code",
   "execution_count": 115,
   "id": "e81586cb",
   "metadata": {},
   "outputs": [
    {
     "name": "stdout",
     "output_type": "stream",
     "text": [
      "[[1, 2, 3, 4, 5, 6, 7, 8, 9, 10], [1, 2, 3, 4, 5, 6, 7, 8, 9, 10], [1, 2, 3, 4, 5, 6, 7, 8, 9, 10], [1, 2, 3, 4, 5, 6, 7, 8, 9, 10], [1, 2, 3, 4, 5, 6, 7, 8, 9, 10], [1, 2, 3, 4, 5, 6, 7, 8, 9, 10], [1, 2, 3, 4, 5, 6, 7, 8, 9, 10], [1, 2, 3, 4, 5, 6, 7, 8, 9, 10], [1, 2, 3, 4, 5, 6, 7, 8, 9, 10], [1, 2, 3, 4, 5, 6, 7, 8, 9, 10]]\n"
     ]
    }
   ],
   "source": [
    "print([[v for v in range(0,10)] for n in range(1,11)])"
   ]
  },
  {
   "cell_type": "code",
   "execution_count": 4,
   "id": "841dfef4",
   "metadata": {},
   "outputs": [
    {
     "name": "stdout",
     "output_type": "stream",
     "text": [
      "[[1, 2, 3], [1, 2, 3], [1, 2, 3]]\n"
     ]
    }
   ],
   "source": [
    "print([[j for j in range(1,4)] for i in range(1,4)])"
   ]
  },
  {
   "cell_type": "code",
   "execution_count": 15,
   "id": "e04efc50",
   "metadata": {},
   "outputs": [
    {
     "name": "stdout",
     "output_type": "stream",
     "text": [
      "aba\n"
     ]
    }
   ],
   "source": [
    "string = \"aba\"\n",
    "\n",
    "print(string[-1::-1])"
   ]
  },
  {
   "cell_type": "code",
   "execution_count": 19,
   "id": "03751b14",
   "metadata": {},
   "outputs": [
    {
     "name": "stdout",
     "output_type": "stream",
     "text": [
      "48\n"
     ]
    }
   ],
   "source": [
    "def multiply_even_numbers(num_list):\n",
    "    product = 1\n",
    "    for n in [n for n in num_list if n%2==0]:\n",
    "        product = product*n\n",
    "    return product\n",
    "        \n",
    "\n",
    "\n",
    "print(multiply_even_numbers([2,4,6]))"
   ]
  },
  {
   "cell_type": "code",
   "execution_count": 20,
   "id": "05d31c52",
   "metadata": {},
   "outputs": [
    {
     "data": {
      "text/plain": [
       "[1, 2, 'All done']"
      ]
     },
     "execution_count": 20,
     "metadata": {},
     "output_type": "execute_result"
    }
   ],
   "source": [
    "def compact(in_list):\n",
    "    return [val for val in in_list if val]\n",
    "\n",
    "compact([0,1,2,\"\",[], False, {}, None, \"All done\"])"
   ]
  },
  {
   "cell_type": "code",
   "execution_count": 6,
   "id": "058c3f10",
   "metadata": {},
   "outputs": [
    {
     "name": "stdout",
     "output_type": "stream",
     "text": [
      "[9, 8, 7, 6, 5]\n"
     ]
    }
   ],
   "source": [
    "cards = [1,2,3,4,5,6,7,8,9]\n",
    "\n",
    "print([ cards.pop() for c in range(0,5)])"
   ]
  },
  {
   "cell_type": "code",
   "execution_count": 7,
   "id": "045b911c",
   "metadata": {},
   "outputs": [
    {
     "name": "stdout",
     "output_type": "stream",
     "text": [
      "[1, 2, 3, 4]\n"
     ]
    }
   ],
   "source": [
    "print(cards)"
   ]
  },
  {
   "cell_type": "code",
   "execution_count": 3,
   "id": "eb801b86",
   "metadata": {},
   "outputs": [
    {
     "name": "stdout",
     "output_type": "stream",
     "text": [
      "[0]\n"
     ]
    }
   ],
   "source": [
    "x = 1\n",
    "y = 1\n",
    "z = 1\n",
    "n = 2\n",
    "    \n",
    "l = [[for j in range()] for i in range(0,3)]\n",
    "\n",
    "l = [[a,b,c] for i in range()]\n",
    "\n",
    "print(l)\n",
    "\n"
   ]
  },
  {
   "cell_type": "code",
   "execution_count": null,
   "id": "9d03297f",
   "metadata": {},
   "outputs": [],
   "source": []
  }
 ],
 "metadata": {
  "kernelspec": {
   "display_name": "Python 3",
   "language": "python",
   "name": "python3"
  },
  "language_info": {
   "codemirror_mode": {
    "name": "ipython",
    "version": 3
   },
   "file_extension": ".py",
   "mimetype": "text/x-python",
   "name": "python",
   "nbconvert_exporter": "python",
   "pygments_lexer": "ipython3",
   "version": "3.8.3"
  }
 },
 "nbformat": 4,
 "nbformat_minor": 5
}
