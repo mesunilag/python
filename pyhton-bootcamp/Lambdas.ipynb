{
 "cells": [
  {
   "cell_type": "markdown",
   "id": "80f0097e",
   "metadata": {},
   "source": [
    "# lambda functions\n",
    "\n",
    "Syntax:\n",
    "<br> lambda \\<params\\> : function body"
   ]
  },
  {
   "cell_type": "code",
   "execution_count": null,
   "id": "914f0f6f",
   "metadata": {},
   "outputs": [],
   "source": []
  },
  {
   "cell_type": "code",
   "execution_count": 1,
   "id": "1b5583ac",
   "metadata": {},
   "outputs": [
    {
     "name": "stdout",
     "output_type": "stream",
     "text": [
      "25\n"
     ]
    }
   ],
   "source": [
    "# Normal Function\n",
    "def square(num): return num*num\n",
    "print(square(5))"
   ]
  },
  {
   "cell_type": "code",
   "execution_count": 4,
   "id": "36859730",
   "metadata": {},
   "outputs": [
    {
     "name": "stdout",
     "output_type": "stream",
     "text": [
      "25\n"
     ]
    }
   ],
   "source": [
    "square2 = lambda num: num*num\n",
    "print(square2(5))"
   ]
  },
  {
   "cell_type": "markdown",
   "id": "d6a21802",
   "metadata": {},
   "source": [
    "## map function\n",
    "\n",
    "- A standard function that takes two args\n",
    "- - Iterable \n",
    "- - function\n",
    "\n",
    "- Apllies function for each element in iterable and returns a map object\n",
    "\n",
    "- map object is iterable and convertable  (only once)\n"
   ]
  },
  {
   "cell_type": "code",
   "execution_count": 8,
   "id": "f615405d",
   "metadata": {},
   "outputs": [
    {
     "name": "stdout",
     "output_type": "stream",
     "text": [
      "<class 'map'>\n",
      "20 40 60 80 100 []\n",
      "<map object at 0x0591EC40>\n"
     ]
    }
   ],
   "source": [
    "num_list = [10,20,30,40,50]\n",
    "\n",
    "doubles = map(lambda num : num*2, num_list)\n",
    "print(type(doubles))\n",
    "\n",
    "for n in doubles:\n",
    "    print(n,end=\" \")\n",
    "\n",
    "doubles_list = list(doubles)\n",
    "print(doubles_list)\n",
    "print(doubles)"
   ]
  },
  {
   "cell_type": "code",
   "execution_count": 9,
   "id": "9bdab51a",
   "metadata": {},
   "outputs": [],
   "source": [
    "# dictionaries\n",
    "\n",
    "people = [{'name':'Sunil', 'age':29},\n",
    "          {'name':'Rahul', 'age':28},\n",
    "          {'name':'Solo', 'age':27}]"
   ]
  },
  {
   "cell_type": "code",
   "execution_count": 11,
   "id": "28a493e0",
   "metadata": {},
   "outputs": [
    {
     "name": "stdout",
     "output_type": "stream",
     "text": [
      "['Sunil', 'Rahul', 'Solo']\n"
     ]
    }
   ],
   "source": [
    "names = list(map(lambda d : d['name'], people))\n",
    "print(names)"
   ]
  },
  {
   "cell_type": "code",
   "execution_count": 12,
   "id": "43aabf91",
   "metadata": {},
   "outputs": [
    {
     "name": "stdout",
     "output_type": "stream",
     "text": [
      "['Sunil', 'Rahul', 'Solo']\n"
     ]
    }
   ],
   "source": [
    "print([n['name'] for n in people ])"
   ]
  },
  {
   "cell_type": "markdown",
   "id": "37ceba21",
   "metadata": {},
   "source": [
    "## filter() function\n",
    "\n",
    "- accespts two args , a boolean function and an iterable\n",
    "- appllies function to each element in list and filters based on boolean function expression\n",
    "- return filter object \n",
    "- filter object contains only those value return true to the lambda"
   ]
  },
  {
   "cell_type": "code",
   "execution_count": 15,
   "id": "40e85596",
   "metadata": {},
   "outputs": [
    {
     "name": "stdout",
     "output_type": "stream",
     "text": [
      "[2, 4, 6, 8, 10]\n"
     ]
    }
   ],
   "source": [
    "# even nums\n",
    "\n",
    "even_nums = list(filter(lambda n : n%2==0, range(1,11)))\n",
    "print(even_nums)"
   ]
  },
  {
   "cell_type": "code",
   "execution_count": 18,
   "id": "b2e54d7b",
   "metadata": {},
   "outputs": [
    {
     "name": "stdout",
     "output_type": "stream",
     "text": [
      "['Arjun', 'Akash']\n"
     ]
    }
   ],
   "source": [
    "# find names start with A\n",
    "\n",
    "names = [\"Arjun\",\"Sunil\",\"Akash\"]\n",
    "\n",
    "a_names = list(filter(lambda n : n[0]=='A', names))\n",
    "print(a_names)"
   ]
  },
  {
   "cell_type": "code",
   "execution_count": 28,
   "id": "ceea8315",
   "metadata": {},
   "outputs": [
    {
     "name": "stdout",
     "output_type": "stream",
     "text": [
      "['rahul', 'akash', 'akshay']\n"
     ]
    },
    {
     "data": {
      "text/plain": [
       "['rahul', 'akash', 'akshay']"
      ]
     },
     "execution_count": 28,
     "metadata": {},
     "output_type": "execute_result"
    }
   ],
   "source": [
    "# find inactive twiiter users\n",
    "tweets = [{'user':'sunil','tweet':['ok']},\n",
    "         {'user':'rahul','tweet':[]},\n",
    "         {'user':'akash','tweet':[]},\n",
    "         {'user':'akshay','tweet':[]},\n",
    "         {'user':'yogesh','tweet':['Hi Gm','What a win','down']}]\n",
    "\n",
    "print(list\n",
    "      (map(lambda u:u['user'],\n",
    "           filter(lambda t : not t['tweet'], tweets))))\n",
    "\n",
    "\n",
    "# way 2\n",
    "[t['user'] for t in tweets if not t['tweet']]"
   ]
  },
  {
   "cell_type": "markdown",
   "id": "3acb1fe2",
   "metadata": {},
   "source": [
    "## Built In Functions\n",
    "\n",
    "- all(iterable) : returns true if all elements in iterable are truthy"
   ]
  },
  {
   "cell_type": "code",
   "execution_count": 31,
   "id": "974917be",
   "metadata": {},
   "outputs": [
    {
     "name": "stdout",
     "output_type": "stream",
     "text": [
      "[True, True, True]\n",
      "True\n",
      "[True, True, True, False]\n",
      "False\n"
     ]
    }
   ],
   "source": [
    "# check if all names start with s\n",
    "\n",
    "names = ['Sunil','Solo','Sam']\n",
    "print([n[0]=='S' for n in names])\n",
    "print(all(n[0]=='S' for n in names))\n",
    "\n",
    "names.append('Jack')\n",
    "print([n[0]=='S' for n in names])\n",
    "print(all([n[0]=='S' for n in names]))"
   ]
  },
  {
   "cell_type": "markdown",
   "id": "d6bf8b04",
   "metadata": {},
   "source": [
    "- any(iterable) : returns true if any elements in iterable are truthy"
   ]
  },
  {
   "cell_type": "code",
   "execution_count": 33,
   "id": "7ea92011",
   "metadata": {},
   "outputs": [
    {
     "name": "stdout",
     "output_type": "stream",
     "text": [
      "[True, True, True]\n",
      "True\n",
      "[True, True, True, False]\n",
      "True\n"
     ]
    }
   ],
   "source": [
    "names = ['Sunil','Solo','Sam']\n",
    "print([n[0]=='S' for n in names])\n",
    "print(any(n[0]=='S' for n in names))\n",
    "\n",
    "names.append('Jack')\n",
    "print([n[0]=='S' for n in names])\n",
    "print(any([n[0]=='S' for n in names]))"
   ]
  },
  {
   "cell_type": "markdown",
   "id": "466e2668",
   "metadata": {},
   "source": [
    "###### Generator Expressions\n",
    "\n",
    "- generator expressions are very similar to list comprehensions\n",
    "- use generator expressions  when u want to iterate once else use list comprehensions\n",
    "- generator expressions are very light weight\n"
   ]
  },
  {
   "cell_type": "code",
   "execution_count": 47,
   "id": "3104fea8",
   "metadata": {},
   "outputs": [
    {
     "name": "stdout",
     "output_type": "stream",
     "text": [
      "[True, True, True]\n",
      "True\n",
      "<generator object <genexpr> at 0x00CCF098>\n",
      "True\n",
      "generator size 56\n",
      "list size 4508\n"
     ]
    }
   ],
   "source": [
    "names = ['Sunil','Solo','Sam']\n",
    "\n",
    "# list comprehension\n",
    "print([name[0]=='S' for name in names])\n",
    "print(all([name[0]=='S' for name in names]))\n",
    "\n",
    "# generator syntax\n",
    "\n",
    "print(name[0]=='S' for name in names)\n",
    "print(all(name[0]=='S' for name in names))\n",
    "\n",
    "import sys\n",
    "\n",
    "print(f\"generator size {sys.getsizeof(name*10 for name in range(1,1000))}\")\n",
    "print(f\"list size {sys.getsizeof([name*10 for name in range(1,1000)])}\")"
   ]
  },
  {
   "cell_type": "markdown",
   "id": "b2918e7e",
   "metadata": {},
   "source": [
    "##### sorted(itr)\n",
    "\n",
    "- returns sorted iterable\n",
    "- dont change original itr\n",
    "\n",
    "- Syntax:\n",
    "<br> sorted(iterable, key, reverse=True/False)\n"
   ]
  },
  {
   "cell_type": "code",
   "execution_count": 50,
   "id": "ced955cb",
   "metadata": {},
   "outputs": [
    {
     "name": "stdout",
     "output_type": "stream",
     "text": [
      "[1, 3, 2, 5, 4]\n",
      "[1, 2, 3, 4, 5]\n",
      "[5, 4, 3, 2, 1]\n"
     ]
    }
   ],
   "source": [
    "# list\n",
    "\n",
    "nums = [1,3,2,5,4]\n",
    "print(nums)\n",
    "print(sorted(nums))\n",
    "print(sorted(nums, reverse = True))"
   ]
  },
  {
   "cell_type": "code",
   "execution_count": 53,
   "id": "ecb870b6",
   "metadata": {},
   "outputs": [
    {
     "name": "stdout",
     "output_type": "stream",
     "text": [
      "[{'user': 'rahul', 'tweet': []}, {'user': 'akash', 'tweet': []}, {'user': 'akshay', 'tweet': []}, {'user': 'yogesh', 'tweet': ['Hi Gm', 'What a win', 'down']}, {'user': 'sunil', 'tweet': ['ok'], 'age': 29}]\n"
     ]
    }
   ],
   "source": [
    "# dict\n",
    "tweets = [{'user':'sunil','tweet':['ok'],'age':29},\n",
    "         {'user':'rahul','tweet':[]},\n",
    "         {'user':'akash','tweet':[]},\n",
    "         {'user':'akshay','tweet':[]},\n",
    "         {'user':'yogesh','tweet':['Hi Gm','What a win','down']}]\n",
    "\n",
    "# sort by dict len\n",
    "\n",
    "print(sorted(tweets, key=len))"
   ]
  },
  {
   "cell_type": "code",
   "execution_count": 57,
   "id": "fe9447a8",
   "metadata": {},
   "outputs": [
    {
     "name": "stdout",
     "output_type": "stream",
     "text": [
      "[{'user': 'yogesh', 'tweet': ['Hi Gm', 'What a win', 'down']}, {'user': 'sunil', 'tweet': ['ok'], 'age': 29}, {'user': 'rahul', 'tweet': []}, {'user': 'akshay', 'tweet': []}, {'user': 'akash', 'tweet': []}]\n"
     ]
    }
   ],
   "source": [
    "# sort by username in reverse order\n",
    "\n",
    "print(sorted(tweets, key = lambda t : t['user'], reverse=True))"
   ]
  },
  {
   "cell_type": "code",
   "execution_count": 58,
   "id": "52a99855",
   "metadata": {},
   "outputs": [
    {
     "name": "stdout",
     "output_type": "stream",
     "text": [
      "[{'user': 'rahul', 'tweet': []}, {'user': 'akash', 'tweet': []}, {'user': 'akshay', 'tweet': []}, {'user': 'sunil', 'tweet': ['ok'], 'age': 29}, {'user': 'yogesh', 'tweet': ['Hi Gm', 'What a win', 'down']}]\n"
     ]
    }
   ],
   "source": [
    "# sort by no of tweets\n",
    "\n",
    "print(\n",
    "sorted(tweets, key=lambda t:len(t['tweet'])))"
   ]
  },
  {
   "cell_type": "markdown",
   "id": "0fee31a0",
   "metadata": {},
   "source": [
    "## max and min\n",
    "\n",
    "- min/max(itr/str, key)"
   ]
  },
  {
   "cell_type": "code",
   "execution_count": 62,
   "id": "e5b23a46",
   "metadata": {},
   "outputs": [
    {
     "name": "stdout",
     "output_type": "stream",
     "text": [
      "u\n",
      "i\n"
     ]
    }
   ],
   "source": [
    "# str\n",
    "\n",
    "print(max('sunil'))\n",
    "print(min('sunil'))"
   ]
  },
  {
   "cell_type": "code",
   "execution_count": 68,
   "id": "0148a7d7",
   "metadata": {},
   "outputs": [
    {
     "name": "stdout",
     "output_type": "stream",
     "text": [
      "1\n",
      "4\n"
     ]
    }
   ],
   "source": [
    "# list\n",
    "\n",
    "print(min([1,3,4]))\n",
    "print(max([1,3,4]))"
   ]
  },
  {
   "cell_type": "code",
   "execution_count": 69,
   "id": "a1b3d235",
   "metadata": {},
   "outputs": [
    {
     "name": "stdout",
     "output_type": "stream",
     "text": [
      "1\n",
      "7\n"
     ]
    }
   ],
   "source": [
    "# tuple\n",
    "\n",
    "print(min((1,4,7)))\n",
    "print(max((1,4,7)))"
   ]
  },
  {
   "cell_type": "code",
   "execution_count": 81,
   "id": "e047a522",
   "metadata": {},
   "outputs": [
    {
     "name": "stdout",
     "output_type": "stream",
     "text": [
      "Tim\n",
      "sunils\n",
      "Tim\n",
      "sunils\n",
      "3\n",
      "6\n"
     ]
    }
   ],
   "source": [
    "# list of strings\n",
    "names = ['arjun','akash','sunils','Tim']\n",
    "print(min(names))\n",
    "print(max(names))\n",
    "\n",
    "# \n",
    "print(min(names, key= lambda k:len(k)))\n",
    "print(max(names, key= lambda k:len(k)))\n",
    "\n",
    "# print min and max len of names\n",
    "\n",
    "print(min(len(n) for n in names))\n",
    "print(max(len(n) for n in names))"
   ]
  },
  {
   "cell_type": "code",
   "execution_count": 82,
   "id": "2473e547",
   "metadata": {},
   "outputs": [],
   "source": [
    "#dict\n",
    "\n",
    "songs = [{\"song\":\"bin tere\",\"playcount\":10},\n",
    "        {\"song\":\"achko machko\",\"playcount\":100},\n",
    "        {\"song\":\"kalank\",\"playcount\":110},\n",
    "        {\"song\":\"znmd\",\"playcount\":10}]\n"
   ]
  },
  {
   "cell_type": "code",
   "execution_count": 89,
   "id": "8ead5040",
   "metadata": {},
   "outputs": [
    {
     "name": "stdout",
     "output_type": "stream",
     "text": [
      "{'song': 'bin tere', 'playcount': 10}\n",
      "bin tere\n"
     ]
    }
   ],
   "source": [
    "# print least played song\n",
    "\n",
    "print(\n",
    "    min(songs, key=lambda s: s['playcount'])\n",
    ")\n",
    "\n",
    "print(\n",
    "    min(songs, key=lambda s: s['playcount'])['song']\n",
    ")"
   ]
  },
  {
   "cell_type": "code",
   "execution_count": 91,
   "id": "d4709d4f",
   "metadata": {},
   "outputs": [
    {
     "name": "stdout",
     "output_type": "stream",
     "text": [
      "{'song': 'kalank', 'playcount': 110}\n",
      "kalank\n"
     ]
    }
   ],
   "source": [
    "# print most played song\n",
    "\n",
    "print(\n",
    "    max(songs, key=lambda s:s['playcount'])\n",
    ")\n",
    "\n",
    "print(\n",
    "    max(songs, key=lambda s:s['playcount'])['song']\n",
    ")"
   ]
  },
  {
   "cell_type": "markdown",
   "id": "4ac17e14",
   "metadata": {},
   "source": [
    "#### reversed (itr)\n",
    "\n",
    "- returns reverse iterator"
   ]
  },
  {
   "cell_type": "code",
   "execution_count": 95,
   "id": "e91d0e73",
   "metadata": {},
   "outputs": [
    {
     "name": "stdout",
     "output_type": "stream",
     "text": [
      "<list_reverseiterator object at 0x00CB6538>\n",
      "[5, 4, 3, 2, 1]\n",
      "9 8 7 6 5 4 3 2 1 0 "
     ]
    }
   ],
   "source": [
    "nums = [1,2,3,4,5]\n",
    "\n",
    "print(reversed(nums))\n",
    "\n",
    "print(list(reversed(nums)))\n",
    "\n",
    "for i in reversed(range(0,10)):\n",
    "    print(i, end=(\" \"))"
   ]
  },
  {
   "cell_type": "markdown",
   "id": "86a9ab11",
   "metadata": {},
   "source": [
    "#### len(itr)\n",
    "- return length"
   ]
  },
  {
   "cell_type": "code",
   "execution_count": 98,
   "id": "caffeff0",
   "metadata": {},
   "outputs": [
    {
     "name": "stdout",
     "output_type": "stream",
     "text": [
      "5\n",
      "1\n"
     ]
    }
   ],
   "source": [
    "print(len('sunil'))\n",
    "\n",
    "print(len('s'))"
   ]
  },
  {
   "cell_type": "markdown",
   "id": "9372cb79",
   "metadata": {},
   "source": [
    "#### abs(int/float)\n",
    "\n",
    "- negative value to positive"
   ]
  },
  {
   "cell_type": "code",
   "execution_count": 100,
   "id": "3dc1f4d7",
   "metadata": {},
   "outputs": [
    {
     "name": "stdout",
     "output_type": "stream",
     "text": [
      "5\n",
      "5\n",
      "5.1\n",
      "5.2\n"
     ]
    }
   ],
   "source": [
    "print(abs(5))\n",
    "print(abs(-5))\n",
    "print(abs(5.10))\n",
    "print(abs(-5.20))"
   ]
  },
  {
   "cell_type": "markdown",
   "id": "ce4de07b",
   "metadata": {},
   "source": [
    "#### sum(itr, start)\n",
    "\n",
    "- returns start + sum of itr elements\n",
    "- default start value is zero(0)"
   ]
  },
  {
   "cell_type": "code",
   "execution_count": 1,
   "id": "381f8acd",
   "metadata": {},
   "outputs": [
    {
     "name": "stdout",
     "output_type": "stream",
     "text": [
      "6\n",
      "16\n",
      "0\n"
     ]
    }
   ],
   "source": [
    "print(sum([1,2,3]))\n",
    "\n",
    "print(sum([1,2,3],10))\n",
    "\n",
    "print(sum([]))"
   ]
  },
  {
   "cell_type": "markdown",
   "id": "041e8f18",
   "metadata": {},
   "source": [
    "#### round(num, precision)"
   ]
  },
  {
   "cell_type": "code",
   "execution_count": 104,
   "id": "d4f2b6a9",
   "metadata": {},
   "outputs": [
    {
     "name": "stdout",
     "output_type": "stream",
     "text": [
      "4\n",
      "3.51\n"
     ]
    }
   ],
   "source": [
    "print(round(3.5123))\n",
    "\n",
    "print(round(3.5123,2))"
   ]
  },
  {
   "cell_type": "code",
   "execution_count": 105,
   "id": "9b6aff21",
   "metadata": {},
   "outputs": [],
   "source": [
    "# exercise\n",
    "\n",
    "def sum_even_values(*args):\n",
    "    if all(n for n in args if n%2==0):\n",
    "        return sum([n for n in args if n%2 == 0])\n",
    "    else:\n",
    "        return 0"
   ]
  },
  {
   "cell_type": "markdown",
   "id": "3d340957",
   "metadata": {},
   "source": [
    "#### zip()\n",
    "\n",
    "- combines elements from two iterators as index to index element pairing/mapping"
   ]
  },
  {
   "cell_type": "code",
   "execution_count": 3,
   "id": "45b5e03a",
   "metadata": {},
   "outputs": [
    {
     "name": "stdout",
     "output_type": "stream",
     "text": [
      "[(1, 'one'), (2, 'two'), (3, 'three')]\n"
     ]
    }
   ],
   "source": [
    "first_zip = zip([1,2,3],[\"one\",\"two\",\"three\"])\n",
    "\n",
    "print(list(first_zip))\n",
    "for i in first_zip:\n",
    "    print(i)"
   ]
  },
  {
   "cell_type": "code",
   "execution_count": 109,
   "id": "5e54c5d2",
   "metadata": {},
   "outputs": [
    {
     "name": "stdout",
     "output_type": "stream",
     "text": [
      "[]\n"
     ]
    }
   ],
   "source": [
    "print(list(first_zip))"
   ]
  },
  {
   "cell_type": "code",
   "execution_count": 110,
   "id": "3265ad35",
   "metadata": {},
   "outputs": [
    {
     "name": "stdout",
     "output_type": "stream",
     "text": [
      "[(1, 'one'), (2, 'two'), (3, 'three')]\n",
      "{}\n"
     ]
    }
   ],
   "source": [
    "first_zip = zip([1,2,3],[\"one\",\"two\",\"three\"])\n",
    "print(list(first_zip))\n",
    "print(dict(first_zip))"
   ]
  },
  {
   "cell_type": "code",
   "execution_count": 111,
   "id": "70399927",
   "metadata": {},
   "outputs": [
    {
     "name": "stdout",
     "output_type": "stream",
     "text": [
      "{1: 'one', 2: 'two', 3: 'three'}\n"
     ]
    }
   ],
   "source": [
    "first_zip = zip([1,2,3],[\"one\",\"two\",\"three\"])\n",
    "print(dict(first_zip))"
   ]
  },
  {
   "cell_type": "code",
   "execution_count": 113,
   "id": "90bdc75b",
   "metadata": {},
   "outputs": [
    {
     "name": "stdout",
     "output_type": "stream",
     "text": [
      "{1: 'one', 2: 'two', 3: 'three'}\n"
     ]
    }
   ],
   "source": [
    "first_zip = zip([1,2,3],[\"one\",\"two\",\"three\"])\n",
    "lists = list(first_zip)\n",
    "print(dict(lists))"
   ]
  },
  {
   "cell_type": "code",
   "execution_count": 122,
   "id": "23cb2c2f",
   "metadata": {},
   "outputs": [
    {
     "ename": "ValueError",
     "evalue": "dictionary update sequence element #0 has length 3; 2 is required",
     "output_type": "error",
     "traceback": [
      "\u001b[1;31m---------------------------------------------------------------------------\u001b[0m",
      "\u001b[1;31mValueError\u001b[0m                                Traceback (most recent call last)",
      "\u001b[1;32m<ipython-input-122-0909a9aeae67>\u001b[0m in \u001b[0;36m<module>\u001b[1;34m\u001b[0m\n\u001b[0;32m      1\u001b[0m \u001b[0mfirst_zip\u001b[0m \u001b[1;33m=\u001b[0m \u001b[0mzip\u001b[0m\u001b[1;33m(\u001b[0m\u001b[1;33m[\u001b[0m\u001b[1;36m1\u001b[0m\u001b[1;33m,\u001b[0m\u001b[1;36m2\u001b[0m\u001b[1;33m,\u001b[0m\u001b[1;36m3\u001b[0m\u001b[1;33m,\u001b[0m\u001b[1;36m4\u001b[0m\u001b[1;33m]\u001b[0m\u001b[1;33m,\u001b[0m\u001b[1;33m[\u001b[0m\u001b[1;34m\"one\"\u001b[0m\u001b[1;33m,\u001b[0m\u001b[1;34m\"two\"\u001b[0m\u001b[1;33m,\u001b[0m\u001b[1;34m\"three\"\u001b[0m\u001b[1;33m]\u001b[0m\u001b[1;33m,\u001b[0m\u001b[1;33m[\u001b[0m\u001b[1;34m'a'\u001b[0m\u001b[1;33m,\u001b[0m\u001b[1;34m'b'\u001b[0m\u001b[1;33m,\u001b[0m\u001b[1;34m'c'\u001b[0m\u001b[1;33m]\u001b[0m\u001b[1;33m)\u001b[0m\u001b[1;33m\u001b[0m\u001b[1;33m\u001b[0m\u001b[0m\n\u001b[1;32m----> 2\u001b[1;33m \u001b[0mlists\u001b[0m \u001b[1;33m=\u001b[0m \u001b[0mdict\u001b[0m\u001b[1;33m(\u001b[0m\u001b[0mfirst_zip\u001b[0m\u001b[1;33m)\u001b[0m\u001b[1;33m\u001b[0m\u001b[1;33m\u001b[0m\u001b[0m\n\u001b[0m\u001b[0;32m      3\u001b[0m \u001b[0mprint\u001b[0m\u001b[1;33m(\u001b[0m\u001b[0mlists\u001b[0m\u001b[1;33m)\u001b[0m\u001b[1;33m\u001b[0m\u001b[1;33m\u001b[0m\u001b[0m\n",
      "\u001b[1;31mValueError\u001b[0m: dictionary update sequence element #0 has length 3; 2 is required"
     ]
    }
   ],
   "source": [
    "first_zip = zip([1,2,3,4],[\"one\",\"two\",\"three\"],['a','b','c'])\n",
    "lists = list(first_zip)\n",
    "print(lists)"
   ]
  },
  {
   "cell_type": "markdown",
   "id": "26219c8b",
   "metadata": {},
   "source": [
    "- Unpacking"
   ]
  },
  {
   "cell_type": "code",
   "execution_count": 121,
   "id": "03730d87",
   "metadata": {},
   "outputs": [
    {
     "name": "stdout",
     "output_type": "stream",
     "text": [
      "[(0, 1, 2, 3, 4), (1, 2, 3, 4, 5)]\n"
     ]
    }
   ],
   "source": [
    "# some complex example\n",
    "\n",
    "listt_tuples = [(0,1),(1,2),(2,3),(3,4),(4,5)]\n",
    "\n",
    "print(\n",
    "    list(zip(*listt_tuples)) # zip((0,1),(1,2),(2,3),(3,4),(4,5))\n",
    ")\n"
   ]
  },
  {
   "cell_type": "code",
   "execution_count": null,
   "id": "ac9135d0",
   "metadata": {},
   "outputs": [],
   "source": []
  },
  {
   "cell_type": "code",
   "execution_count": 137,
   "id": "bddf17ca",
   "metadata": {},
   "outputs": [
    {
     "name": "stdout",
     "output_type": "stream",
     "text": [
      "{'sunil': 95, 'rohit': 90, 'solo': 87, 'john': 50}\n",
      "{'sunil': 95, 'rohit': 90, 'solo': 87, 'john': 50}\n",
      "{'sunil': 95, 'rohit': 90, 'solo': 87, 'john': 50}\n"
     ]
    }
   ],
   "source": [
    "midterms = [80,90,70,50]\n",
    "finals = [95,84,87,34]\n",
    "students = ['sunil','rohit','solo','john']\n",
    "\n",
    "# get students higest marks\n",
    "\n",
    "max_marks_list = dict(zip(students,[max(m) for m in (zip(midterms,finals))]))\n",
    "print(max_marks_list)\n",
    "\n",
    "#way2 - dict comprehensions\n",
    "max_marks_students = {tup[0]:max(tup[1],tup[2]) for tup in zip(students, midterms, finals)}\n",
    "print(max_marks_students)\n",
    "\n",
    "#way3 - lambda and map\n",
    "\n",
    "max_marks_student = map(lambda t : (t[0],max(t[1],t[2])),zip(students,midterms,finals))\n",
    "print(dict(max_marks_student))"
   ]
  },
  {
   "cell_type": "code",
   "execution_count": 142,
   "id": "4bce5a79",
   "metadata": {},
   "outputs": [
    {
     "name": "stdout",
     "output_type": "stream",
     "text": [
      "avg marks: {'sunil': 87.5, 'rohit': 87.0, 'solo': 78.5, 'john': 42.0}\n"
     ]
    }
   ],
   "source": [
    "result =  dict(\n",
    "zip(\n",
    "    students,\n",
    "    map(\n",
    "    lambda t :(t[0]+t[1])/2, \n",
    "    zip(midterms, finals)\n",
    "    )\n",
    "    )\n",
    ")\n",
    "\n",
    "print(f\"avg marks: {result}\")"
   ]
  },
  {
   "cell_type": "code",
   "execution_count": null,
   "id": "f6aed697",
   "metadata": {},
   "outputs": [],
   "source": []
  },
  {
   "cell_type": "markdown",
   "id": "ab48af12",
   "metadata": {},
   "source": [
    "### Exercise"
   ]
  },
  {
   "cell_type": "code",
   "execution_count": 149,
   "id": "f82cb337",
   "metadata": {},
   "outputs": [
    {
     "name": "stdout",
     "output_type": "stream",
     "text": [
      "[('a', 'x'), ('b', 'y'), ('c', 'z')]\n"
     ]
    }
   ],
   "source": [
    "print(list(zip('abc','xyz')))"
   ]
  },
  {
   "cell_type": "code",
   "execution_count": 147,
   "id": "350af0ca",
   "metadata": {},
   "outputs": [
    {
     "name": "stdout",
     "output_type": "stream",
     "text": [
      "xaybzc\n"
     ]
    }
   ],
   "source": [
    "def interleave(str1,str2):\n",
    "    print(\"\".join(\n",
    "        map(lambda t : \"\".join(t),\n",
    "        zip(str1,str2)\n",
    "    )))\n",
    "    return\n",
    "\n",
    "interleave('xyz','abc')"
   ]
  },
  {
   "cell_type": "code",
   "execution_count": 157,
   "id": "ec47b9d8",
   "metadata": {},
   "outputs": [
    {
     "name": "stdout",
     "output_type": "stream",
     "text": [
      "[12]\n"
     ]
    }
   ],
   "source": [
    "\n",
    "def triple_and_filter(nums):\n",
    "    return list(i*3 for i in filter(lambda n : n%4 == 0,nums))\n",
    "\n",
    "print(triple_and_filter([1,2,3,4]))"
   ]
  },
  {
   "cell_type": "code",
   "execution_count": 158,
   "id": "1da98ab1",
   "metadata": {},
   "outputs": [
    {
     "name": "stdout",
     "output_type": "stream",
     "text": [
      "['Elie Schoppik', 'Colt Steele']\n"
     ]
    }
   ],
   "source": [
    "def extract_full_name(dict_list):\n",
    "    return [ f\"{kv['first']} {kv['last']}\" for kv in dict_list]\n",
    "    \n",
    "\n",
    "print(extract_full_name([{'first': 'Elie', 'last': 'Schoppik'}, {'first': 'Colt', 'last': 'Steele'}]))"
   ]
  }
 ],
 "metadata": {
  "kernelspec": {
   "display_name": "Python 3",
   "language": "python",
   "name": "python3"
  },
  "language_info": {
   "codemirror_mode": {
    "name": "ipython",
    "version": 3
   },
   "file_extension": ".py",
   "mimetype": "text/x-python",
   "name": "python",
   "nbconvert_exporter": "python",
   "pygments_lexer": "ipython3",
   "version": "3.8.3"
  }
 },
 "nbformat": 4,
 "nbformat_minor": 5
}
