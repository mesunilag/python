{
 "cells": [
  {
   "cell_type": "markdown",
   "id": "e600c638",
   "metadata": {},
   "source": [
    "# Modules"
   ]
  },
  {
   "cell_type": "markdown",
   "id": "712bbd3b",
   "metadata": {},
   "source": [
    "- import random   / imports evrything from random as attribute\n",
    "- import random as r\n",
    "- from random import *  : imports everything from random in current namespace\n",
    "- from random import choice,shuffle\n",
    "- from random import choice as c,shuffle as s"
   ]
  },
  {
   "cell_type": "code",
   "execution_count": 6,
   "id": "d61f1a2c",
   "metadata": {},
   "outputs": [],
   "source": [
    "import keyword\n",
    "\n",
    "def contains_keyword(*args):\n",
    "    return any(keyword.iskeyword(s) for s in args)"
   ]
  },
  {
   "cell_type": "code",
   "execution_count": 7,
   "id": "c67d70ed",
   "metadata": {},
   "outputs": [
    {
     "data": {
      "text/plain": [
       "True"
      ]
     },
     "execution_count": 7,
     "metadata": {},
     "output_type": "execute_result"
    }
   ],
   "source": [
    "contains_keyword('def','hi')"
   ]
  },
  {
   "cell_type": "markdown",
   "id": "dfaed252",
   "metadata": {},
   "source": [
    "### custom modules"
   ]
  },
  {
   "cell_type": "code",
   "execution_count": null,
   "id": "85bae473",
   "metadata": {},
   "outputs": [],
   "source": [
    " "
   ]
  },
  {
   "cell_type": "markdown",
   "id": "08f1d536",
   "metadata": {},
   "source": [
    "### <code>name</code>\n",
    "- every module has variable <code> ___name\\_\\_\\.</code>\n",
    "- if code/method runnig from same file and not ipmorted then <code> ___name\\_\\_\\.</code> is <code> ___main\\_\\_\\.</code>\n",
    "- when we import module:\n",
    "- - Tries to find module(if fail, error)\n",
    "- - Runs code inside module where its being imported"
   ]
  },
  {
   "cell_type": "code",
   "execution_count": 10,
   "id": "0cb661ce",
   "metadata": {},
   "outputs": [
    {
     "ename": "SyntaxError",
     "evalue": "unexpected EOF while parsing (<ipython-input-10-63f7cb8c9e5c>, line 3)",
     "output_type": "error",
     "traceback": [
      "\u001b[1;36m  File \u001b[1;32m\"<ipython-input-10-63f7cb8c9e5c>\"\u001b[1;36m, line \u001b[1;32m3\u001b[0m\n\u001b[1;33m    if __name__ == \"__main__\":\u001b[0m\n\u001b[1;37m                              ^\u001b[0m\n\u001b[1;31mSyntaxError\u001b[0m\u001b[1;31m:\u001b[0m unexpected EOF while parsing\n"
     ]
    }
   ],
   "source": [
    "# to avoid running in file where module is being imported\n",
    "\n",
    "if __name__ == \"__main__\":"
   ]
  },
  {
   "cell_type": "code",
   "execution_count": null,
   "id": "d8fb4c1d",
   "metadata": {},
   "outputs": [],
   "source": []
  }
 ],
 "metadata": {
  "kernelspec": {
   "display_name": "Python 3",
   "language": "python",
   "name": "python3"
  },
  "language_info": {
   "codemirror_mode": {
    "name": "ipython",
    "version": 3
   },
   "file_extension": ".py",
   "mimetype": "text/x-python",
   "name": "python",
   "nbconvert_exporter": "python",
   "pygments_lexer": "ipython3",
   "version": "3.8.3"
  }
 },
 "nbformat": 4,
 "nbformat_minor": 5
}
