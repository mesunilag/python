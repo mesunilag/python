{
 "cells": [
  {
   "cell_type": "markdown",
   "id": "7b2ee667",
   "metadata": {},
   "source": [
    "# Classes and Objects\n",
    "\n",
    "- <b> Class: </b> blueprint for object. has attribute and methods\n",
    "- <b>Object</b> : Instance of a class"
   ]
  },
  {
   "cell_type": "markdown",
   "id": "b3fcb9c1",
   "metadata": {},
   "source": [
    "#### help(int)"
   ]
  },
  {
   "cell_type": "code",
   "execution_count": 2,
   "id": "c247cd23",
   "metadata": {},
   "outputs": [
    {
     "data": {
      "text/plain": [
       "list"
      ]
     },
     "execution_count": 2,
     "metadata": {},
     "output_type": "execute_result"
    }
   ],
   "source": [
    "nums = [1,2,4]\n",
    "type(nums)"
   ]
  },
  {
   "cell_type": "markdown",
   "id": "b9f95fe2",
   "metadata": {},
   "source": [
    "## Abstraction and Encapsulation\n",
    "\n",
    "- <b>Enacapsulation:</b> grouping of public and private attributes and methods into programatic class,making <b>abstraction</b> possible\n",
    "\n",
    "- Ex: Crads class having private attribute and ex count() public method to access private attributes\n",
    "\n",
    "<br>\n",
    "- <b> Note </b> : There are no access modifiers in python\n",
    "\n",
    "<br><br>\n",
    "-<b>Abstraction:</b> exposing only relevaant data  and hiding details "
   ]
  },
  {
   "cell_type": "code",
   "execution_count": 3,
   "id": "a7809816",
   "metadata": {},
   "outputs": [],
   "source": [
    "class User:\n",
    "    pass"
   ]
  },
  {
   "cell_type": "code",
   "execution_count": 4,
   "id": "5936e8b4",
   "metadata": {},
   "outputs": [],
   "source": [
    "user1 = User()"
   ]
  },
  {
   "cell_type": "code",
   "execution_count": 5,
   "id": "2f6c18e0",
   "metadata": {},
   "outputs": [
    {
     "data": {
      "text/plain": [
       "__main__.User"
      ]
     },
     "execution_count": 5,
     "metadata": {},
     "output_type": "execute_result"
    }
   ],
   "source": [
    "type(user1)"
   ]
  },
  {
   "cell_type": "markdown",
   "id": "3109001f",
   "metadata": {},
   "source": [
    "###   <code> \\_\\_init\\_\\_ </code> method\n",
    "\n",
    "- special method that gets called everytime a new instance of a class is created\n"
   ]
  },
  {
   "cell_type": "code",
   "execution_count": 6,
   "id": "5afed98e",
   "metadata": {},
   "outputs": [],
   "source": [
    "class User:\n",
    "    def __init__(self):\n",
    "        print(\"New user created\")"
   ]
  },
  {
   "cell_type": "code",
   "execution_count": 7,
   "id": "f50985fb",
   "metadata": {},
   "outputs": [
    {
     "name": "stdout",
     "output_type": "stream",
     "text": [
      "New user created\n"
     ]
    }
   ],
   "source": [
    "user1 = User()"
   ]
  },
  {
   "cell_type": "code",
   "execution_count": 8,
   "id": "b2104be8",
   "metadata": {},
   "outputs": [
    {
     "name": "stdout",
     "output_type": "stream",
     "text": [
      "<__main__.User object at 0x058159D0>\n"
     ]
    }
   ],
   "source": [
    "print(user1)"
   ]
  },
  {
   "cell_type": "markdown",
   "id": "b42430e1",
   "metadata": {},
   "source": [
    "### self\n",
    "- self represents current instance of class\n",
    "- self must be first param to init or any method"
   ]
  },
  {
   "cell_type": "code",
   "execution_count": 9,
   "id": "6226bf30",
   "metadata": {},
   "outputs": [
    {
     "name": "stdout",
     "output_type": "stream",
     "text": [
      "Tony\n",
      "Secret Msg\n",
      "Hi this is __msg\n"
     ]
    },
    {
     "ename": "AttributeError",
     "evalue": "'Person' object has no attribute '__msg'",
     "output_type": "error",
     "traceback": [
      "\u001b[1;31m---------------------------------------------------------------------------\u001b[0m",
      "\u001b[1;31mAttributeError\u001b[0m                            Traceback (most recent call last)",
      "\u001b[1;32m<ipython-input-9-f4fd0f3d683b>\u001b[0m in \u001b[0;36m<module>\u001b[1;34m\u001b[0m\n\u001b[0;32m     11\u001b[0m \u001b[0mprint\u001b[0m\u001b[1;33m(\u001b[0m\u001b[0mp\u001b[0m\u001b[1;33m.\u001b[0m\u001b[0m_secret\u001b[0m\u001b[1;33m)\u001b[0m\u001b[1;33m\u001b[0m\u001b[1;33m\u001b[0m\u001b[0m\n\u001b[0;32m     12\u001b[0m \u001b[0mprint\u001b[0m\u001b[1;33m(\u001b[0m\u001b[0mp\u001b[0m\u001b[1;33m.\u001b[0m\u001b[0m_Person__msg\u001b[0m\u001b[1;33m)\u001b[0m\u001b[1;33m\u001b[0m\u001b[1;33m\u001b[0m\u001b[0m\n\u001b[1;32m---> 13\u001b[1;33m \u001b[0mprint\u001b[0m\u001b[1;33m(\u001b[0m\u001b[0mp\u001b[0m\u001b[1;33m.\u001b[0m\u001b[0m__msg\u001b[0m\u001b[1;33m)\u001b[0m\u001b[1;33m\u001b[0m\u001b[1;33m\u001b[0m\u001b[0m\n\u001b[0m",
      "\u001b[1;31mAttributeError\u001b[0m: 'Person' object has no attribute '__msg'"
     ]
    }
   ],
   "source": [
    "class Person:\n",
    "    def __init__(self):    # dunder __method__ : when overridng methods that already exist\n",
    "        self.name = \"Tony\"  # normal class variable\n",
    "        self._secret = \"Secret Msg\" # _ to convey private var\n",
    "        self.__msg = \"Hi this is __msg\" # __ name mangle\n",
    "\n",
    "        \n",
    "p = Person()\n",
    "\n",
    "print(p.name)\n",
    "print(p._secret)\n",
    "print(p._Person__msg)\n",
    "print(p.__msg)\n"
   ]
  },
  {
   "cell_type": "code",
   "execution_count": 10,
   "id": "20164284",
   "metadata": {},
   "outputs": [
    {
     "name": "stdout",
     "output_type": "stream",
     "text": [
      "Help on Person in module __main__ object:\n",
      "\n",
      "class Person(builtins.object)\n",
      " |  Methods defined here:\n",
      " |  \n",
      " |  __init__(self)\n",
      " |      Initialize self.  See help(type(self)) for accurate signature.\n",
      " |  \n",
      " |  ----------------------------------------------------------------------\n",
      " |  Data descriptors defined here:\n",
      " |  \n",
      " |  __dict__\n",
      " |      dictionary for instance variables (if defined)\n",
      " |  \n",
      " |  __weakref__\n",
      " |      list of weak references to the object (if defined)\n",
      "\n"
     ]
    }
   ],
   "source": [
    "help(p)"
   ]
  },
  {
   "cell_type": "markdown",
   "id": "73563b02",
   "metadata": {},
   "source": [
    "### Adding instance methods and attributes\n",
    "\n",
    "- instance attribute : variable scope to class instance\n",
    "- class attribute : common to all instance of class"
   ]
  },
  {
   "cell_type": "code",
   "execution_count": 24,
   "id": "6bc7e612",
   "metadata": {
    "scrolled": true
   },
   "outputs": [
    {
     "name": "stdout",
     "output_type": "stream",
     "text": [
      "New user created Sunil\n",
      "Active Users: 1\n",
      "New user created Solo\n",
      "Active Users: 2\n",
      "user1: ('Sunil', 'Gaikwad', 29)\n",
      "user2: ('Solo', 'Ronald', '28')\n",
      "Sunil Gaikwad\n",
      "Sunil likes cars\n",
      "Happy 30 birthday Sunil!!!\n",
      "None\n",
      "Sunil successfully logged out..!\n",
      "active users: 1\n"
     ]
    }
   ],
   "source": [
    "class User:\n",
    "    active_users = 0\n",
    "    def __init__(self, first, last, age):\n",
    "        self.first = first\n",
    "        self.last = last\n",
    "        self.age = age\n",
    "        print(f\"New user created {self.first}\")\n",
    "        User.active_users += 1\n",
    "        print(f\"Active Users: {User.active_users}\")\n",
    "    \n",
    "    def full_name(self):\n",
    "        return f\"{self.first} {self.last}\"\n",
    "    \n",
    "    def likes(self, thing):\n",
    "        return f\"{self.first} likes {thing}\"\n",
    "    \n",
    "    def birthday(self):\n",
    "        self.age += 1\n",
    "        print(f\"Happy {self.age} birthday {self.first}!!!\")\n",
    "        \n",
    "    def logout(self):\n",
    "        User.active_users -= 1 \n",
    "        print(f\"{self.first} successfully logged out..!\")\n",
    "    \n",
    "user1 = User(\"Sunil\",\"Gaikwad\",29)\n",
    "user2 = User(\"Solo\",\"Ronald\", \"28\")\n",
    "\n",
    "print(f\"user1: {user1.first, user1.last, user1.age}\")\n",
    "print(f\"user2: {user2.first, user2.last, user2.age}\")\n",
    "\n",
    "print(user1.full_name())\n",
    "print(user1.likes(\"cars\"))\n",
    "print(user1.birthday())\n",
    "\n",
    "user1.logout()\n",
    "print(f\"active users: {User.active_users}\")"
   ]
  },
  {
   "cell_type": "code",
   "execution_count": null,
   "id": "1b944e70",
   "metadata": {},
   "outputs": [],
   "source": []
  },
  {
   "cell_type": "code",
   "execution_count": 73,
   "id": "519e9039",
   "metadata": {},
   "outputs": [],
   "source": [
    "class BankAccount:\n",
    "    allowed = ['savings','current']\n",
    "    def __init__(self, owner, acc_type):\n",
    "        #self.allowed = ['savings','current']\n",
    "        if acc_type not in self.allowed:#BankAccount.allowed:\n",
    "            raise ValueError(\"Account Type Not Allowed\")\n",
    "        self.owner = owner\n",
    "        self.balance = 0.0\n",
    "        self.acc_type = acc_type\n",
    "        \n",
    "    def deposit(self, amount):\n",
    "        self.balance += amount\n",
    "        return self.balance\n",
    "    \n",
    "    def withdraw(self, amount):\n",
    "        self.balance -=  balance\n",
    "        return self.balance\n",
    "    \n",
    "    def change_account_type(self, new_type):\n",
    "        if new_type not in self.allowed:\n",
    "            raise ValueError(\"Account Type Not Allowed\")\n",
    "        self.acc_type = new_type\n",
    "        "
   ]
  },
  {
   "cell_type": "code",
   "execution_count": 75,
   "id": "a7b1081e",
   "metadata": {},
   "outputs": [
    {
     "name": "stdout",
     "output_type": "stream",
     "text": [
      "Sunil\n",
      "0.0\n",
      "savings\n",
      "10.0\n",
      "current\n",
      "['savings', 'current']\n"
     ]
    }
   ],
   "source": [
    "acct = BankAccount(\"Sunil\",'savings')\n",
    "print(acct.owner)\n",
    "print(acct.balance)\n",
    "print(acct.acc_type)\n",
    "print(acct.deposit(10))\n",
    "acct.change_account_type('current')\n",
    "print(acct.acc_type)\n",
    "print(BankAccount.allowed)"
   ]
  },
  {
   "cell_type": "code",
   "execution_count": 78,
   "id": "efb9210d",
   "metadata": {},
   "outputs": [],
   "source": [
    "BankAccount.allowed = ['savings','current', 'dmat']\n",
    "\n",
    "acct2 = BankAccount(\"Sunil\",'dmat')"
   ]
  },
  {
   "cell_type": "code",
   "execution_count": 79,
   "id": "294903d2",
   "metadata": {},
   "outputs": [
    {
     "name": "stdout",
     "output_type": "stream",
     "text": [
      "['savings', 'current', 'dmat']\n",
      "['savings', 'current', 'dmat']\n",
      "73022088\n",
      "73022088\n"
     ]
    }
   ],
   "source": [
    "print(acct.allowed)\n",
    "print(acct2.allowed)\n",
    "print(id(acct.allowed))\n",
    "print(id(acct.allowed))"
   ]
  },
  {
   "cell_type": "code",
   "execution_count": 80,
   "id": "e59fcef9",
   "metadata": {},
   "outputs": [],
   "source": [
    "class Chicken:\n",
    "    total_eggs = 0\n",
    "    def __init__(self, species, name, eggs=0):\n",
    "        self.species = species\n",
    "        self.name = name\n",
    "        self.eggs = eggs\n",
    "        \n",
    "    def lay_egg(self):\n",
    "        self.eggs += 1\n",
    "        Chicken.total_eggs += 1\n",
    "        return self.eggs"
   ]
  },
  {
   "cell_type": "code",
   "execution_count": 11,
   "id": "42420c4d",
   "metadata": {},
   "outputs": [
    {
     "ename": "NameError",
     "evalue": "name 'Chicken' is not defined",
     "output_type": "error",
     "traceback": [
      "\u001b[1;31m---------------------------------------------------------------------------\u001b[0m",
      "\u001b[1;31mNameError\u001b[0m                                 Traceback (most recent call last)",
      "\u001b[1;32m<ipython-input-11-91be2a2c71b6>\u001b[0m in \u001b[0;36m<module>\u001b[1;34m\u001b[0m\n\u001b[1;32m----> 1\u001b[1;33m \u001b[0mc1\u001b[0m \u001b[1;33m=\u001b[0m \u001b[0mChicken\u001b[0m\u001b[1;33m(\u001b[0m\u001b[0mname\u001b[0m \u001b[1;33m=\u001b[0m \u001b[1;34m\"Alice\"\u001b[0m\u001b[1;33m,\u001b[0m \u001b[0mspecies\u001b[0m \u001b[1;33m=\u001b[0m \u001b[1;34m\"Kadknath\"\u001b[0m\u001b[1;33m)\u001b[0m\u001b[1;33m\u001b[0m\u001b[1;33m\u001b[0m\u001b[0m\n\u001b[0m\u001b[0;32m      2\u001b[0m \u001b[0mprint\u001b[0m\u001b[1;33m(\u001b[0m\u001b[0mChicken\u001b[0m\u001b[1;33m.\u001b[0m\u001b[0mtotal_eggs\u001b[0m\u001b[1;33m)\u001b[0m\u001b[1;33m\u001b[0m\u001b[1;33m\u001b[0m\u001b[0m\n\u001b[0;32m      3\u001b[0m \u001b[0mc1\u001b[0m\u001b[1;33m.\u001b[0m\u001b[0mlay\u001b[0m\u001b[1;33m\u001b[0m\u001b[1;33m\u001b[0m\u001b[0m\n",
      "\u001b[1;31mNameError\u001b[0m: name 'Chicken' is not defined"
     ]
    }
   ],
   "source": [
    "c1 = Chicken(name = \"Alice\", species = \"Kadknath\")\n",
    "print(Chicken.total_eggs)\n",
    "c1.lay"
   ]
  },
  {
   "cell_type": "markdown",
   "id": "ee7fe68a",
   "metadata": {},
   "source": [
    "### Class Methods and <code>\\_\\_repr\\_\\_.</code>\n",
    "\n",
    "- @classdecorator : used to create class method\n",
    "- repr = toString()"
   ]
  },
  {
   "cell_type": "code",
   "execution_count": 90,
   "id": "75c636d1",
   "metadata": {},
   "outputs": [
    {
     "name": "stdout",
     "output_type": "stream",
     "text": [
      "New user created Sunil\n",
      "Active Users: 1\n",
      " Active users are: 1\n",
      "New user created Solo\n",
      "Active Users: 2\n",
      " Active users are: 2\n",
      "New user created Tom\n",
      "Active Users: 3\n",
      "('Tom', 'Hank', 66)\n"
     ]
    }
   ],
   "source": [
    "class User:\n",
    "    active_users = 0\n",
    "    \n",
    "    @classmethod\n",
    "    def display_active_users(cls):\n",
    "        return f\" Active users are: {cls.active_users}\"\n",
    "    \n",
    "    @classmethod\n",
    "    def from_string(cls,string):\n",
    "        first,last,age = string.split(\",\")\n",
    "        return cls(first,last,int(age))\n",
    "        \n",
    "    def __init__(self, first, last, age):\n",
    "        self.first = first\n",
    "        self.last = last\n",
    "        self.age = age\n",
    "        print(f\"New user created {self.first}\")\n",
    "        User.active_users += 1\n",
    "        print(f\"Active Users: {User.active_users}\")\n",
    "        \n",
    "    def __repr__(self):\n",
    "        return f\"{self.first,self.last,self.age}\"\n",
    "    \n",
    "    def full_name(self):\n",
    "        return f\"{self.first} {self.last}\"\n",
    "    \n",
    "    def likes(self, thing):\n",
    "        return f\"{self.first} likes {thing}\"\n",
    "    \n",
    "    def birthday(self):\n",
    "        self.age += 1\n",
    "        print(f\"Happy {self.age} birthday {self.first}!!!\")\n",
    "        \n",
    "    def logout(self):\n",
    "        User.active_users -= 1 \n",
    "        print(f\"{self.first} successfully logged out..!\")\n",
    "    \n",
    "user1 = User(\"Sunil\",\"Gaikwad\",29)\n",
    "print(User.display_active_users())\n",
    "user2 = User(\"Solo\",\"Ronald\", 28)\n",
    "\n",
    "print(User.display_active_users())\n",
    "\n",
    "user3 = User.from_string(\"Tom,Hank,66\")\n",
    "print(user3)\n"
   ]
  },
  {
   "cell_type": "markdown",
   "id": "fcaae758",
   "metadata": {},
   "source": []
  },
  {
   "cell_type": "code",
   "execution_count": null,
   "id": "93b81170",
   "metadata": {},
   "outputs": [],
   "source": []
  },
  {
   "cell_type": "code",
   "execution_count": 14,
   "id": "49f8b89c",
   "metadata": {},
   "outputs": [],
   "source": [
    "class Card:\n",
    "    \n",
    "    def __init__(self, suite, value):\n",
    "        if suite not in ('Hearts', 'Diamonds', 'Clubs', 'Spades'):\n",
    "            raise ValueError(\"Incorrect value for suite!\")\n",
    "        elif value not in ('A','2','3','4','5','6','7','8','9','10','J','Q','K'):\n",
    "            raise ValueError(\"Invalid value for value!\")\n",
    "        self._suite = suite\n",
    "        self._value = value\n",
    "        pass\n",
    "    \n",
    "    def __repr__(self):\n",
    "        return f\"{self._value} of {self._suite}\""
   ]
  },
  {
   "cell_type": "code",
   "execution_count": 16,
   "id": "a36e0568",
   "metadata": {},
   "outputs": [
    {
     "name": "stdout",
     "output_type": "stream",
     "text": [
      "[A of Hearts, 2 of Hearts, 3 of Hearts, 4 of Hearts, 5 of Hearts, 6 of Hearts, 7 of Hearts, 8 of Hearts, 9 of Hearts, 10 of Hearts, J of Hearts, Q of Hearts, K of Hearts, A of Diamonds, 2 of Diamonds, 3 of Diamonds, 4 of Diamonds, 5 of Diamonds, 6 of Diamonds, 7 of Diamonds, 8 of Diamonds, 9 of Diamonds, 10 of Diamonds, J of Diamonds, Q of Diamonds, K of Diamonds, A of Clubs, 2 of Clubs, 3 of Clubs, 4 of Clubs, 5 of Clubs, 6 of Clubs, 7 of Clubs, 8 of Clubs, 9 of Clubs, 10 of Clubs, J of Clubs, Q of Clubs, K of Clubs, A of Spades, 2 of Spades, 3 of Spades, 4 of Spades, 5 of Spades, 6 of Spades, 7 of Spades, 8 of Spades, 9 of Spades, 10 of Spades, J of Spades, Q of Spades, K of Spades]\n",
      "52\n"
     ]
    }
   ],
   "source": [
    "cards = []\n",
    "\n",
    "for s in ('Hearts', 'Diamonds', 'Clubs', 'Spades'):\n",
    "    for c in ('A','2','3','4','5','6','7','8','9','10','J','Q','K'):\n",
    "        cards.append(Card(s,c))\n",
    "\n",
    "print(cards)\n",
    "print(len(cards))"
   ]
  },
  {
   "cell_type": "code",
   "execution_count": 18,
   "id": "b6dcbf5a",
   "metadata": {},
   "outputs": [
    {
     "ename": "SyntaxError",
     "evalue": "invalid syntax (<ipython-input-18-7a74eb421637>, line 1)",
     "output_type": "error",
     "traceback": [
      "\u001b[1;36m  File \u001b[1;32m\"<ipython-input-18-7a74eb421637>\"\u001b[1;36m, line \u001b[1;32m1\u001b[0m\n\u001b[1;33m    print([Card(s,c) [for s in('Hearts', 'Diamonds', 'Clubs', 'Spades')]  for c in ('A','2','3','4','5','6','7','8','9','10','J','Q','K')])\u001b[0m\n\u001b[1;37m                      ^\u001b[0m\n\u001b[1;31mSyntaxError\u001b[0m\u001b[1;31m:\u001b[0m invalid syntax\n"
     ]
    }
   ],
   "source": [
    "print([Card(s,c) [for s in('Hearts', 'Diamonds', 'Clubs', 'Spades')]  for c in ('A','2','3','4','5','6','7','8','9','10','J','Q','K')])"
   ]
  },
  {
   "cell_type": "code",
   "execution_count": 48,
   "id": "faefaa32",
   "metadata": {},
   "outputs": [],
   "source": [
    "\n",
    "class Card:\n",
    "    \n",
    "    def __init__(self, suite, value):\n",
    "        if suite not in ('Hearts', 'Diamonds', 'Clubs', 'Spades'):\n",
    "            raise ValueError(\"Incorrect value for suite!\")\n",
    "        elif value not in ('A','2','3','4','5','6','7','8','9','10','J','Q','K'):\n",
    "            raise ValueError(\"Invalid value for value!\")\n",
    "        self._suite = suite\n",
    "        self._value = value\n",
    "        pass\n",
    "    \n",
    "    def __repr__(self):\n",
    "        return f\"{self._value} of {self._suite}\"\n",
    "\n",
    "class Deck:\n",
    "    def __init__(self, cards,deck_size=52):\n",
    "        self.deck_size = deck_size \n",
    "        self.cards = cards\n",
    "        \n",
    "    \n",
    "    def count(self):\n",
    "        return len(self.cards)\n",
    "    \n",
    "    def __repr__(self):\n",
    "        return f\"Deck of {len(self.cards)} cards\"\n",
    "    \n",
    "    def _deal(self, num):\n",
    "        if not self.cards:\n",
    "            raise ValueError(\"All cards have been dealt\")\n",
    "        elif len(self.cards) < num:\n",
    "            return [ self.cards.pop() for c in range(0, len(self.cards))]\n",
    "        else:\n",
    "            return [ self.cards.pop() for c in range(0, num)]\n",
    "    \n",
    "    def shuffle(self):\n",
    "        if len(self.cards) < self.deck_size:\n",
    "            print(f\"{len(self.cards)}<{self.deck_size}\")\n",
    "            raise ValueError(\"Only full decks can be shuffled\")\n",
    "        else:\n",
    "            from random import shuffle\n",
    "            shuffle(self.cards)\n",
    "            \n",
    "    def deal_card(self):\n",
    "        return self._deal(1)[0]\n",
    "    \n",
    "    def deal_hand(self, num):\n",
    "        return self._deal(num)  "
   ]
  },
  {
   "cell_type": "code",
   "execution_count": 59,
   "id": "ec82ce7b",
   "metadata": {},
   "outputs": [
    {
     "name": "stdout",
     "output_type": "stream",
     "text": [
      "[A of Hearts, 2 of Hearts, 3 of Hearts, 4 of Hearts, 5 of Hearts, 6 of Hearts, 7 of Hearts, 8 of Hearts, 9 of Hearts, 10 of Hearts, J of Hearts, Q of Hearts, K of Hearts, A of Diamonds, 2 of Diamonds, 3 of Diamonds, 4 of Diamonds, 5 of Diamonds, 6 of Diamonds, 7 of Diamonds, 8 of Diamonds, 9 of Diamonds, 10 of Diamonds, J of Diamonds, Q of Diamonds, K of Diamonds, A of Clubs, 2 of Clubs, 3 of Clubs, 4 of Clubs, 5 of Clubs, 6 of Clubs, 7 of Clubs, 8 of Clubs, 9 of Clubs, 10 of Clubs, J of Clubs, Q of Clubs, K of Clubs, A of Spades, 2 of Spades, 3 of Spades, 4 of Spades, 5 of Spades, 6 of Spades, 7 of Spades, 8 of Spades, 9 of Spades, 10 of Spades, J of Spades, Q of Spades, K of Spades]\n",
      "[A of Hearts, 2 of Hearts, 3 of Hearts, 4 of Hearts, 5 of Hearts, 6 of Hearts, 7 of Hearts, 8 of Hearts, 9 of Hearts, 10 of Hearts, J of Hearts, Q of Hearts, K of Hearts, A of Diamonds, 2 of Diamonds, 3 of Diamonds, 4 of Diamonds, 5 of Diamonds, 6 of Diamonds, 7 of Diamonds, 8 of Diamonds, 9 of Diamonds, 10 of Diamonds, J of Diamonds, Q of Diamonds, K of Diamonds, A of Clubs, 2 of Clubs, 3 of Clubs, 4 of Clubs, 5 of Clubs, 6 of Clubs, 7 of Clubs, 8 of Clubs, 9 of Clubs, 10 of Clubs, J of Clubs, Q of Clubs, K of Clubs, A of Spades, 2 of Spades, 3 of Spades, 4 of Spades, 5 of Spades, 6 of Spades, 7 of Spades, 8 of Spades, 9 of Spades, 10 of Spades, J of Spades, Q of Spades, K of Spades]\n"
     ]
    }
   ],
   "source": [
    "cards = []\n",
    "\n",
    "for s in ('Hearts', 'Diamonds', 'Clubs', 'Spades'):\n",
    "    for c in ('A','2','3','4','5','6','7','8','9','10','J','Q','K'):\n",
    "        cards.append(Card(s,c))\n",
    "print(cards)       \n",
    "cards = [Card(suite,value) for suite in ('Hearts', 'Diamonds', 'Clubs', 'Spades') for value in ('A','2','3','4','5','6','7','8','9','10','J','Q','K')]\n",
    "print(cards)"
   ]
  },
  {
   "cell_type": "code",
   "execution_count": 56,
   "id": "23aae92e",
   "metadata": {},
   "outputs": [
    {
     "name": "stdout",
     "output_type": "stream",
     "text": [
      "Deck of 52 cards\n"
     ]
    }
   ],
   "source": [
    "my_deck = Deck(cards)\n",
    "\n",
    "print(my_deck)"
   ]
  },
  {
   "cell_type": "code",
   "execution_count": 57,
   "id": "04ef9c53",
   "metadata": {},
   "outputs": [
    {
     "name": "stdout",
     "output_type": "stream",
     "text": [
      "52\n"
     ]
    }
   ],
   "source": [
    "print(my_deck.count())"
   ]
  },
  {
   "cell_type": "code",
   "execution_count": 58,
   "id": "c6145f36",
   "metadata": {},
   "outputs": [
    {
     "name": "stdout",
     "output_type": "stream",
     "text": [
      "A of Diamonds\n"
     ]
    }
   ],
   "source": [
    "my_deck.shuffle()\n",
    "card = my_deck.deal_card()\n",
    "print(card)"
   ]
  },
  {
   "cell_type": "code",
   "execution_count": 53,
   "id": "4bce8e53",
   "metadata": {},
   "outputs": [
    {
     "name": "stdout",
     "output_type": "stream",
     "text": [
      "[10 of Diamonds, A of Spades, K of Diamonds, 4 of Spades, 7 of Clubs]\n",
      "Deck of 46 cards\n"
     ]
    }
   ],
   "source": [
    "hand = my_deck.deal_hand(5)\n",
    "print(hand)\n",
    "print(my_deck)"
   ]
  },
  {
   "cell_type": "code",
   "execution_count": null,
   "id": "a68b98ea",
   "metadata": {},
   "outputs": [],
   "source": []
  }
 ],
 "metadata": {
  "kernelspec": {
   "display_name": "Python 3",
   "language": "python",
   "name": "python3"
  },
  "language_info": {
   "codemirror_mode": {
    "name": "ipython",
    "version": 3
   },
   "file_extension": ".py",
   "mimetype": "text/x-python",
   "name": "python",
   "nbconvert_exporter": "python",
   "pygments_lexer": "ipython3",
   "version": "3.8.3"
  }
 },
 "nbformat": 4,
 "nbformat_minor": 5
}
