{
 "cells": [
  {
   "cell_type": "markdown",
   "id": "9fbe7bf3",
   "metadata": {},
   "source": [
    "## Inheritance\n",
    "\n",
    "- syntax"
   ]
  },
  {
   "cell_type": "code",
   "execution_count": 1,
   "id": "afff5baf",
   "metadata": {},
   "outputs": [
    {
     "name": "stdout",
     "output_type": "stream",
     "text": [
      "meau..meow!\n",
      "cat is cool True\n"
     ]
    }
   ],
   "source": [
    "class Animal:\n",
    "    cool = True\n",
    "    def make_sound(self, sound):\n",
    "        print(f\"{sound}\")\n",
    "\n",
    "class Cat(Animal):\n",
    "    pass\n",
    "\n",
    "cat = Cat()\n",
    "cat.make_sound(\"meau..meow!\")\n",
    "print(f\"cat is cool {cat.cool}\")"
   ]
  },
  {
   "cell_type": "markdown",
   "id": "12fcde8b",
   "metadata": {},
   "source": [
    "## all about properties\n",
    "\n",
    "- in python there are no access modifiers as such\n",
    "- general notion on can follow is use _ before class member name\n",
    "- for getter and setter:\n",
    "- - use @property annotation to use method as getter\n",
    "- - @age.setter to denote setter method"
   ]
  },
  {
   "cell_type": "code",
   "execution_count": 35,
   "id": "158f996d",
   "metadata": {
    "scrolled": true
   },
   "outputs": [],
   "source": [
    "class Person:\n",
    "    def __init__(self, first, last, age):\n",
    "        self.first = first\n",
    "        self.last = last\n",
    "        self._age = age\n",
    "        \n",
    "    @property\n",
    "    def age(self):\n",
    "        return self._age\n",
    "\n",
    "    @age.setter\n",
    "    def age(self, value):\n",
    "        if value > 0:\n",
    "            self._age = value\n",
    "        else:\n",
    "            self._age = 0\n",
    "    @property\n",
    "    def full_name(self):\n",
    "        return f\"{self.first} {self.last}\"\n",
    "    \n",
    "    @full_name.setter\n",
    "    def full_name(self,name):\n",
    "        self.first, self.last = name.split(\" \")\n",
    "    \n",
    "    def __repr__(self):\n",
    "        return f\"{self.first},{self.last},{self.age},{self.full_name}\"\n"
   ]
  },
  {
   "cell_type": "code",
   "execution_count": 36,
   "id": "c0591ba1",
   "metadata": {},
   "outputs": [
    {
     "name": "stdout",
     "output_type": "stream",
     "text": [
      "Sunil,Gaikwad,10,Sunil Gaikwad\n",
      "10\n",
      "Sunil,Gaikwad,0,Sunil Gaikwad\n",
      "Solo,Ronald,0,Solo Ronald\n"
     ]
    }
   ],
   "source": [
    "p = Person('Sunil', 'Gaikwad', 10)\n",
    "\n",
    "print(p)\n",
    "print(p._age)\n",
    "p.age=-1\n",
    "print(p)\n",
    "p.full_name = \"Solo Ronald\"\n",
    "print(p)\n"
   ]
  },
  {
   "cell_type": "code",
   "execution_count": 37,
   "id": "f54223bd",
   "metadata": {},
   "outputs": [
    {
     "name": "stdout",
     "output_type": "stream",
     "text": [
      "{'first': 'Solo', 'last': 'Ronald', '_age': 0}\n"
     ]
    }
   ],
   "source": [
    "print(p.__dict__)"
   ]
  },
  {
   "cell_type": "markdown",
   "id": "480edce1",
   "metadata": {},
   "source": [
    "## super()"
   ]
  },
  {
   "cell_type": "code",
   "execution_count": 44,
   "id": "e97fae29",
   "metadata": {},
   "outputs": [],
   "source": [
    "class Animal:\n",
    "    def __init__(self, name, species):\n",
    "        self.name = name\n",
    "        self.species = species\n",
    "        \n",
    "    def make_sound(self, sound):\n",
    "        print(f\" This animal says {sound}\")\n",
    "    \n",
    "    def __repr__(self):\n",
    "        return f\"{self.name} is a {self.species}\""
   ]
  },
  {
   "cell_type": "code",
   "execution_count": 58,
   "id": "e9f959ad",
   "metadata": {},
   "outputs": [],
   "source": [
    "class Cat(Animal):\n",
    "    def __init__(self, name, species, breed, fav_toy):\n",
    "        super().__init__(name,species)\n",
    "        #Animal.__init__(self, name, species)\n",
    "        self.breed = breed\n",
    "        self.toy = fav_toy            \n",
    "    \n",
    "    def play(self):\n",
    "        print(f\"{self.name} plays with {self.toy}\")\n",
    "    \n",
    "    def __repr__(self):\n",
    "        return f\"{self.name},{self.species},{self.name},{self.breed},{self.toy}\""
   ]
  },
  {
   "cell_type": "code",
   "execution_count": 59,
   "id": "0795ec24",
   "metadata": {},
   "outputs": [
    {
     "name": "stdout",
     "output_type": "stream",
     "text": [
      "Micky,cat,Micky,Gavti,Mouse\n",
      "Micky plays with Mouse\n"
     ]
    }
   ],
   "source": [
    "blue = Cat(\"Micky\", \"cat\", \"Gavti\", \"Mouse\")\n",
    "print(blue)\n",
    "blue.play()"
   ]
  },
  {
   "cell_type": "markdown",
   "id": "ecdb8e16",
   "metadata": {},
   "source": [
    "## Multiple Inheritance"
   ]
  },
  {
   "cell_type": "code",
   "execution_count": 83,
   "id": "618b1239",
   "metadata": {},
   "outputs": [],
   "source": [
    "class Aquatory:\n",
    "    def __init__(self, name):\n",
    "        print(\"INIT Aquatory\")\n",
    "        self.name = name\n",
    "    \n",
    "    def swim(self):\n",
    "        print(f\"Hi im {self.name}, i can SWIM!!!\")\n",
    "    \n",
    "    def greet(self):\n",
    "        print(f\"I am {self.name}, from Sea!!\")\n",
    "\n",
    "class Ambulatory:\n",
    "    def __init__(self, name):\n",
    "        print(\"INIT Ambulatory\")\n",
    "        self.name = name\n",
    "    \n",
    "    def walk(self):\n",
    "        print(f\"Hi im {self.name}, i can WALK!!!\")\n",
    "    \n",
    "    def greet(self):\n",
    "        print(f\"I am {self.name}, from land!!\")\n",
    "    "
   ]
  },
  {
   "cell_type": "code",
   "execution_count": 108,
   "id": "275af6b8",
   "metadata": {},
   "outputs": [],
   "source": [
    "class Penguin(Ambulatory,Aquatory):\n",
    "    def __init__(self, name):\n",
    "        print(\"INIT Penguin\")\n",
    "        #super().__init__(name)  # Ambulatory (1st inherited class init is invoked)\n",
    "        Aquatory.__init__(self, name)\n",
    "        Ambulatory.__init__(self, name)\n"
   ]
  },
  {
   "cell_type": "code",
   "execution_count": 109,
   "id": "5be09fa1",
   "metadata": {},
   "outputs": [
    {
     "name": "stdout",
     "output_type": "stream",
     "text": [
      "INIT Penguin\n",
      "INIT Aquatory\n",
      "INIT Ambulatory\n"
     ]
    }
   ],
   "source": [
    "p = Penguin(\"Micky\")"
   ]
  },
  {
   "cell_type": "code",
   "execution_count": 100,
   "id": "ed0681b5",
   "metadata": {},
   "outputs": [
    {
     "name": "stdout",
     "output_type": "stream",
     "text": [
      "Micky\n"
     ]
    }
   ],
   "source": [
    "print(p.name)"
   ]
  },
  {
   "cell_type": "code",
   "execution_count": 101,
   "id": "66bc7fba",
   "metadata": {},
   "outputs": [
    {
     "name": "stdout",
     "output_type": "stream",
     "text": [
      "Hi im Micky, i can SWIM!!!\n"
     ]
    }
   ],
   "source": [
    "p.swim()"
   ]
  },
  {
   "cell_type": "code",
   "execution_count": 102,
   "id": "ec689b48",
   "metadata": {},
   "outputs": [
    {
     "name": "stdout",
     "output_type": "stream",
     "text": [
      "Hi im Micky, i can WALK!!!\n"
     ]
    }
   ],
   "source": [
    "p.walk()"
   ]
  },
  {
   "cell_type": "code",
   "execution_count": 103,
   "id": "95f02886",
   "metadata": {},
   "outputs": [
    {
     "name": "stdout",
     "output_type": "stream",
     "text": [
      "I am Micky, from land!!\n"
     ]
    }
   ],
   "source": [
    "p.greet()"
   ]
  },
  {
   "cell_type": "markdown",
   "id": "1dc673ab",
   "metadata": {},
   "source": [
    "## Method Resolution Order(MRO)\n",
    "- when a class is created python sets MRO(I which order python looks for methods on instance of that class)\n",
    "<br>\n",
    "<br>\n",
    "- - <code> \\_\\_mro\\_\\_</code>\n",
    "- - obj.mro()\n",
    "- - help(classname)"
   ]
  },
  {
   "cell_type": "code",
   "execution_count": 115,
   "id": "e7ae8547",
   "metadata": {},
   "outputs": [],
   "source": [
    "\n",
    "class Mother:\n",
    "    def __init__(self):\n",
    "        self.eye_color = \"brown\"\n",
    "        self.hair_color = \"dark brown\"\n",
    "        self.hair_type = \"curly\"\n",
    "\n",
    "class Father:\n",
    "    def __init__(self):\n",
    "        self.eye_color = \"blue\"\n",
    "        self.hair_color = \"blond\"\n",
    "        self.hair_type = \"straight\"\n",
    "        \n",
    "class Child(Mother, Father):\n",
    "    pass\n",
    "#     def __init__(self):\n",
    "#         super().__init__()\n"
   ]
  },
  {
   "cell_type": "code",
   "execution_count": 118,
   "id": "131352dc",
   "metadata": {},
   "outputs": [
    {
     "data": {
      "text/plain": [
       "[__main__.Child, __main__.Mother, __main__.Father, object]"
      ]
     },
     "execution_count": 118,
     "metadata": {},
     "output_type": "execute_result"
    }
   ],
   "source": [
    "Child.mro()"
   ]
  },
  {
   "cell_type": "code",
   "execution_count": 119,
   "id": "2fcaffe1",
   "metadata": {},
   "outputs": [
    {
     "data": {
      "text/plain": [
       "(__main__.Child, __main__.Mother, __main__.Father, object)"
      ]
     },
     "execution_count": 119,
     "metadata": {},
     "output_type": "execute_result"
    }
   ],
   "source": [
    "Child.__mro__"
   ]
  },
  {
   "cell_type": "code",
   "execution_count": 120,
   "id": "42795397",
   "metadata": {},
   "outputs": [
    {
     "name": "stdout",
     "output_type": "stream",
     "text": [
      "Help on class Child in module __main__:\n",
      "\n",
      "class Child(Mother, Father)\n",
      " |  Method resolution order:\n",
      " |      Child\n",
      " |      Mother\n",
      " |      Father\n",
      " |      builtins.object\n",
      " |  \n",
      " |  Methods inherited from Mother:\n",
      " |  \n",
      " |  __init__(self)\n",
      " |      Initialize self.  See help(type(self)) for accurate signature.\n",
      " |  \n",
      " |  ----------------------------------------------------------------------\n",
      " |  Data descriptors inherited from Mother:\n",
      " |  \n",
      " |  __dict__\n",
      " |      dictionary for instance variables (if defined)\n",
      " |  \n",
      " |  __weakref__\n",
      " |      list of weak references to the object (if defined)\n",
      "\n"
     ]
    }
   ],
   "source": [
    "help(Child)"
   ]
  },
  {
   "cell_type": "markdown",
   "id": "e39cd559",
   "metadata": {},
   "source": [
    "## Polymorphism\n",
    "\n",
    "- 1. Method Overriding\n",
    "- 2. Method Overloading"
   ]
  },
  {
   "cell_type": "code",
   "execution_count": 141,
   "id": "63f56cc7",
   "metadata": {},
   "outputs": [],
   "source": [
    "# Method Overridng\n",
    "class Animal:\n",
    "    def speak(self):\n",
    "        raise NotImplementedError(\"Subclass needs to iplement this method\")\n",
    "\n",
    "class Dog(Animal):\n",
    "    def speak(self):\n",
    "        print(\"Bhao Bhao\")\n",
    "\n",
    "class Cat(Animal):\n",
    "    @classmethod\n",
    "    def speak(self):\n",
    "        print(\"Meao Meao\")\n",
    "\n",
    "class Human(Animal):\n",
    "    pass\n",
    "\n",
    "\n",
    "        "
   ]
  },
  {
   "cell_type": "code",
   "execution_count": 142,
   "id": "f774090b",
   "metadata": {},
   "outputs": [
    {
     "name": "stdout",
     "output_type": "stream",
     "text": [
      "Bhao Bhao\n"
     ]
    }
   ],
   "source": [
    "Dog().speak()"
   ]
  },
  {
   "cell_type": "code",
   "execution_count": 143,
   "id": "8983555e",
   "metadata": {},
   "outputs": [
    {
     "name": "stdout",
     "output_type": "stream",
     "text": [
      "Meao Meao\n"
     ]
    }
   ],
   "source": [
    "Cat().speak()"
   ]
  },
  {
   "cell_type": "code",
   "execution_count": 144,
   "id": "948c7305",
   "metadata": {},
   "outputs": [
    {
     "ename": "NotImplementedError",
     "evalue": "Subclass needs to iplement this method",
     "output_type": "error",
     "traceback": [
      "\u001b[1;31m---------------------------------------------------------------------------\u001b[0m",
      "\u001b[1;31mNotImplementedError\u001b[0m                       Traceback (most recent call last)",
      "\u001b[1;32m<ipython-input-144-9c29f1f48df6>\u001b[0m in \u001b[0;36m<module>\u001b[1;34m\u001b[0m\n\u001b[1;32m----> 1\u001b[1;33m \u001b[0mHuman\u001b[0m\u001b[1;33m(\u001b[0m\u001b[1;33m)\u001b[0m\u001b[1;33m.\u001b[0m\u001b[0mspeak\u001b[0m\u001b[1;33m(\u001b[0m\u001b[1;33m)\u001b[0m\u001b[1;33m\u001b[0m\u001b[1;33m\u001b[0m\u001b[0m\n\u001b[0m",
      "\u001b[1;32m<ipython-input-141-1e05c94ed8fc>\u001b[0m in \u001b[0;36mspeak\u001b[1;34m(self)\u001b[0m\n\u001b[0;32m      2\u001b[0m \u001b[1;32mclass\u001b[0m \u001b[0mAnimal\u001b[0m\u001b[1;33m:\u001b[0m\u001b[1;33m\u001b[0m\u001b[1;33m\u001b[0m\u001b[0m\n\u001b[0;32m      3\u001b[0m     \u001b[1;32mdef\u001b[0m \u001b[0mspeak\u001b[0m\u001b[1;33m(\u001b[0m\u001b[0mself\u001b[0m\u001b[1;33m)\u001b[0m\u001b[1;33m:\u001b[0m\u001b[1;33m\u001b[0m\u001b[1;33m\u001b[0m\u001b[0m\n\u001b[1;32m----> 4\u001b[1;33m         \u001b[1;32mraise\u001b[0m \u001b[0mNotImplementedError\u001b[0m\u001b[1;33m(\u001b[0m\u001b[1;34m\"Subclass needs to iplement this method\"\u001b[0m\u001b[1;33m)\u001b[0m\u001b[1;33m\u001b[0m\u001b[1;33m\u001b[0m\u001b[0m\n\u001b[0m\u001b[0;32m      5\u001b[0m \u001b[1;33m\u001b[0m\u001b[0m\n\u001b[0;32m      6\u001b[0m \u001b[1;32mclass\u001b[0m \u001b[0mDog\u001b[0m\u001b[1;33m(\u001b[0m\u001b[0mAnimal\u001b[0m\u001b[1;33m)\u001b[0m\u001b[1;33m:\u001b[0m\u001b[1;33m\u001b[0m\u001b[1;33m\u001b[0m\u001b[0m\n",
      "\u001b[1;31mNotImplementedError\u001b[0m: Subclass needs to iplement this method"
     ]
    }
   ],
   "source": [
    "Human().speak()"
   ]
  },
  {
   "cell_type": "code",
   "execution_count": 145,
   "id": "98ac70dd",
   "metadata": {},
   "outputs": [
    {
     "name": "stdout",
     "output_type": "stream",
     "text": [
      "Meao Meao\n"
     ]
    }
   ],
   "source": [
    "Cat.speak()"
   ]
  },
  {
   "cell_type": "code",
   "execution_count": 149,
   "id": "103c04e0",
   "metadata": {},
   "outputs": [],
   "source": [
    "# Method Overloading\n",
    "# Special Methods\n",
    "\n",
    "class Human:\n",
    "    def __init__(self, height):\n",
    "        self.height = height\n",
    "        \n",
    "    def __len__(self):\n",
    "        return self.height\n",
    "    \n",
    "    def __add__(self, other):\n",
    "        return self.height + other.height\n",
    "    "
   ]
  },
  {
   "cell_type": "code",
   "execution_count": 150,
   "id": "0f2bc2b5",
   "metadata": {},
   "outputs": [
    {
     "data": {
      "text/plain": [
       "5"
      ]
     },
     "execution_count": 150,
     "metadata": {},
     "output_type": "execute_result"
    }
   ],
   "source": [
    "len(Human(5))"
   ]
  },
  {
   "cell_type": "code",
   "execution_count": 151,
   "id": "df15c215",
   "metadata": {},
   "outputs": [
    {
     "name": "stdout",
     "output_type": "stream",
     "text": [
      "6\n"
     ]
    }
   ],
   "source": [
    "l = [1,2,4,5,6,7]\n",
    "print(len(l))"
   ]
  },
  {
   "cell_type": "code",
   "execution_count": 152,
   "id": "2a4342bb",
   "metadata": {},
   "outputs": [],
   "source": [
    "small = Human(5)\n",
    "large = Human(7)"
   ]
  },
  {
   "cell_type": "code",
   "execution_count": 153,
   "id": "8c194dea",
   "metadata": {},
   "outputs": [
    {
     "name": "stdout",
     "output_type": "stream",
     "text": [
      "12\n"
     ]
    }
   ],
   "source": [
    "print(small+large)"
   ]
  },
  {
   "cell_type": "markdown",
   "id": "67b6a3df",
   "metadata": {},
   "source": [
    "## Overridning Dictionaries"
   ]
  },
  {
   "cell_type": "code",
   "execution_count": 160,
   "id": "4b7a5128",
   "metadata": {},
   "outputs": [],
   "source": [
    "class GrumpyDict(dict):\n",
    "    def __repr__(self):\n",
    "        print(\"None of your bussiness\")\n",
    "        return super().__repr__()\n",
    "    \n",
    "    def __missing__(self, key):\n",
    "        print(f\"Well {key} aint there\")\n",
    "        return super().__missing__()\n",
    "    \n",
    "    def __setitem__(self, key, value):\n",
    "        print(f\"Seriously you want to chaange {key} to {value}\")\n",
    "        print(\"OK Fine!!\")\n",
    "        return super().__setitem__(key, value)"
   ]
  },
  {
   "cell_type": "code",
   "execution_count": 161,
   "id": "fedc28c8",
   "metadata": {},
   "outputs": [
    {
     "name": "stdout",
     "output_type": "stream",
     "text": [
      "None of your bussiness\n",
      "{'name': 'sunil', 'age': 29}\n"
     ]
    }
   ],
   "source": [
    "d = GrumpyDict({\"name\":\"sunil\", \"age\":29})\n",
    "print(d)"
   ]
  },
  {
   "cell_type": "code",
   "execution_count": 163,
   "id": "3b15b9c1",
   "metadata": {},
   "outputs": [
    {
     "name": "stdout",
     "output_type": "stream",
     "text": [
      "Seriously you want to chaange age to 30\n",
      "OK Fine!!\n",
      "None of your bussiness\n",
      "{'name': 'sunil', 'age': 30}\n"
     ]
    }
   ],
   "source": [
    "d[\"age\"] = 30\n",
    "print(d)"
   ]
  },
  {
   "cell_type": "code",
   "execution_count": 164,
   "id": "1bebeb4a",
   "metadata": {},
   "outputs": [
    {
     "name": "stdout",
     "output_type": "stream",
     "text": [
      "Well marks aint there\n"
     ]
    },
    {
     "ename": "AttributeError",
     "evalue": "'super' object has no attribute '__missing__'",
     "output_type": "error",
     "traceback": [
      "\u001b[1;31m---------------------------------------------------------------------------\u001b[0m",
      "\u001b[1;31mAttributeError\u001b[0m                            Traceback (most recent call last)",
      "\u001b[1;32m<ipython-input-164-41cc0062244e>\u001b[0m in \u001b[0;36m<module>\u001b[1;34m\u001b[0m\n\u001b[1;32m----> 1\u001b[1;33m \u001b[0md\u001b[0m\u001b[1;33m[\u001b[0m\u001b[1;34m\"marks\"\u001b[0m\u001b[1;33m]\u001b[0m\u001b[1;33m\u001b[0m\u001b[1;33m\u001b[0m\u001b[0m\n\u001b[0m",
      "\u001b[1;32m<ipython-input-160-fba41a44ed00>\u001b[0m in \u001b[0;36m__missing__\u001b[1;34m(self, key)\u001b[0m\n\u001b[0;32m      6\u001b[0m     \u001b[1;32mdef\u001b[0m \u001b[0m__missing__\u001b[0m\u001b[1;33m(\u001b[0m\u001b[0mself\u001b[0m\u001b[1;33m,\u001b[0m \u001b[0mkey\u001b[0m\u001b[1;33m)\u001b[0m\u001b[1;33m:\u001b[0m\u001b[1;33m\u001b[0m\u001b[1;33m\u001b[0m\u001b[0m\n\u001b[0;32m      7\u001b[0m         \u001b[0mprint\u001b[0m\u001b[1;33m(\u001b[0m\u001b[1;34mf\"Well {key} aint there\"\u001b[0m\u001b[1;33m)\u001b[0m\u001b[1;33m\u001b[0m\u001b[1;33m\u001b[0m\u001b[0m\n\u001b[1;32m----> 8\u001b[1;33m         \u001b[1;32mreturn\u001b[0m \u001b[0msuper\u001b[0m\u001b[1;33m(\u001b[0m\u001b[1;33m)\u001b[0m\u001b[1;33m.\u001b[0m\u001b[0m__missing__\u001b[0m\u001b[1;33m(\u001b[0m\u001b[1;33m)\u001b[0m\u001b[1;33m\u001b[0m\u001b[1;33m\u001b[0m\u001b[0m\n\u001b[0m\u001b[0;32m      9\u001b[0m \u001b[1;33m\u001b[0m\u001b[0m\n\u001b[0;32m     10\u001b[0m     \u001b[1;32mdef\u001b[0m \u001b[0m__setitem__\u001b[0m\u001b[1;33m(\u001b[0m\u001b[0mself\u001b[0m\u001b[1;33m,\u001b[0m \u001b[0mkey\u001b[0m\u001b[1;33m,\u001b[0m \u001b[0mvalue\u001b[0m\u001b[1;33m)\u001b[0m\u001b[1;33m:\u001b[0m\u001b[1;33m\u001b[0m\u001b[1;33m\u001b[0m\u001b[0m\n",
      "\u001b[1;31mAttributeError\u001b[0m: 'super' object has no attribute '__missing__'"
     ]
    }
   ],
   "source": [
    "d[\"marks\"]"
   ]
  },
  {
   "cell_type": "code",
   "execution_count": null,
   "id": "0bf24b8b",
   "metadata": {},
   "outputs": [],
   "source": []
  },
  {
   "cell_type": "code",
   "execution_count": null,
   "id": "953b220d",
   "metadata": {},
   "outputs": [],
   "source": []
  },
  {
   "cell_type": "code",
   "execution_count": null,
   "id": "d07bbab1",
   "metadata": {},
   "outputs": [],
   "source": []
  }
 ],
 "metadata": {
  "kernelspec": {
   "display_name": "Python 3",
   "language": "python",
   "name": "python3"
  },
  "language_info": {
   "codemirror_mode": {
    "name": "ipython",
    "version": 3
   },
   "file_extension": ".py",
   "mimetype": "text/x-python",
   "name": "python",
   "nbconvert_exporter": "python",
   "pygments_lexer": "ipython3",
   "version": "3.8.3"
  }
 },
 "nbformat": 4,
 "nbformat_minor": 5
}
