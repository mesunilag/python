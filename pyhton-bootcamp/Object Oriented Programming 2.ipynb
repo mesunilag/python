{
 "cells": [
  {
   "cell_type": "markdown",
   "id": "02893fb7",
   "metadata": {},
   "source": [
    "## Inheritance\n",
    "\n",
    "- syntax"
   ]
  },
  {
   "cell_type": "code",
   "execution_count": 1,
   "id": "8e7ab8c1",
   "metadata": {},
   "outputs": [
    {
     "name": "stdout",
     "output_type": "stream",
     "text": [
      "meau..meow!\n",
      "cat is cool True\n"
     ]
    }
   ],
   "source": [
    "class Animal:\n",
    "    cool = True\n",
    "    def make_sound(self, sound):\n",
    "        print(f\"{sound}\")\n",
    "\n",
    "class Cat(Animal):\n",
    "    pass\n",
    "\n",
    "cat = Cat()\n",
    "cat.make_sound(\"meau..meow!\")\n",
    "print(f\"cat is cool {cat.cool}\")"
   ]
  },
  {
   "cell_type": "code",
   "execution_count": null,
   "id": "1ae15db4",
   "metadata": {},
   "outputs": [],
   "source": []
  }
 ],
 "metadata": {
  "kernelspec": {
   "display_name": "Python 3",
   "language": "python",
   "name": "python3"
  },
  "language_info": {
   "codemirror_mode": {
    "name": "ipython",
    "version": 3
   },
   "file_extension": ".py",
   "mimetype": "text/x-python",
   "name": "python",
   "nbconvert_exporter": "python",
   "pygments_lexer": "ipython3",
   "version": "3.8.3"
  }
 },
 "nbformat": 4,
 "nbformat_minor": 5
}
